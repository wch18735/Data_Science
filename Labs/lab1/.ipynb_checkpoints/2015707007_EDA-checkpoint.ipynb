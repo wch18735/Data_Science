{
 "cells": [
  {
   "cell_type": "markdown",
   "metadata": {
    "colab_type": "text",
    "id": "cgvAjhV6-H1z"
   },
   "source": [
    "Rename your notebooks in this format: <b>StudentNumber_EDA</b>\n",
    "\n",
    "For example: <b>2018160307_EDA</b>\n",
    "\n",
    "Set your kernel to private prior to the deadline (to avoid other students copying).\n",
    "\n",
    "Set it to public after the deadline (to allow us to check your codes).\n",
    "\n",
    "This kernel is divided into tasks by headers. Each cell is commented with the specific required task.\n",
    "Copy and edit this kernel. Do not delete pre-writen comments. Just insert your code.\n",
    "As much as possible, write comments in your code."
   ]
  },
  {
   "cell_type": "code",
   "execution_count": 1,
   "metadata": {
    "_cell_guid": "b1076dfc-b9ad-4769-8c92-a6c4dae69d19",
    "_uuid": "8f2839f25d086af736a60e9eeb907d3b93b6e0e5",
    "colab": {},
    "colab_type": "code",
    "id": "hnyru2e4-H10"
   },
   "outputs": [],
   "source": [
    "# Import libraries and packages\n",
    "import numpy as np # for array manipulations\n",
    "import pandas as pd # for reading data/dataframes\n",
    "import os # for directory\n",
    "from matplotlib import pyplot as plt # for visualization\n",
    "from datetime import datetime, timedelta\n",
    "from matplotlib import dates as mpl_dates\n",
    "\n",
    "# Use seaborn style to make visualization prettier\n",
    "plt.style.use('seaborn')"
   ]
  },
  {
   "cell_type": "code",
   "execution_count": 2,
   "metadata": {
    "colab": {},
    "colab_type": "code",
    "id": "i4YZ-LHH-H12",
    "outputId": "4d419a46-68d5-462c-ac22-a7e28b1d3fbd"
   },
   "outputs": [
    {
     "name": "stdout",
     "output_type": "stream",
     "text": [
      "./data/Case.csv\n",
      "./data/PatientInfo.csv\n",
      "./data/Policy.csv\n",
      "./data/Region.csv\n",
      "./data/SearchTrend.csv\n",
      "./data/SeoulFloating.csv\n",
      "./data/Time.csv\n",
      "./data/TimeAge.csv\n",
      "./data/TimeGender.csv\n",
      "./data/TimeProvince.csv\n",
      "./data/Weather.csv\n"
     ]
    }
   ],
   "source": [
    "# Get paths of datasets to be used for EDA\n",
    "eda_root = './data/'\n",
    "eda_paths = sorted([os.path.join(eda_root, x) for x in os.listdir(eda_root)])\n",
    "for path in eda_paths:\n",
    "    print(path)"
   ]
  },
  {
   "cell_type": "markdown",
   "metadata": {
    "colab_type": "text",
    "id": "RPfLIzI4-H15"
   },
   "source": [
    "# Task 1: Age"
   ]
  },
  {
   "cell_type": "code",
   "execution_count": 3,
   "metadata": {
    "colab": {},
    "colab_type": "code",
    "id": "JgIRuozT-H15",
    "outputId": "07ecfc0a-4f33-44c0-bf11-2eca4e9a458c"
   },
   "outputs": [
    {
     "data": {
      "text/html": [
       "<div>\n",
       "<style scoped>\n",
       "    .dataframe tbody tr th:only-of-type {\n",
       "        vertical-align: middle;\n",
       "    }\n",
       "\n",
       "    .dataframe tbody tr th {\n",
       "        vertical-align: top;\n",
       "    }\n",
       "\n",
       "    .dataframe thead th {\n",
       "        text-align: right;\n",
       "    }\n",
       "</style>\n",
       "<table border=\"1\" class=\"dataframe\">\n",
       "  <thead>\n",
       "    <tr style=\"text-align: right;\">\n",
       "      <th></th>\n",
       "      <th>date</th>\n",
       "      <th>time</th>\n",
       "      <th>age</th>\n",
       "      <th>confirmed</th>\n",
       "      <th>deceased</th>\n",
       "    </tr>\n",
       "  </thead>\n",
       "  <tbody>\n",
       "    <tr>\n",
       "      <td>0</td>\n",
       "      <td>2020-03-02</td>\n",
       "      <td>0</td>\n",
       "      <td>0s</td>\n",
       "      <td>32</td>\n",
       "      <td>0</td>\n",
       "    </tr>\n",
       "    <tr>\n",
       "      <td>1</td>\n",
       "      <td>2020-03-02</td>\n",
       "      <td>0</td>\n",
       "      <td>10s</td>\n",
       "      <td>169</td>\n",
       "      <td>0</td>\n",
       "    </tr>\n",
       "    <tr>\n",
       "      <td>2</td>\n",
       "      <td>2020-03-02</td>\n",
       "      <td>0</td>\n",
       "      <td>20s</td>\n",
       "      <td>1235</td>\n",
       "      <td>0</td>\n",
       "    </tr>\n",
       "    <tr>\n",
       "      <td>3</td>\n",
       "      <td>2020-03-02</td>\n",
       "      <td>0</td>\n",
       "      <td>30s</td>\n",
       "      <td>506</td>\n",
       "      <td>1</td>\n",
       "    </tr>\n",
       "    <tr>\n",
       "      <td>4</td>\n",
       "      <td>2020-03-02</td>\n",
       "      <td>0</td>\n",
       "      <td>40s</td>\n",
       "      <td>633</td>\n",
       "      <td>1</td>\n",
       "    </tr>\n",
       "  </tbody>\n",
       "</table>\n",
       "</div>"
      ],
      "text/plain": [
       "         date  time  age  confirmed  deceased\n",
       "0  2020-03-02     0   0s         32         0\n",
       "1  2020-03-02     0  10s        169         0\n",
       "2  2020-03-02     0  20s       1235         0\n",
       "3  2020-03-02     0  30s        506         1\n",
       "4  2020-03-02     0  40s        633         1"
      ]
     },
     "execution_count": 3,
     "metadata": {},
     "output_type": "execute_result"
    }
   ],
   "source": [
    "age_csv = pd.read_csv(eda_paths[7]) # read the data as DataFrame\n",
    "\n",
    "# show first few rows\n",
    "age_csv.head()"
   ]
  },
  {
   "cell_type": "code",
   "execution_count": 4,
   "metadata": {},
   "outputs": [
    {
     "data": {
      "text/html": [
       "<div>\n",
       "<style scoped>\n",
       "    .dataframe tbody tr th:only-of-type {\n",
       "        vertical-align: middle;\n",
       "    }\n",
       "\n",
       "    .dataframe tbody tr th {\n",
       "        vertical-align: top;\n",
       "    }\n",
       "\n",
       "    .dataframe thead th {\n",
       "        text-align: right;\n",
       "    }\n",
       "</style>\n",
       "<table border=\"1\" class=\"dataframe\">\n",
       "  <thead>\n",
       "    <tr style=\"text-align: right;\">\n",
       "      <th></th>\n",
       "      <th>time</th>\n",
       "      <th>confirmed</th>\n",
       "      <th>deceased</th>\n",
       "    </tr>\n",
       "  </thead>\n",
       "  <tbody>\n",
       "    <tr>\n",
       "      <td>count</td>\n",
       "      <td>1089.0</td>\n",
       "      <td>1089.000000</td>\n",
       "      <td>1089.000000</td>\n",
       "    </tr>\n",
       "    <tr>\n",
       "      <td>mean</td>\n",
       "      <td>0.0</td>\n",
       "      <td>1158.129477</td>\n",
       "      <td>23.419651</td>\n",
       "    </tr>\n",
       "    <tr>\n",
       "      <td>std</td>\n",
       "      <td>0.0</td>\n",
       "      <td>822.619497</td>\n",
       "      <td>37.387911</td>\n",
       "    </tr>\n",
       "    <tr>\n",
       "      <td>min</td>\n",
       "      <td>0.0</td>\n",
       "      <td>32.000000</td>\n",
       "      <td>0.000000</td>\n",
       "    </tr>\n",
       "    <tr>\n",
       "      <td>25%</td>\n",
       "      <td>0.0</td>\n",
       "      <td>530.000000</td>\n",
       "      <td>0.000000</td>\n",
       "    </tr>\n",
       "    <tr>\n",
       "      <td>50%</td>\n",
       "      <td>0.0</td>\n",
       "      <td>1052.000000</td>\n",
       "      <td>3.000000</td>\n",
       "    </tr>\n",
       "    <tr>\n",
       "      <td>75%</td>\n",
       "      <td>0.0</td>\n",
       "      <td>1537.000000</td>\n",
       "      <td>35.000000</td>\n",
       "    </tr>\n",
       "    <tr>\n",
       "      <td>max</td>\n",
       "      <td>0.0</td>\n",
       "      <td>3362.000000</td>\n",
       "      <td>139.000000</td>\n",
       "    </tr>\n",
       "  </tbody>\n",
       "</table>\n",
       "</div>"
      ],
      "text/plain": [
       "         time    confirmed     deceased\n",
       "count  1089.0  1089.000000  1089.000000\n",
       "mean      0.0  1158.129477    23.419651\n",
       "std       0.0   822.619497    37.387911\n",
       "min       0.0    32.000000     0.000000\n",
       "25%       0.0   530.000000     0.000000\n",
       "50%       0.0  1052.000000     3.000000\n",
       "75%       0.0  1537.000000    35.000000\n",
       "max       0.0  3362.000000   139.000000"
      ]
     },
     "execution_count": 4,
     "metadata": {},
     "output_type": "execute_result"
    }
   ],
   "source": [
    "# describe(): 어떤 feature 들이 있는지\n",
    "age_csv.describe()"
   ]
  },
  {
   "cell_type": "code",
   "execution_count": 5,
   "metadata": {},
   "outputs": [
    {
     "name": "stdout",
     "output_type": "stream",
     "text": [
      "<class 'pandas.core.frame.DataFrame'>\n",
      "RangeIndex: 1089 entries, 0 to 1088\n",
      "Data columns (total 5 columns):\n",
      "date         1089 non-null object\n",
      "time         1089 non-null int64\n",
      "age          1089 non-null object\n",
      "confirmed    1089 non-null int64\n",
      "deceased     1089 non-null int64\n",
      "dtypes: int64(3), object(2)\n",
      "memory usage: 42.7+ KB\n"
     ]
    }
   ],
   "source": [
    "age_csv.info()"
   ]
  },
  {
   "cell_type": "code",
   "execution_count": 6,
   "metadata": {
    "colab": {},
    "colab_type": "code",
    "id": "q-0Y7c03-H17",
    "outputId": "a910b509-3db9-4d3d-dad3-28a5f2283273"
   },
   "outputs": [
    {
     "data": {
      "text/html": [
       "<div>\n",
       "<style scoped>\n",
       "    .dataframe tbody tr th:only-of-type {\n",
       "        vertical-align: middle;\n",
       "    }\n",
       "\n",
       "    .dataframe tbody tr th {\n",
       "        vertical-align: top;\n",
       "    }\n",
       "\n",
       "    .dataframe thead th {\n",
       "        text-align: right;\n",
       "    }\n",
       "</style>\n",
       "<table border=\"1\" class=\"dataframe\">\n",
       "  <thead>\n",
       "    <tr style=\"text-align: right;\">\n",
       "      <th></th>\n",
       "      <th>confirmed</th>\n",
       "      <th>deceased</th>\n",
       "    </tr>\n",
       "  </thead>\n",
       "  <tbody>\n",
       "    <tr>\n",
       "      <td>mean</td>\n",
       "      <td>1158.129477</td>\n",
       "      <td>23.419651</td>\n",
       "    </tr>\n",
       "    <tr>\n",
       "      <td>std</td>\n",
       "      <td>822.619497</td>\n",
       "      <td>37.387911</td>\n",
       "    </tr>\n",
       "    <tr>\n",
       "      <td>min</td>\n",
       "      <td>32.000000</td>\n",
       "      <td>0.000000</td>\n",
       "    </tr>\n",
       "    <tr>\n",
       "      <td>25%</td>\n",
       "      <td>530.000000</td>\n",
       "      <td>0.000000</td>\n",
       "    </tr>\n",
       "    <tr>\n",
       "      <td>50%</td>\n",
       "      <td>1052.000000</td>\n",
       "      <td>3.000000</td>\n",
       "    </tr>\n",
       "    <tr>\n",
       "      <td>75%</td>\n",
       "      <td>1537.000000</td>\n",
       "      <td>35.000000</td>\n",
       "    </tr>\n",
       "    <tr>\n",
       "      <td>max</td>\n",
       "      <td>3362.000000</td>\n",
       "      <td>139.000000</td>\n",
       "    </tr>\n",
       "  </tbody>\n",
       "</table>\n",
       "</div>"
      ],
      "text/plain": [
       "        confirmed    deceased\n",
       "mean  1158.129477   23.419651\n",
       "std    822.619497   37.387911\n",
       "min     32.000000    0.000000\n",
       "25%    530.000000    0.000000\n",
       "50%   1052.000000    3.000000\n",
       "75%   1537.000000   35.000000\n",
       "max   3362.000000  139.000000"
      ]
     },
     "execution_count": 6,
     "metadata": {},
     "output_type": "execute_result"
    }
   ],
   "source": [
    "# show the basic statistics for the confirmed and deceased cases\n",
    "age_csv.describe().drop(columns=['time'])[1:] # remove time and don't show count"
   ]
  },
  {
   "cell_type": "code",
   "execution_count": 7,
   "metadata": {
    "colab": {},
    "colab_type": "code",
    "id": "72-RZJBD-H19",
    "outputId": "4f9b1583-99fb-4d09-eb1e-13eec52cd453"
   },
   "outputs": [
    {
     "name": "stdout",
     "output_type": "stream",
     "text": [
      "Answer to Q1: 0\n",
      "Answer to Q2: 1089\n",
      "Answer to Q2: 1089\n",
      "Answer to Q3: 5\n",
      "Answer to Q3: 5\n",
      "Answer to Q4: 9\n",
      "Answer to Q5: 120 days 00:00:00\n"
     ]
    }
   ],
   "source": [
    "# It's optional to print the answers to the questions, but for the sake of demonstration:\n",
    "# Q1\n",
    "# check for missing values\n",
    "# isnull() returns a boolean value in each cell indicating whether there is a missing or NaN value\n",
    "# one way to check if the dataframe has any missing value at all, we can use numpy's unique function\n",
    "A1 = 0 if True not in np.unique(age_csv.isnull().values) else 1\n",
    "print('Answer to Q1:', A1)\n",
    "# the result means that there are no missing values since only False is the unique value in all cells\n",
    "\n",
    "# Q2\n",
    "# there can be many ways of arriving to the answer\n",
    "# just showing two\n",
    "print('Answer to Q2:', len(age_csv))\n",
    "print('Answer to Q2:', age_csv.shape[0])\n",
    "\n",
    "# Q3\n",
    "# again, there can be many ways of arriving to the answer\n",
    "# just showing two\n",
    "print('Answer to Q3:', len(age_csv.columns))\n",
    "print('Answer to Q3:', age_csv.shape[1])\n",
    "\n",
    "#Q4\n",
    "# checking for the number of unique values in a column\n",
    "print('Answer to Q4:', age_csv['age'].nunique())\n",
    "\n",
    "# convert date column from string to datetime\n",
    "age_csv['date'] = pd.to_datetime(age_csv['date']) # already in a good format\n",
    "\n",
    "# get the start date\n",
    "start_date = age_csv['date'].min()\n",
    "# get the end date\n",
    "end_date = age_csv['date'].max()\n",
    "# get the total number of days from start to end\n",
    "print('Answer to Q5:', end_date-start_date)"
   ]
  },
  {
   "cell_type": "code",
   "execution_count": 8,
   "metadata": {
    "colab": {},
    "colab_type": "code",
    "id": "HQTs864D-H1_",
    "outputId": "d1c68e4c-f330-4cce-96c2-ce0ae8ee18dc"
   },
   "outputs": [
    {
     "name": "stderr",
     "output_type": "stream",
     "text": [
      "C:\\Users\\CheolHwang\\Anaconda3\\lib\\site-packages\\pandas\\plotting\\_matplotlib\\converter.py:103: FutureWarning: Using an implicitly registered datetime converter for a matplotlib plotting method. The converter was registered by pandas on import. Future versions of pandas will require you to explicitly register matplotlib converters.\n",
      "\n",
      "To register the converters:\n",
      "\t>>> from pandas.plotting import register_matplotlib_converters\n",
      "\t>>> register_matplotlib_converters()\n",
      "  warnings.warn(msg, FutureWarning)\n"
     ]
    },
    {
     "data": {
      "image/png": "[encoded data removed]",
      "text/plain": [
       "<Figure size 1080x720 with 1 Axes>"
      ]
     },
     "metadata": {
      "needs_background": "light"
     },
     "output_type": "display_data"
    }
   ],
   "source": [
    "fig = plt.figure(figsize=(15,10)) # set the image size\n",
    "# set the title\n",
    "plt.title('Cumulative confirmed cases by Age')\n",
    "# plot for each age group\n",
    "plt.plot('date', 'confirmed', data=age_csv[age_csv['age'] == '0s'], label='0s')\n",
    "plt.plot('date', 'confirmed', data=age_csv[age_csv['age'] == '10s'], label='10s', linestyle='--') # change line style\n",
    "plt.plot('date', 'confirmed', data=age_csv[age_csv['age'] == '20s'], label='20s', color='red') # change color\n",
    "plt.plot('date', 'confirmed', data=age_csv[age_csv['age'] == '30s'], label='30s')\n",
    "plt.plot('date', 'confirmed', data=age_csv[age_csv['age'] == '40s'], label='40s')\n",
    "plt.plot('date', 'confirmed', data=age_csv[age_csv['age'] == '50s'], label='50s')\n",
    "plt.plot('date', 'confirmed', data=age_csv[age_csv['age'] == '60s'], label='60s')\n",
    "plt.plot('date', 'confirmed', data=age_csv[age_csv['age'] == '70s'], label='70s')\n",
    "plt.plot('date', 'confirmed', data=age_csv[age_csv['age'] == '80s'], label='80s')\n",
    "# show the legend\n",
    "plt.legend()\n",
    "# add axis labels\n",
    "plt.xlabel('Date')\n",
    "plt.ylabel('Number of cases')\n",
    "# rotate the dates for better visibility\n",
    "plt.gcf().autofmt_xdate()\n",
    "# show the plot\n",
    "plt.show()"
   ]
  },
  {
   "cell_type": "code",
   "execution_count": 9,
   "metadata": {
    "colab": {},
    "colab_type": "code",
    "id": "hyaEafBv-H2B",
    "outputId": "54a73332-2b54-44aa-87c8-b4ef8ae58345"
   },
   "outputs": [
    {
     "data": {
      "image/png": "[encoded data removed]",
      "text/plain": [
       "<Figure size 1080x720 with 1 Axes>"
      ]
     },
     "metadata": {
      "needs_background": "light"
     },
     "output_type": "display_data"
    }
   ],
   "source": [
    "# here is another way you can plot\n",
    "\n",
    "fig = plt.figure(figsize=(15,10)) # set the image size\n",
    "# set the title\n",
    "plt.title('Cumulative confirmed cases by Age')\n",
    "\n",
    "# loop over the age groups\n",
    "for x in age_csv.age.unique():\n",
    "    plt.plot('date', 'confirmed', data=age_csv[age_csv['age'] == x], label=x)\n",
    "\n",
    "# show the legend\n",
    "plt.legend()\n",
    "# add axis labels\n",
    "plt.xlabel('Date')\n",
    "plt.ylabel('Number of cases')\n",
    "# rotate the dates for better visibility\n",
    "plt.gcf().autofmt_xdate()\n",
    "# show the plot\n",
    "plt.show()\n",
    "\n",
    "# you can also make your own plotting funciton"
   ]
  },
  {
   "cell_type": "code",
   "execution_count": 10,
   "metadata": {
    "colab": {},
    "colab_type": "code",
    "id": "p3gufNzI-H2D",
    "outputId": "f910890f-15f0-4e39-9b02-88dc0967418d"
   },
   "outputs": [
    {
     "name": "stdout",
     "output_type": "stream",
     "text": [
      "Answer to Q6: 2\n",
      "Answer to Q7: 1500\n"
     ]
    }
   ],
   "source": [
    "# answers to Q6 and Q7 can be eye-balled from the plot\n",
    "print('Answer to Q6:', 2)\n",
    "print('Answer to Q7:', 1500)"
   ]
  },
  {
   "cell_type": "code",
   "execution_count": 11,
   "metadata": {
    "colab": {},
    "colab_type": "code",
    "id": "cOd7pXTL-H2F"
   },
   "outputs": [
    {
     "name": "stdout",
     "output_type": "stream",
     "text": [
      "0\n",
      "0\n",
      "0\n",
      "2\n",
      "3\n",
      "15\n",
      "41\n",
      "82\n",
      "139\n"
     ]
    }
   ],
   "source": [
    "total_deceased = [] # get the total number of deceased\n",
    "age_groups = age_csv.age.unique() # get the unique values under the age column\n",
    "for x in age_groups:\n",
    "    total_deceased.append(age_csv[age_csv['age']==x]['deceased'].max())\n",
    "    print(age_csv[age_csv['age']==x]['deceased'].max())"
   ]
  },
  {
   "cell_type": "code",
   "execution_count": 12,
   "metadata": {
    "colab": {},
    "colab_type": "code",
    "id": "BDyxfPyJ-H2H",
    "outputId": "70a88b70-5cbe-4ffc-e46b-f2c3dc34ad57"
   },
   "outputs": [
    {
     "data": {
      "image/png": "[encoded data removed]",
      "text/plain": [
       "<Figure size 1080x720 with 1 Axes>"
      ]
     },
     "metadata": {
      "needs_background": "light"
     },
     "output_type": "display_data"
    }
   ],
   "source": [
    "# plot a bar graph for the deceased cases\n",
    "fig = plt.figure(figsize=(15,10))\n",
    "plt.bar(age_groups, total_deceased, color=['C0', 'C1', 'C2', 'C3', 'C4', 'C5', 'C6', 'C7', 'C8'])\n",
    "plt.title('Total deceased cases (by June 30, 2020)')\n",
    "plt.xlabel('Age group')\n",
    "plt.ylabel('Number of deceased patients')\n",
    "plt.show()"
   ]
  },
  {
   "cell_type": "code",
   "execution_count": 13,
   "metadata": {
    "colab": {},
    "colab_type": "code",
    "id": "eUlw6QAV-H2J",
    "outputId": "8e8dd5cc-7532-42de-b71c-5ce474f882c1"
   },
   "outputs": [],
   "source": [
    "# again, answers to Q8 and Q9 can be eye-balled from the plot\n"
   ]
  },
  {
   "cell_type": "code",
   "execution_count": 14,
   "metadata": {},
   "outputs": [
    {
     "data": {
      "text/html": [
       "<div>\n",
       "<style scoped>\n",
       "    .dataframe tbody tr th:only-of-type {\n",
       "        vertical-align: middle;\n",
       "    }\n",
       "\n",
       "    .dataframe tbody tr th {\n",
       "        vertical-align: top;\n",
       "    }\n",
       "\n",
       "    .dataframe thead th {\n",
       "        text-align: right;\n",
       "    }\n",
       "</style>\n",
       "<table border=\"1\" class=\"dataframe\">\n",
       "  <thead>\n",
       "    <tr style=\"text-align: right;\">\n",
       "      <th></th>\n",
       "      <th>date</th>\n",
       "      <th>time</th>\n",
       "      <th>age</th>\n",
       "      <th>confirmed</th>\n",
       "      <th>deceased</th>\n",
       "    </tr>\n",
       "  </thead>\n",
       "  <tbody>\n",
       "    <tr>\n",
       "      <td>0</td>\n",
       "      <td>2020-03-02</td>\n",
       "      <td>0</td>\n",
       "      <td>0s</td>\n",
       "      <td>32</td>\n",
       "      <td>0</td>\n",
       "    </tr>\n",
       "    <tr>\n",
       "      <td>1</td>\n",
       "      <td>2020-03-02</td>\n",
       "      <td>0</td>\n",
       "      <td>10s</td>\n",
       "      <td>169</td>\n",
       "      <td>0</td>\n",
       "    </tr>\n",
       "    <tr>\n",
       "      <td>2</td>\n",
       "      <td>2020-03-02</td>\n",
       "      <td>0</td>\n",
       "      <td>20s</td>\n",
       "      <td>1235</td>\n",
       "      <td>0</td>\n",
       "    </tr>\n",
       "    <tr>\n",
       "      <td>3</td>\n",
       "      <td>2020-03-02</td>\n",
       "      <td>0</td>\n",
       "      <td>30s</td>\n",
       "      <td>506</td>\n",
       "      <td>1</td>\n",
       "    </tr>\n",
       "    <tr>\n",
       "      <td>4</td>\n",
       "      <td>2020-03-02</td>\n",
       "      <td>0</td>\n",
       "      <td>40s</td>\n",
       "      <td>633</td>\n",
       "      <td>1</td>\n",
       "    </tr>\n",
       "    <tr>\n",
       "      <td>...</td>\n",
       "      <td>...</td>\n",
       "      <td>...</td>\n",
       "      <td>...</td>\n",
       "      <td>...</td>\n",
       "      <td>...</td>\n",
       "    </tr>\n",
       "    <tr>\n",
       "      <td>1084</td>\n",
       "      <td>2020-06-30</td>\n",
       "      <td>0</td>\n",
       "      <td>40s</td>\n",
       "      <td>1681</td>\n",
       "      <td>3</td>\n",
       "    </tr>\n",
       "    <tr>\n",
       "      <td>1085</td>\n",
       "      <td>2020-06-30</td>\n",
       "      <td>0</td>\n",
       "      <td>50s</td>\n",
       "      <td>2286</td>\n",
       "      <td>15</td>\n",
       "    </tr>\n",
       "    <tr>\n",
       "      <td>1086</td>\n",
       "      <td>2020-06-30</td>\n",
       "      <td>0</td>\n",
       "      <td>60s</td>\n",
       "      <td>1668</td>\n",
       "      <td>41</td>\n",
       "    </tr>\n",
       "    <tr>\n",
       "      <td>1087</td>\n",
       "      <td>2020-06-30</td>\n",
       "      <td>0</td>\n",
       "      <td>70s</td>\n",
       "      <td>850</td>\n",
       "      <td>82</td>\n",
       "    </tr>\n",
       "    <tr>\n",
       "      <td>1088</td>\n",
       "      <td>2020-06-30</td>\n",
       "      <td>0</td>\n",
       "      <td>80s</td>\n",
       "      <td>556</td>\n",
       "      <td>139</td>\n",
       "    </tr>\n",
       "  </tbody>\n",
       "</table>\n",
       "<p>1089 rows × 5 columns</p>\n",
       "</div>"
      ],
      "text/plain": [
       "           date  time  age  confirmed  deceased\n",
       "0    2020-03-02     0   0s         32         0\n",
       "1    2020-03-02     0  10s        169         0\n",
       "2    2020-03-02     0  20s       1235         0\n",
       "3    2020-03-02     0  30s        506         1\n",
       "4    2020-03-02     0  40s        633         1\n",
       "...         ...   ...  ...        ...       ...\n",
       "1084 2020-06-30     0  40s       1681         3\n",
       "1085 2020-06-30     0  50s       2286        15\n",
       "1086 2020-06-30     0  60s       1668        41\n",
       "1087 2020-06-30     0  70s        850        82\n",
       "1088 2020-06-30     0  80s        556       139\n",
       "\n",
       "[1089 rows x 5 columns]"
      ]
     },
     "execution_count": 14,
     "metadata": {},
     "output_type": "execute_result"
    }
   ],
   "source": [
    "age_csv"
   ]
  },
  {
   "cell_type": "markdown",
   "metadata": {
    "colab_type": "text",
    "id": "Oa7f0jSR-H2L"
   },
   "source": [
    "You can use matplotlib to create different kinds of plots. See [this page](https://matplotlib.org/tutorials/introductory/sample_plots.html) for more details."
   ]
  },
  {
   "cell_type": "markdown",
   "metadata": {
    "colab_type": "text",
    "id": "a9EneVaI-H2L"
   },
   "source": [
    "# Task 2: Region"
   ]
  },
  {
   "cell_type": "markdown",
   "metadata": {},
   "source": [
    "#### worng read\n",
    "```Python\n",
    "# load/read the data\n",
    "region_csv = pd.read_csv('./data/Region.csv')\n",
    "\n",
    "# 단순 확진자 수 (비율, 자가 격리 환자 수 제외)\n",
    "li = [x for x in region_df.columns.to_list() if not 'ratio' in x]\n",
    "li = [x for x in li if not 'code' in x]\n",
    "li = [x for x in li if not 'tude' in x]\n",
    "li = [x for x in li if not 'nursing' in x]\n",
    "\n",
    "# 도시 별 확진자 수 그래프\n",
    "total_confirmed = []\n",
    "provinces = region_csv.province.unique()\n",
    "\n",
    "for x in region_csv[li].set_index('city').loc[provinces].sum(axis=1):\n",
    "    total_confirmed.append(x)\n",
    "\n",
    "len(provinces)\n",
    "\n",
    "# plot a bar graph for the confirmed case include korea\n",
    "fig = plt.figure(figsize=(15,10))\n",
    "plt.bar(provinces, total_confirmed, color=['C{}'.format(x) for x in range(len(provinces))])\n",
    "plt.title('Total confirmed patient number for provinces')\n",
    "plt.xlabel('Provinces')\n",
    "plt.ylabel('Number of confirmed patients')\n",
    "plt.show()\n",
    "```\n",
    "\n",
    "##### Q10. What is the highest number of confirmed cases?\n",
    "```Python\n",
    "# 독립된 지방들\n",
    "province = list(region_csv['province'].unique())\n",
    "\n",
    "# 각 도시별 확진자 수\n",
    "region_csv.set_index('city').loc[province]\n",
    "\n",
    "# 각 도시별 확진자 수\n",
    "region_csv.set_index('city')\n",
    "```"
   ]
  },
  {
   "cell_type": "code",
   "execution_count": 15,
   "metadata": {},
   "outputs": [],
   "source": [
    "# read csv\n",
    "region_csv = pd.read_csv('./data/TimeProvince.csv')"
   ]
  },
  {
   "cell_type": "code",
   "execution_count": 16,
   "metadata": {},
   "outputs": [
    {
     "data": {
      "text/html": [
       "<div>\n",
       "<style scoped>\n",
       "    .dataframe tbody tr th:only-of-type {\n",
       "        vertical-align: middle;\n",
       "    }\n",
       "\n",
       "    .dataframe tbody tr th {\n",
       "        vertical-align: top;\n",
       "    }\n",
       "\n",
       "    .dataframe thead th {\n",
       "        text-align: right;\n",
       "    }\n",
       "</style>\n",
       "<table border=\"1\" class=\"dataframe\">\n",
       "  <thead>\n",
       "    <tr style=\"text-align: right;\">\n",
       "      <th></th>\n",
       "      <th>time</th>\n",
       "      <th>confirmed</th>\n",
       "      <th>released</th>\n",
       "      <th>deceased</th>\n",
       "    </tr>\n",
       "  </thead>\n",
       "  <tbody>\n",
       "    <tr>\n",
       "      <td>count</td>\n",
       "      <td>2771.000000</td>\n",
       "      <td>2771.000000</td>\n",
       "      <td>2771.000000</td>\n",
       "      <td>2771.000000</td>\n",
       "    </tr>\n",
       "    <tr>\n",
       "      <td>mean</td>\n",
       "      <td>4.122699</td>\n",
       "      <td>444.308192</td>\n",
       "      <td>320.726453</td>\n",
       "      <td>9.239986</td>\n",
       "    </tr>\n",
       "    <tr>\n",
       "      <td>std</td>\n",
       "      <td>6.998873</td>\n",
       "      <td>1360.890963</td>\n",
       "      <td>1126.041255</td>\n",
       "      <td>32.638615</td>\n",
       "    </tr>\n",
       "    <tr>\n",
       "      <td>min</td>\n",
       "      <td>0.000000</td>\n",
       "      <td>0.000000</td>\n",
       "      <td>0.000000</td>\n",
       "      <td>0.000000</td>\n",
       "    </tr>\n",
       "    <tr>\n",
       "      <td>25%</td>\n",
       "      <td>0.000000</td>\n",
       "      <td>9.000000</td>\n",
       "      <td>1.000000</td>\n",
       "      <td>0.000000</td>\n",
       "    </tr>\n",
       "    <tr>\n",
       "      <td>50%</td>\n",
       "      <td>0.000000</td>\n",
       "      <td>42.000000</td>\n",
       "      <td>21.000000</td>\n",
       "      <td>0.000000</td>\n",
       "    </tr>\n",
       "    <tr>\n",
       "      <td>75%</td>\n",
       "      <td>16.000000</td>\n",
       "      <td>133.000000</td>\n",
       "      <td>92.000000</td>\n",
       "      <td>1.000000</td>\n",
       "    </tr>\n",
       "    <tr>\n",
       "      <td>max</td>\n",
       "      <td>16.000000</td>\n",
       "      <td>6906.000000</td>\n",
       "      <td>6700.000000</td>\n",
       "      <td>189.000000</td>\n",
       "    </tr>\n",
       "  </tbody>\n",
       "</table>\n",
       "</div>"
      ],
      "text/plain": [
       "              time    confirmed     released     deceased\n",
       "count  2771.000000  2771.000000  2771.000000  2771.000000\n",
       "mean      4.122699   444.308192   320.726453     9.239986\n",
       "std       6.998873  1360.890963  1126.041255    32.638615\n",
       "min       0.000000     0.000000     0.000000     0.000000\n",
       "25%       0.000000     9.000000     1.000000     0.000000\n",
       "50%       0.000000    42.000000    21.000000     0.000000\n",
       "75%      16.000000   133.000000    92.000000     1.000000\n",
       "max      16.000000  6906.000000  6700.000000   189.000000"
      ]
     },
     "execution_count": 16,
     "metadata": {},
     "output_type": "execute_result"
    }
   ],
   "source": [
    "region_csv.describe()"
   ]
  },
  {
   "cell_type": "code",
   "execution_count": 17,
   "metadata": {},
   "outputs": [
    {
     "data": {
      "image/png": "[encoded data removed]",
      "text/plain": [
       "<Figure size 1080x720 with 1 Axes>"
      ]
     },
     "metadata": {
      "needs_background": "light"
     },
     "output_type": "display_data"
    }
   ],
   "source": [
    "# 2020-06-30 까지 지역별 확진자 블록 그래프\n",
    "\n",
    "provinces = region_csv['province'].unique()\n",
    "confirmed_number= []\n",
    "for province in provinces:\n",
    "    june_csv = region_csv.set_index('date').loc['2020-06-30']\n",
    "    p_idx = june_csv['province'] == province\n",
    "    p_idx = list(p_idx)\n",
    "    confirmed_number.append(june_csv['confirmed'].iloc[p_idx.index(True)])\n",
    "    \n",
    "# plot a bar graph for the deceased cases\n",
    "fig = plt.figure(figsize=(15,10))\n",
    "plt.bar(provinces, confirmed_number, color=[\"C{}\".format(x) for x in range(len(provinces))])\n",
    "plt.title('Total confirmed cases for provinces (by June 30, 2020)')\n",
    "plt.xlabel('Provinces')\n",
    "plt.ylabel('Number of confirmed patients')\n",
    "plt.show()"
   ]
  },
  {
   "cell_type": "code",
   "execution_count": 18,
   "metadata": {},
   "outputs": [
    {
     "data": {
      "image/png": "[encoded data removed]",
      "text/plain": [
       "<Figure size 1080x720 with 1 Axes>"
      ]
     },
     "metadata": {
      "needs_background": "light"
     },
     "output_type": "display_data"
    }
   ],
   "source": [
    "# 도시별 누적 확진자 수\n",
    "\n",
    "region_csv['date'] = pd.to_datetime(region_csv['date'])\n",
    "\n",
    "fig = plt.figure(figsize=(15,10)) # set the image size\n",
    "# set the title\n",
    "plt.title('Cumulative confirmed cases by Age')\n",
    "\n",
    "# loop over the age groups\n",
    "for x in region_csv.province.unique():\n",
    "    plt.plot('date', 'confirmed', data=region_csv[region_csv['province'] == x], label=x)\n",
    "\n",
    "# show the legend\n",
    "plt.legend()\n",
    "\n",
    "# add axis labels\n",
    "plt.xlabel('Date')\n",
    "plt.ylabel('Number of confirmed')\n",
    "\n",
    "# rotate the dates for better visibility\n",
    "plt.gcf().autofmt_xdate()\n",
    "\n",
    "# show the plot\n",
    "plt.show()\n",
    "\n",
    "# you can also make your own plotting funciton"
   ]
  },
  {
   "cell_type": "code",
   "execution_count": 19,
   "metadata": {},
   "outputs": [
    {
     "name": "stdout",
     "output_type": "stream",
     "text": [
      "Q.10: 6906\n",
      "Q.11: 321\n",
      "Q.12: 17\n"
     ]
    }
   ],
   "source": [
    "# Q10. What is the highest number of confirmed cases?\n",
    "print(\"Q.10:\",region_csv.confirmed.max())\n",
    "\n",
    "# Q11. What is the average number of released patients? (round to the nearest whole number)\n",
    "import math\n",
    "avg_number = region_csv.describe()['released'].loc['mean']\n",
    "print(\"Q.11:\",math.ceil(avg_number))\n",
    "\n",
    "# Q12. How many regions/provinces were included in the data?\n",
    "print(\"Q.12:\",len(region_csv['province'].unique()))"
   ]
  },
  {
   "cell_type": "code",
   "execution_count": 20,
   "metadata": {},
   "outputs": [
    {
     "data": {
      "text/plain": [
       "320.72645254420786"
      ]
     },
     "execution_count": 20,
     "metadata": {},
     "output_type": "execute_result"
    }
   ],
   "source": [
    "region_csv['released'].sum()/region_csv['released'].shape[0]"
   ]
  },
  {
   "cell_type": "code",
   "execution_count": 21,
   "metadata": {},
   "outputs": [
    {
     "data": {
      "text/plain": [
       "17"
      ]
     },
     "execution_count": 21,
     "metadata": {},
     "output_type": "execute_result"
    }
   ],
   "source": [
    "len(list(region_csv['province'].unique()))"
   ]
  },
  {
   "cell_type": "code",
   "execution_count": 22,
   "metadata": {},
   "outputs": [],
   "source": [
    "tmp_df = region_csv[region_csv['date'] == '2020-06-30'].sort_values('confirmed',ascending=False)"
   ]
  },
  {
   "cell_type": "code",
   "execution_count": 23,
   "metadata": {},
   "outputs": [
    {
     "data": {
      "text/plain": [
       "0.1086452467704538"
      ]
     },
     "execution_count": 23,
     "metadata": {},
     "output_type": "execute_result"
    }
   ],
   "source": [
    "tmp_df[tmp_df['province'] == \"Seoul\"]['confirmed'].iloc[-1]/tmp_df['confirmed'].sum()"
   ]
  },
  {
   "cell_type": "code",
   "execution_count": 24,
   "metadata": {},
   "outputs": [
    {
     "name": "stdout",
     "output_type": "stream",
     "text": [
      "Q.13: 3\n"
     ]
    }
   ],
   "source": [
    "# Q13. Rank the regions/provinces in descending order based on the total number of cases by the end of June. What is the position of Seoul in this ranking?\n",
    "June = \"2020-06-30\"\n",
    "by_june_df = region_csv.set_index('date').loc[June].reset_index()\n",
    "by_june_df = by_june_df.sort_values('confirmed', ascending=False)\n",
    "ranking = list(by_june_df['province'] == 'Seoul').index(True) + 1\n",
    "\n",
    "print(\"Q.13:\",ranking)"
   ]
  },
  {
   "cell_type": "code",
   "execution_count": 25,
   "metadata": {},
   "outputs": [
    {
     "name": "stdout",
     "output_type": "stream",
     "text": [
      "Q.14: 10.86\n"
     ]
    }
   ],
   "source": [
    "# Q14. Based on the Q13, what precentage is Soeol's proportion to the against the total number of confirmed? (round to the nearest hundredths)\n",
    "by_june_df = by_june_df.reset_index().drop('index', axis=1)\n",
    "total_confirmed = by_june_df.confirmed.sum()\n",
    "seoul_confirmed = by_june_df.set_index('province').loc['Seoul']['confirmed']\n",
    "print(\"Q.14:\", round(seoul_confirmed / total_confirmed * 100,2))"
   ]
  },
  {
   "cell_type": "code",
   "execution_count": 26,
   "metadata": {},
   "outputs": [
    {
     "name": "stdout",
     "output_type": "stream",
     "text": [
      "Q.15: 1132\n"
     ]
    }
   ],
   "source": [
    "# Q15. How many were the confirmed cases in Daegu by February 27?\n",
    "february_df = region_csv[region_csv['date'] == '2020-02-27']\n",
    "daegu_confirmed = february_df.set_index('province').loc['Daegu']['confirmed']\n",
    "print(\"Q.15:\",daegu_confirmed)"
   ]
  },
  {
   "cell_type": "code",
   "execution_count": 27,
   "metadata": {},
   "outputs": [
    {
     "data": {
      "text/plain": [
       "array([422], dtype=int64)"
      ]
     },
     "execution_count": 27,
     "metadata": {},
     "output_type": "execute_result"
    }
   ],
   "source": [
    "# 27일에만 확인된 확진자\n",
    "day27 = region_csv[region_csv['date'] == '2020-02-27']\n",
    "day27 = day27[day27['province'] == \"Daegu\"]['confirmed']\n",
    "\n",
    "day26 = region_csv[region_csv['date'] == '2020-02-26']\n",
    "day26 = day26[day26['province'] == \"Daegu\"]['confirmed']\n",
    "\n",
    "day27.values - day26.values"
   ]
  },
  {
   "cell_type": "code",
   "execution_count": 28,
   "metadata": {},
   "outputs": [
    {
     "data": {
      "text/plain": [
       "[<matplotlib.lines.Line2D at 0x215e68bc3c8>]"
      ]
     },
     "execution_count": 28,
     "metadata": {},
     "output_type": "execute_result"
    },
    {
     "data": {
      "image/png": "[encoded data removed]",
      "text/plain": [
       "<Figure size 1080x720 with 1 Axes>"
      ]
     },
     "metadata": {
      "needs_background": "light"
     },
     "output_type": "display_data"
    }
   ],
   "source": [
    "# Q16. Which month did the curve for confirmed cases start flattening in Daegu? (0-Jan, 1-Feb, 2-Mar, 3-Apr, 4-May, 5-Jun)\n",
    "daegu_df = region_csv.set_index('province').loc['Daegu']\n",
    "daegu_df['date'] = pd.to_datetime(daegu_df['date'])\n",
    "\n",
    "fig = plt.figure(figsize=(15,10))\n",
    "plt.plot(daegu_df['date'], daegu_df['confirmed'])"
   ]
  },
  {
   "cell_type": "code",
   "execution_count": 29,
   "metadata": {},
   "outputs": [
    {
     "name": "stdout",
     "output_type": "stream",
     "text": [
      "Q.17: 2020-05-07 00:00:00\n"
     ]
    }
   ],
   "source": [
    "# Q17. On what day in the month of May has Seoul released a total of 508 patients?\n",
    "date_idx = region_csv.set_index('province').loc['Seoul']['released'] == 508\n",
    "date_idx = list(date_idx)\n",
    "day = region_csv.set_index('province').loc['Seoul']['date'].iloc[date_idx.index(True)]\n",
    "print(\"Q.17:\", day)"
   ]
  },
  {
   "cell_type": "code",
   "execution_count": 30,
   "metadata": {},
   "outputs": [
    {
     "data": {
      "text/html": [
       "<div>\n",
       "<style scoped>\n",
       "    .dataframe tbody tr th:only-of-type {\n",
       "        vertical-align: middle;\n",
       "    }\n",
       "\n",
       "    .dataframe tbody tr th {\n",
       "        vertical-align: top;\n",
       "    }\n",
       "\n",
       "    .dataframe thead th {\n",
       "        text-align: right;\n",
       "    }\n",
       "</style>\n",
       "<table border=\"1\" class=\"dataframe\">\n",
       "  <thead>\n",
       "    <tr style=\"text-align: right;\">\n",
       "      <th></th>\n",
       "      <th>date</th>\n",
       "      <th>time</th>\n",
       "      <th>province</th>\n",
       "      <th>confirmed</th>\n",
       "      <th>released</th>\n",
       "      <th>deceased</th>\n",
       "    </tr>\n",
       "  </thead>\n",
       "  <tbody>\n",
       "    <tr>\n",
       "      <td>1836</td>\n",
       "      <td>2020-05-07</td>\n",
       "      <td>0</td>\n",
       "      <td>Seoul</td>\n",
       "      <td>637</td>\n",
       "      <td>508</td>\n",
       "      <td>2</td>\n",
       "    </tr>\n",
       "  </tbody>\n",
       "</table>\n",
       "</div>"
      ],
      "text/plain": [
       "           date  time province  confirmed  released  deceased\n",
       "1836 2020-05-07     0    Seoul        637       508         2"
      ]
     },
     "execution_count": 30,
     "metadata": {},
     "output_type": "execute_result"
    }
   ],
   "source": [
    "region_csv[region_csv['released'] == 508]"
   ]
  },
  {
   "cell_type": "markdown",
   "metadata": {
    "colab_type": "text",
    "id": "4dNhZv9z-H2N"
   },
   "source": [
    "### Task 3: Gender"
   ]
  },
  {
   "cell_type": "code",
   "execution_count": 31,
   "metadata": {
    "colab": {},
    "colab_type": "code",
    "id": "Z9Dm6EJ9-H2N"
   },
   "outputs": [
    {
     "data": {
      "text/html": [
       "<div>\n",
       "<style scoped>\n",
       "    .dataframe tbody tr th:only-of-type {\n",
       "        vertical-align: middle;\n",
       "    }\n",
       "\n",
       "    .dataframe tbody tr th {\n",
       "        vertical-align: top;\n",
       "    }\n",
       "\n",
       "    .dataframe thead th {\n",
       "        text-align: right;\n",
       "    }\n",
       "</style>\n",
       "<table border=\"1\" class=\"dataframe\">\n",
       "  <thead>\n",
       "    <tr style=\"text-align: right;\">\n",
       "      <th></th>\n",
       "      <th>date</th>\n",
       "      <th>time</th>\n",
       "      <th>sex</th>\n",
       "      <th>confirmed</th>\n",
       "      <th>deceased</th>\n",
       "    </tr>\n",
       "  </thead>\n",
       "  <tbody>\n",
       "    <tr>\n",
       "      <td>0</td>\n",
       "      <td>2020-03-02</td>\n",
       "      <td>0</td>\n",
       "      <td>male</td>\n",
       "      <td>1591</td>\n",
       "      <td>13</td>\n",
       "    </tr>\n",
       "    <tr>\n",
       "      <td>1</td>\n",
       "      <td>2020-03-02</td>\n",
       "      <td>0</td>\n",
       "      <td>female</td>\n",
       "      <td>2621</td>\n",
       "      <td>9</td>\n",
       "    </tr>\n",
       "    <tr>\n",
       "      <td>2</td>\n",
       "      <td>2020-03-03</td>\n",
       "      <td>0</td>\n",
       "      <td>male</td>\n",
       "      <td>1810</td>\n",
       "      <td>16</td>\n",
       "    </tr>\n",
       "    <tr>\n",
       "      <td>3</td>\n",
       "      <td>2020-03-03</td>\n",
       "      <td>0</td>\n",
       "      <td>female</td>\n",
       "      <td>3002</td>\n",
       "      <td>12</td>\n",
       "    </tr>\n",
       "    <tr>\n",
       "      <td>4</td>\n",
       "      <td>2020-03-04</td>\n",
       "      <td>0</td>\n",
       "      <td>male</td>\n",
       "      <td>1996</td>\n",
       "      <td>20</td>\n",
       "    </tr>\n",
       "    <tr>\n",
       "      <td>...</td>\n",
       "      <td>...</td>\n",
       "      <td>...</td>\n",
       "      <td>...</td>\n",
       "      <td>...</td>\n",
       "      <td>...</td>\n",
       "    </tr>\n",
       "    <tr>\n",
       "      <td>237</td>\n",
       "      <td>2020-06-28</td>\n",
       "      <td>0</td>\n",
       "      <td>female</td>\n",
       "      <td>7265</td>\n",
       "      <td>131</td>\n",
       "    </tr>\n",
       "    <tr>\n",
       "      <td>238</td>\n",
       "      <td>2020-06-29</td>\n",
       "      <td>0</td>\n",
       "      <td>male</td>\n",
       "      <td>5470</td>\n",
       "      <td>151</td>\n",
       "    </tr>\n",
       "    <tr>\n",
       "      <td>239</td>\n",
       "      <td>2020-06-29</td>\n",
       "      <td>0</td>\n",
       "      <td>female</td>\n",
       "      <td>7287</td>\n",
       "      <td>131</td>\n",
       "    </tr>\n",
       "    <tr>\n",
       "      <td>240</td>\n",
       "      <td>2020-06-30</td>\n",
       "      <td>0</td>\n",
       "      <td>male</td>\n",
       "      <td>5495</td>\n",
       "      <td>151</td>\n",
       "    </tr>\n",
       "    <tr>\n",
       "      <td>241</td>\n",
       "      <td>2020-06-30</td>\n",
       "      <td>0</td>\n",
       "      <td>female</td>\n",
       "      <td>7305</td>\n",
       "      <td>131</td>\n",
       "    </tr>\n",
       "  </tbody>\n",
       "</table>\n",
       "<p>242 rows × 5 columns</p>\n",
       "</div>"
      ],
      "text/plain": [
       "           date  time     sex  confirmed  deceased\n",
       "0    2020-03-02     0    male       1591        13\n",
       "1    2020-03-02     0  female       2621         9\n",
       "2    2020-03-03     0    male       1810        16\n",
       "3    2020-03-03     0  female       3002        12\n",
       "4    2020-03-04     0    male       1996        20\n",
       "..          ...   ...     ...        ...       ...\n",
       "237  2020-06-28     0  female       7265       131\n",
       "238  2020-06-29     0    male       5470       151\n",
       "239  2020-06-29     0  female       7287       131\n",
       "240  2020-06-30     0    male       5495       151\n",
       "241  2020-06-30     0  female       7305       131\n",
       "\n",
       "[242 rows x 5 columns]"
      ]
     },
     "execution_count": 31,
     "metadata": {},
     "output_type": "execute_result"
    }
   ],
   "source": [
    "# load/read the data\n",
    "gender_csv = pd.read_csv('./data/TimeGender.csv')\n",
    "gender_csv"
   ]
  },
  {
   "cell_type": "code",
   "execution_count": 32,
   "metadata": {
    "colab": {},
    "colab_type": "code",
    "id": "Z9Dm6EJ9-H2N"
   },
   "outputs": [
    {
     "data": {
      "image/png": "[encoded data removed]",
      "text/plain": [
       "<Figure size 1080x720 with 1 Axes>"
      ]
     },
     "metadata": {
      "needs_background": "light"
     },
     "output_type": "display_data"
    }
   ],
   "source": [
    "# 남녀 누적 그래프\n",
    "gender_csv['date'] = pd.to_datetime(gender_csv['date'])\n",
    "\n",
    "fig = plt.figure(figsize=(15,10)) # set the image size\n",
    "\n",
    "# set the title\n",
    "plt.title('Cumulative confirmed cases by Sex')\n",
    "\n",
    "# loop over the age groups\n",
    "for x in gender_csv.sex.unique():\n",
    "    plt.plot('date', 'confirmed', data=gender_csv[gender_csv['sex'] == x], label=x)\n",
    "\n",
    "# show the legend\n",
    "plt.legend()\n",
    "\n",
    "# add axis labels\n",
    "plt.xlabel('Date')\n",
    "plt.ylabel('Number of confirmed for sex')\n",
    "\n",
    "# rotate the dates for better visibility\n",
    "plt.gcf().autofmt_xdate()\n",
    "\n",
    "# show the plot\n",
    "plt.show()"
   ]
  },
  {
   "cell_type": "code",
   "execution_count": 33,
   "metadata": {
    "colab": {},
    "colab_type": "code",
    "id": "Z9Dm6EJ9-H2N"
   },
   "outputs": [
    {
     "data": {
      "text/plain": [
       "Text(0.5, 1.0, 'female')"
      ]
     },
     "execution_count": 33,
     "metadata": {},
     "output_type": "execute_result"
    },
    {
     "data": {
      "image/png": "[encoded data removed]",
      "text/plain": [
       "<Figure size 1080x720 with 2 Axes>"
      ]
     },
     "metadata": {},
     "output_type": "display_data"
    }
   ],
   "source": [
    "# 남녀의 확진자 대비 사망자 비율 (by 2020-06-30)\n",
    "\n",
    "male_csv = gender_csv[gender_csv['sex'] == 'male']\n",
    "female_csv = gender_csv[gender_csv['sex'] == 'female']\n",
    "\n",
    "male_confirmed = male_csv['confirmed'].iloc[-1]\n",
    "male_deceased = male_csv['deceased'].iloc[-1]\n",
    "\n",
    "female_confirmed = female_csv['confirmed'].iloc[-1]\n",
    "female_deceased = female_csv['deceased'].iloc[-1]\n",
    "\n",
    "fig = plt.figure(figsize=(15,10))\n",
    "plt.subplot(1,2,1)\n",
    "plt.pie([male_confirmed - male_deceased, male_deceased], explode =(0,0.1), labels=['confirmed', 'deceased'],\n",
    "       autopct='%1.2f%%', startangle=90,textprops={'fontsize':14})\n",
    "plt.title('male')\n",
    "\n",
    "plt.subplot(1,2,2)\n",
    "plt.pie([female_confirmed - female_deceased, female_deceased], explode =(0,0.1), labels=['confirmed', 'deceased'],\n",
    "       autopct='%1.2f%%', startangle=90,textprops={'fontsize':14})\n",
    "plt.title('female')"
   ]
  },
  {
   "cell_type": "code",
   "execution_count": 34,
   "metadata": {},
   "outputs": [
    {
     "data": {
      "text/html": [
       "<div>\n",
       "<style scoped>\n",
       "    .dataframe tbody tr th:only-of-type {\n",
       "        vertical-align: middle;\n",
       "    }\n",
       "\n",
       "    .dataframe tbody tr th {\n",
       "        vertical-align: top;\n",
       "    }\n",
       "\n",
       "    .dataframe thead th {\n",
       "        text-align: right;\n",
       "    }\n",
       "</style>\n",
       "<table border=\"1\" class=\"dataframe\">\n",
       "  <thead>\n",
       "    <tr style=\"text-align: right;\">\n",
       "      <th></th>\n",
       "      <th>date</th>\n",
       "      <th>time</th>\n",
       "      <th>sex</th>\n",
       "      <th>confirmed</th>\n",
       "      <th>deceased</th>\n",
       "    </tr>\n",
       "  </thead>\n",
       "  <tbody>\n",
       "    <tr>\n",
       "      <td>1</td>\n",
       "      <td>2020-03-02</td>\n",
       "      <td>0</td>\n",
       "      <td>female</td>\n",
       "      <td>2621</td>\n",
       "      <td>9</td>\n",
       "    </tr>\n",
       "    <tr>\n",
       "      <td>3</td>\n",
       "      <td>2020-03-03</td>\n",
       "      <td>0</td>\n",
       "      <td>female</td>\n",
       "      <td>3002</td>\n",
       "      <td>12</td>\n",
       "    </tr>\n",
       "    <tr>\n",
       "      <td>5</td>\n",
       "      <td>2020-03-04</td>\n",
       "      <td>0</td>\n",
       "      <td>female</td>\n",
       "      <td>3332</td>\n",
       "      <td>12</td>\n",
       "    </tr>\n",
       "    <tr>\n",
       "      <td>7</td>\n",
       "      <td>2020-03-05</td>\n",
       "      <td>0</td>\n",
       "      <td>female</td>\n",
       "      <td>3617</td>\n",
       "      <td>14</td>\n",
       "    </tr>\n",
       "    <tr>\n",
       "      <td>9</td>\n",
       "      <td>2020-03-06</td>\n",
       "      <td>0</td>\n",
       "      <td>female</td>\n",
       "      <td>3939</td>\n",
       "      <td>17</td>\n",
       "    </tr>\n",
       "    <tr>\n",
       "      <td>...</td>\n",
       "      <td>...</td>\n",
       "      <td>...</td>\n",
       "      <td>...</td>\n",
       "      <td>...</td>\n",
       "      <td>...</td>\n",
       "    </tr>\n",
       "    <tr>\n",
       "      <td>233</td>\n",
       "      <td>2020-06-26</td>\n",
       "      <td>0</td>\n",
       "      <td>female</td>\n",
       "      <td>7218</td>\n",
       "      <td>131</td>\n",
       "    </tr>\n",
       "    <tr>\n",
       "      <td>235</td>\n",
       "      <td>2020-06-27</td>\n",
       "      <td>0</td>\n",
       "      <td>female</td>\n",
       "      <td>7241</td>\n",
       "      <td>131</td>\n",
       "    </tr>\n",
       "    <tr>\n",
       "      <td>237</td>\n",
       "      <td>2020-06-28</td>\n",
       "      <td>0</td>\n",
       "      <td>female</td>\n",
       "      <td>7265</td>\n",
       "      <td>131</td>\n",
       "    </tr>\n",
       "    <tr>\n",
       "      <td>239</td>\n",
       "      <td>2020-06-29</td>\n",
       "      <td>0</td>\n",
       "      <td>female</td>\n",
       "      <td>7287</td>\n",
       "      <td>131</td>\n",
       "    </tr>\n",
       "    <tr>\n",
       "      <td>241</td>\n",
       "      <td>2020-06-30</td>\n",
       "      <td>0</td>\n",
       "      <td>female</td>\n",
       "      <td>7305</td>\n",
       "      <td>131</td>\n",
       "    </tr>\n",
       "  </tbody>\n",
       "</table>\n",
       "<p>121 rows × 5 columns</p>\n",
       "</div>"
      ],
      "text/plain": [
       "          date  time     sex  confirmed  deceased\n",
       "1   2020-03-02     0  female       2621         9\n",
       "3   2020-03-03     0  female       3002        12\n",
       "5   2020-03-04     0  female       3332        12\n",
       "7   2020-03-05     0  female       3617        14\n",
       "9   2020-03-06     0  female       3939        17\n",
       "..         ...   ...     ...        ...       ...\n",
       "233 2020-06-26     0  female       7218       131\n",
       "235 2020-06-27     0  female       7241       131\n",
       "237 2020-06-28     0  female       7265       131\n",
       "239 2020-06-29     0  female       7287       131\n",
       "241 2020-06-30     0  female       7305       131\n",
       "\n",
       "[121 rows x 5 columns]"
      ]
     },
     "execution_count": 34,
     "metadata": {},
     "output_type": "execute_result"
    }
   ],
   "source": [
    "female_csv"
   ]
  },
  {
   "cell_type": "code",
   "execution_count": 35,
   "metadata": {},
   "outputs": [
    {
     "data": {
      "text/html": [
       "<div>\n",
       "<style scoped>\n",
       "    .dataframe tbody tr th:only-of-type {\n",
       "        vertical-align: middle;\n",
       "    }\n",
       "\n",
       "    .dataframe tbody tr th {\n",
       "        vertical-align: top;\n",
       "    }\n",
       "\n",
       "    .dataframe thead th {\n",
       "        text-align: right;\n",
       "    }\n",
       "</style>\n",
       "<table border=\"1\" class=\"dataframe\">\n",
       "  <thead>\n",
       "    <tr style=\"text-align: right;\">\n",
       "      <th></th>\n",
       "      <th>date</th>\n",
       "      <th>time</th>\n",
       "      <th>sex</th>\n",
       "      <th>confirmed</th>\n",
       "      <th>deceased</th>\n",
       "    </tr>\n",
       "  </thead>\n",
       "  <tbody>\n",
       "    <tr>\n",
       "      <td>0</td>\n",
       "      <td>2020-03-02</td>\n",
       "      <td>0</td>\n",
       "      <td>male</td>\n",
       "      <td>1591</td>\n",
       "      <td>13</td>\n",
       "    </tr>\n",
       "    <tr>\n",
       "      <td>2</td>\n",
       "      <td>2020-03-03</td>\n",
       "      <td>0</td>\n",
       "      <td>male</td>\n",
       "      <td>1810</td>\n",
       "      <td>16</td>\n",
       "    </tr>\n",
       "    <tr>\n",
       "      <td>4</td>\n",
       "      <td>2020-03-04</td>\n",
       "      <td>0</td>\n",
       "      <td>male</td>\n",
       "      <td>1996</td>\n",
       "      <td>20</td>\n",
       "    </tr>\n",
       "    <tr>\n",
       "      <td>6</td>\n",
       "      <td>2020-03-05</td>\n",
       "      <td>0</td>\n",
       "      <td>male</td>\n",
       "      <td>2149</td>\n",
       "      <td>21</td>\n",
       "    </tr>\n",
       "    <tr>\n",
       "      <td>8</td>\n",
       "      <td>2020-03-06</td>\n",
       "      <td>0</td>\n",
       "      <td>male</td>\n",
       "      <td>2345</td>\n",
       "      <td>25</td>\n",
       "    </tr>\n",
       "    <tr>\n",
       "      <td>...</td>\n",
       "      <td>...</td>\n",
       "      <td>...</td>\n",
       "      <td>...</td>\n",
       "      <td>...</td>\n",
       "      <td>...</td>\n",
       "    </tr>\n",
       "    <tr>\n",
       "      <td>232</td>\n",
       "      <td>2020-06-26</td>\n",
       "      <td>0</td>\n",
       "      <td>male</td>\n",
       "      <td>5384</td>\n",
       "      <td>151</td>\n",
       "    </tr>\n",
       "    <tr>\n",
       "      <td>234</td>\n",
       "      <td>2020-06-27</td>\n",
       "      <td>0</td>\n",
       "      <td>male</td>\n",
       "      <td>5412</td>\n",
       "      <td>151</td>\n",
       "    </tr>\n",
       "    <tr>\n",
       "      <td>236</td>\n",
       "      <td>2020-06-28</td>\n",
       "      <td>0</td>\n",
       "      <td>male</td>\n",
       "      <td>5450</td>\n",
       "      <td>151</td>\n",
       "    </tr>\n",
       "    <tr>\n",
       "      <td>238</td>\n",
       "      <td>2020-06-29</td>\n",
       "      <td>0</td>\n",
       "      <td>male</td>\n",
       "      <td>5470</td>\n",
       "      <td>151</td>\n",
       "    </tr>\n",
       "    <tr>\n",
       "      <td>240</td>\n",
       "      <td>2020-06-30</td>\n",
       "      <td>0</td>\n",
       "      <td>male</td>\n",
       "      <td>5495</td>\n",
       "      <td>151</td>\n",
       "    </tr>\n",
       "  </tbody>\n",
       "</table>\n",
       "<p>121 rows × 5 columns</p>\n",
       "</div>"
      ],
      "text/plain": [
       "          date  time   sex  confirmed  deceased\n",
       "0   2020-03-02     0  male       1591        13\n",
       "2   2020-03-03     0  male       1810        16\n",
       "4   2020-03-04     0  male       1996        20\n",
       "6   2020-03-05     0  male       2149        21\n",
       "8   2020-03-06     0  male       2345        25\n",
       "..         ...   ...   ...        ...       ...\n",
       "232 2020-06-26     0  male       5384       151\n",
       "234 2020-06-27     0  male       5412       151\n",
       "236 2020-06-28     0  male       5450       151\n",
       "238 2020-06-29     0  male       5470       151\n",
       "240 2020-06-30     0  male       5495       151\n",
       "\n",
       "[121 rows x 5 columns]"
      ]
     },
     "execution_count": 35,
     "metadata": {},
     "output_type": "execute_result"
    }
   ],
   "source": [
    "male_csv"
   ]
  },
  {
   "cell_type": "code",
   "execution_count": 36,
   "metadata": {},
   "outputs": [
    {
     "name": "stdout",
     "output_type": "stream",
     "text": [
      "Q.18: 57.07%\n",
      "Q.19: 42.93%\n",
      "Q.20: 46.45%\n",
      "Q.21: 53.55%\n"
     ]
    }
   ],
   "source": [
    "# Q18. What percentage of the confirmed cases were females by the end of June? (round to the nearest hundredths)\n",
    "import math\n",
    "print(\"Q.18: {}%\".format(round(female_confirmed / (male_confirmed + female_confirmed) * 100,2)))\n",
    "print(\"Q.19: {}%\".format(round(male_confirmed / (male_confirmed + female_confirmed) * 100,2)))\n",
    "print(\"Q.20: {}%\".format(round(female_deceased / (male_deceased + female_deceased) * 100,2)))\n",
    "print(\"Q.21: {}%\".format(round(male_deceased / (male_deceased + female_deceased) * 100,2)))"
   ]
  },
  {
   "cell_type": "markdown",
   "metadata": {
    "colab_type": "text",
    "id": "MFYaBmrV-H2P"
   },
   "source": [
    "### Task 4: Path"
   ]
  },
  {
   "cell_type": "code",
   "execution_count": 39,
   "metadata": {
    "colab": {},
    "colab_type": "code",
    "id": "CqRJR6EB-H2Q"
   },
   "outputs": [],
   "source": [
    "# load/read the data\n",
    "path_csv = pd.read_csv('./data/Case.csv')"
   ]
  },
  {
   "cell_type": "code",
   "execution_count": 40,
   "metadata": {
    "colab": {},
    "colab_type": "code",
    "id": "CqRJR6EB-H2Q"
   },
   "outputs": [
    {
     "data": {
      "image/png": "[encoded data removed]",
      "text/plain": [
       "<Figure size 1080x720 with 1 Axes>"
      ]
     },
     "metadata": {
      "needs_background": "light"
     },
     "output_type": "display_data"
    }
   ],
   "source": [
    "# 지방별 확진자 수\n",
    "provinces = path_csv['province'].unique()\n",
    "p_confirm = []\n",
    "\n",
    "for province in provinces:\n",
    "    p_confirm.append(path_csv[path_csv['province'] == province]['confirmed'].sum())\n",
    "\n",
    "# plot a bar graph for the deceased cases\n",
    "fig = plt.figure(figsize=(15,10))\n",
    "plt.bar(provinces, p_confirm, color=[\"C{}\".format(x) for x in range(len(provinces))])\n",
    "plt.title('Total confirmed cases for provinces (by June 30, 2020)')\n",
    "plt.xlabel('Provinces')\n",
    "plt.ylabel('Number of confirmed patients')\n",
    "plt.show()"
   ]
  },
  {
   "cell_type": "code",
   "execution_count": 41,
   "metadata": {},
   "outputs": [
    {
     "data": {
      "image/png": "[encoded data removed]",
      "text/plain": [
       "<Figure size 1080x720 with 1 Axes>"
      ]
     },
     "metadata": {
      "needs_background": "light"
     },
     "output_type": "display_data"
    }
   ],
   "source": [
    "# 단체와 개인 감염 막대 그래프\n",
    "\n",
    "group_b = path_csv['group'].unique()\n",
    "g_list = []\n",
    "\n",
    "for x in group_b:\n",
    "    g_list.append(path_csv[path_csv['group'] == x]['confirmed'].sum())\n",
    "    \n",
    "fig = plt.figure(figsize = (15,10))\n",
    "plt.bar([\"Group\",\"Individual\"], g_list, color=[\"C{}\".format(x) for x in range(len(group_b))])\n",
    "plt.title('Total confirmed cases for group (by June 30, 2020)')\n",
    "plt.xlabel('group')\n",
    "plt.ylabel('Number of confirmed patients')\n",
    "plt.show()              "
   ]
  },
  {
   "cell_type": "code",
   "execution_count": 42,
   "metadata": {},
   "outputs": [
    {
     "data": {
      "text/plain": [
       "3"
      ]
     },
     "execution_count": 42,
     "metadata": {},
     "output_type": "execute_result"
    }
   ],
   "source": [
    "sum(list(path_csv['confirmed'] == 0))"
   ]
  },
  {
   "cell_type": "code",
   "execution_count": 43,
   "metadata": {},
   "outputs": [
    {
     "data": {
      "text/plain": [
       "174"
      ]
     },
     "execution_count": 43,
     "metadata": {},
     "output_type": "execute_result"
    }
   ],
   "source": [
    "len(path_csv[' case_id'].unique())"
   ]
  },
  {
   "cell_type": "code",
   "execution_count": 44,
   "metadata": {},
   "outputs": [
    {
     "data": {
      "text/plain": [
       "81"
      ]
     },
     "execution_count": 44,
     "metadata": {},
     "output_type": "execute_result"
    }
   ],
   "source": [
    "path_csv['infection_case'].unique().shape[0]"
   ]
  },
  {
   "cell_type": "code",
   "execution_count": 45,
   "metadata": {},
   "outputs": [
    {
     "data": {
      "text/html": [
       "<div>\n",
       "<style scoped>\n",
       "    .dataframe tbody tr th:only-of-type {\n",
       "        vertical-align: middle;\n",
       "    }\n",
       "\n",
       "    .dataframe tbody tr th {\n",
       "        vertical-align: top;\n",
       "    }\n",
       "\n",
       "    .dataframe thead th {\n",
       "        text-align: right;\n",
       "    }\n",
       "</style>\n",
       "<table border=\"1\" class=\"dataframe\">\n",
       "  <thead>\n",
       "    <tr style=\"text-align: right;\">\n",
       "      <th></th>\n",
       "      <th>case_id</th>\n",
       "      <th>province</th>\n",
       "      <th>city</th>\n",
       "      <th>group</th>\n",
       "      <th>infection_case</th>\n",
       "      <th>confirmed</th>\n",
       "      <th>latitude</th>\n",
       "      <th>longitude</th>\n",
       "    </tr>\n",
       "  </thead>\n",
       "  <tbody>\n",
       "    <tr>\n",
       "      <td>20</td>\n",
       "      <td>1000021</td>\n",
       "      <td>Seoul</td>\n",
       "      <td>from other city</td>\n",
       "      <td>True</td>\n",
       "      <td>Shincheonji Church</td>\n",
       "      <td>8</td>\n",
       "      <td>-</td>\n",
       "      <td>-</td>\n",
       "    </tr>\n",
       "    <tr>\n",
       "      <td>39</td>\n",
       "      <td>1100002</td>\n",
       "      <td>Busan</td>\n",
       "      <td>from other city</td>\n",
       "      <td>True</td>\n",
       "      <td>Shincheonji Church</td>\n",
       "      <td>12</td>\n",
       "      <td>-</td>\n",
       "      <td>-</td>\n",
       "    </tr>\n",
       "    <tr>\n",
       "      <td>48</td>\n",
       "      <td>1200001</td>\n",
       "      <td>Daegu</td>\n",
       "      <td>Nam-gu</td>\n",
       "      <td>True</td>\n",
       "      <td>Shincheonji Church</td>\n",
       "      <td>4511</td>\n",
       "      <td>35.84008</td>\n",
       "      <td>128.5667</td>\n",
       "    </tr>\n",
       "    <tr>\n",
       "      <td>59</td>\n",
       "      <td>1300002</td>\n",
       "      <td>Gwangju</td>\n",
       "      <td>from other city</td>\n",
       "      <td>True</td>\n",
       "      <td>Shincheonji Church</td>\n",
       "      <td>9</td>\n",
       "      <td>-</td>\n",
       "      <td>-</td>\n",
       "    </tr>\n",
       "    <tr>\n",
       "      <td>66</td>\n",
       "      <td>1400004</td>\n",
       "      <td>Incheon</td>\n",
       "      <td>from other city</td>\n",
       "      <td>True</td>\n",
       "      <td>Shincheonji Church</td>\n",
       "      <td>2</td>\n",
       "      <td>-</td>\n",
       "      <td>-</td>\n",
       "    </tr>\n",
       "    <tr>\n",
       "      <td>75</td>\n",
       "      <td>1500006</td>\n",
       "      <td>Daejeon</td>\n",
       "      <td>from other city</td>\n",
       "      <td>True</td>\n",
       "      <td>Shincheonji Church</td>\n",
       "      <td>2</td>\n",
       "      <td>-</td>\n",
       "      <td>-</td>\n",
       "    </tr>\n",
       "    <tr>\n",
       "      <td>80</td>\n",
       "      <td>1600001</td>\n",
       "      <td>Ulsan</td>\n",
       "      <td>from other city</td>\n",
       "      <td>True</td>\n",
       "      <td>Shincheonji Church</td>\n",
       "      <td>16</td>\n",
       "      <td>-</td>\n",
       "      <td>-</td>\n",
       "    </tr>\n",
       "    <tr>\n",
       "      <td>86</td>\n",
       "      <td>1700003</td>\n",
       "      <td>Sejong</td>\n",
       "      <td>from other city</td>\n",
       "      <td>True</td>\n",
       "      <td>Shincheonji Church</td>\n",
       "      <td>1</td>\n",
       "      <td>-</td>\n",
       "      <td>-</td>\n",
       "    </tr>\n",
       "    <tr>\n",
       "      <td>96</td>\n",
       "      <td>2000007</td>\n",
       "      <td>Gyeonggi-do</td>\n",
       "      <td>from other city</td>\n",
       "      <td>True</td>\n",
       "      <td>Shincheonji Church</td>\n",
       "      <td>29</td>\n",
       "      <td>-</td>\n",
       "      <td>-</td>\n",
       "    </tr>\n",
       "    <tr>\n",
       "      <td>112</td>\n",
       "      <td>3000001</td>\n",
       "      <td>Gangwon-do</td>\n",
       "      <td>from other city</td>\n",
       "      <td>True</td>\n",
       "      <td>Shincheonji Church</td>\n",
       "      <td>17</td>\n",
       "      <td>-</td>\n",
       "      <td>-</td>\n",
       "    </tr>\n",
       "    <tr>\n",
       "      <td>123</td>\n",
       "      <td>4000004</td>\n",
       "      <td>Chungcheongbuk-do</td>\n",
       "      <td>from other city</td>\n",
       "      <td>True</td>\n",
       "      <td>Shincheonji Church</td>\n",
       "      <td>6</td>\n",
       "      <td>-</td>\n",
       "      <td>-</td>\n",
       "    </tr>\n",
       "    <tr>\n",
       "      <td>137</td>\n",
       "      <td>5000003</td>\n",
       "      <td>Jeollabuk-do</td>\n",
       "      <td>from other city</td>\n",
       "      <td>True</td>\n",
       "      <td>Shincheonji Church</td>\n",
       "      <td>1</td>\n",
       "      <td>-</td>\n",
       "      <td>-</td>\n",
       "    </tr>\n",
       "    <tr>\n",
       "      <td>141</td>\n",
       "      <td>5100002</td>\n",
       "      <td>Jeollanam-do</td>\n",
       "      <td>from other city</td>\n",
       "      <td>True</td>\n",
       "      <td>Shincheonji Church</td>\n",
       "      <td>1</td>\n",
       "      <td>-</td>\n",
       "      <td>-</td>\n",
       "    </tr>\n",
       "    <tr>\n",
       "      <td>145</td>\n",
       "      <td>6000001</td>\n",
       "      <td>Gyeongsangbuk-do</td>\n",
       "      <td>from other city</td>\n",
       "      <td>True</td>\n",
       "      <td>Shincheonji Church</td>\n",
       "      <td>566</td>\n",
       "      <td>-</td>\n",
       "      <td>-</td>\n",
       "    </tr>\n",
       "    <tr>\n",
       "      <td>158</td>\n",
       "      <td>6100001</td>\n",
       "      <td>Gyeongsangnam-do</td>\n",
       "      <td>from other city</td>\n",
       "      <td>True</td>\n",
       "      <td>Shincheonji Church</td>\n",
       "      <td>32</td>\n",
       "      <td>-</td>\n",
       "      <td>-</td>\n",
       "    </tr>\n",
       "  </tbody>\n",
       "</table>\n",
       "</div>"
      ],
      "text/plain": [
       "      case_id           province             city  group      infection_case  \\\n",
       "20    1000021              Seoul  from other city   True  Shincheonji Church   \n",
       "39    1100002              Busan  from other city   True  Shincheonji Church   \n",
       "48    1200001              Daegu           Nam-gu   True  Shincheonji Church   \n",
       "59    1300002            Gwangju  from other city   True  Shincheonji Church   \n",
       "66    1400004            Incheon  from other city   True  Shincheonji Church   \n",
       "75    1500006            Daejeon  from other city   True  Shincheonji Church   \n",
       "80    1600001              Ulsan  from other city   True  Shincheonji Church   \n",
       "86    1700003             Sejong  from other city   True  Shincheonji Church   \n",
       "96    2000007        Gyeonggi-do  from other city   True  Shincheonji Church   \n",
       "112   3000001         Gangwon-do  from other city   True  Shincheonji Church   \n",
       "123   4000004  Chungcheongbuk-do  from other city   True  Shincheonji Church   \n",
       "137   5000003       Jeollabuk-do  from other city   True  Shincheonji Church   \n",
       "141   5100002       Jeollanam-do  from other city   True  Shincheonji Church   \n",
       "145   6000001   Gyeongsangbuk-do  from other city   True  Shincheonji Church   \n",
       "158   6100001   Gyeongsangnam-do  from other city   True  Shincheonji Church   \n",
       "\n",
       "     confirmed  latitude longitude  \n",
       "20           8         -         -  \n",
       "39          12         -         -  \n",
       "48        4511  35.84008  128.5667  \n",
       "59           9         -         -  \n",
       "66           2         -         -  \n",
       "75           2         -         -  \n",
       "80          16         -         -  \n",
       "86           1         -         -  \n",
       "96          29         -         -  \n",
       "112         17         -         -  \n",
       "123          6         -         -  \n",
       "137          1         -         -  \n",
       "141          1         -         -  \n",
       "145        566         -         -  \n",
       "158         32         -         -  "
      ]
     },
     "execution_count": 45,
     "metadata": {},
     "output_type": "execute_result"
    }
   ],
   "source": [
    "path_csv[path_csv['infection_case'] == 'Shincheonji Church']"
   ]
  },
  {
   "cell_type": "code",
   "execution_count": null,
   "metadata": {},
   "outputs": [],
   "source": [
    "tmp_df = path_csv[path_csv['infection_case'] == 'overseas inflow']\n",
    "tmp_df[tmp_df['province'] == \"Seoul\"]['confirmed'].sum()"
   ]
  },
  {
   "cell_type": "code",
   "execution_count": 64,
   "metadata": {},
   "outputs": [
    {
     "name": "stdout",
     "output_type": "stream",
     "text": [
      "Q.22: 81\n",
      "Q.23: 67.53%\n",
      "Q.24: 23.28%\n"
     ]
    }
   ],
   "source": [
    "# Q22. How many unique sources (path) of the confirmed cases were identified?\n",
    "print(\"Q.22:\",len(path_csv['infection_case'].unique()))\n",
    "\n",
    "# Q23. What percentage of the confirmed cases by the end of June is attributed to Shincheonji Church in Daegu? (round to the nearest hundredths)\n",
    "daegu_csv = path_csv[path_csv['province'] == 'Daegu']\n",
    "a = daegu_csv[daegu_csv['infection_case'] == 'Shincheonji Church']['confirmed'].sum()\n",
    "b = daegu_csv['confirmed'].sum()\n",
    "\n",
    "print(\"Q.23: {}%\".format(round(a/b*100,2)))\n",
    "\n",
    "# Q24. What percentage of the confirmed cases by the end of June is attributed to Overseas Inflow in Seoul? (round to the nearest hundredths)\n",
    "seoul_csv = path_csv[path_csv['province'] == 'Seoul']\n",
    "a = seoul_csv[seoul_csv['infection_case'] == 'overseas inflow']['confirmed'].sum()\n",
    "b = seoul_csv['confirmed'].sum()\n",
    "\n",
    "print(\"Q.24: {}%\".format(round(a/b*100,2)))"
   ]
  },
  {
   "cell_type": "code",
   "execution_count": 65,
   "metadata": {},
   "outputs": [
    {
     "name": "stdout",
     "output_type": "stream",
     "text": [
      "Q.25: 69.0%\n"
     ]
    }
   ],
   "source": [
    "# Q25. What percentage of the confirmed cases by the end of June is transmitted through group contact? (round to the nearest hundredths)\n",
    "total_confirmed = path_csv['confirmed'].sum()\n",
    "group_confirmed = path_csv[path_csv['group'] == True]['confirmed'].sum()\n",
    "\n",
    "print(\"Q.25: {}%\".format(round(group_confirmed/total_confirmed*100),2))"
   ]
  },
  {
   "cell_type": "code",
   "execution_count": 68,
   "metadata": {},
   "outputs": [
    {
     "name": "stdout",
     "output_type": "stream",
     "text": [
      "Q.26: 3544\n"
     ]
    }
   ],
   "source": [
    "# Q26. How many cases by the end of June are transmitted by individual contact?\n",
    "individual = path_csv[path_csv['group'] == False]['confirmed'].sum()\n",
    "\n",
    "print(\"Q.26: {}\".format(individual))"
   ]
  },
  {
   "cell_type": "code",
   "execution_count": null,
   "metadata": {},
   "outputs": [],
   "source": [
    "# Q26. How many cases by the end of June are transmitted by individual contact?\n",
    "total_confirmed = path_csv['confirmed'].sum()\n",
    "group_confirmed = path_csv[path_csv['group'] == True]['confirmed'].sum()\n",
    "\n",
    "print(\"Q.26: {}%\".format(round((total_confirmed - group_confirmed)/total_confirmed*100),2))"
   ]
  },
  {
   "cell_type": "markdown",
   "metadata": {
    "colab_type": "text",
    "id": "NplbSrrd-H2R"
   },
   "source": [
    "### Task 5: Weather"
   ]
  },
  {
   "cell_type": "code",
   "execution_count": 70,
   "metadata": {
    "colab": {},
    "colab_type": "code",
    "id": "1ZxQZaRl-H2S"
   },
   "outputs": [
    {
     "data": {
      "text/html": [
       "<div>\n",
       "<style scoped>\n",
       "    .dataframe tbody tr th:only-of-type {\n",
       "        vertical-align: middle;\n",
       "    }\n",
       "\n",
       "    .dataframe tbody tr th {\n",
       "        vertical-align: top;\n",
       "    }\n",
       "\n",
       "    .dataframe thead th {\n",
       "        text-align: right;\n",
       "    }\n",
       "</style>\n",
       "<table border=\"1\" class=\"dataframe\">\n",
       "  <thead>\n",
       "    <tr style=\"text-align: right;\">\n",
       "      <th></th>\n",
       "      <th>code</th>\n",
       "      <th>province</th>\n",
       "      <th>date</th>\n",
       "      <th>avg_temp</th>\n",
       "      <th>min_temp</th>\n",
       "      <th>max_temp</th>\n",
       "      <th>precipitation</th>\n",
       "      <th>max_wind_speed</th>\n",
       "      <th>most_wind_direction</th>\n",
       "      <th>avg_relative_humidity</th>\n",
       "    </tr>\n",
       "  </thead>\n",
       "  <tbody>\n",
       "    <tr>\n",
       "      <td>0</td>\n",
       "      <td>10000</td>\n",
       "      <td>Seoul</td>\n",
       "      <td>2016-01-01</td>\n",
       "      <td>1.2</td>\n",
       "      <td>-3.3</td>\n",
       "      <td>4.0</td>\n",
       "      <td>0.0</td>\n",
       "      <td>3.5</td>\n",
       "      <td>90.0</td>\n",
       "      <td>73.0</td>\n",
       "    </tr>\n",
       "    <tr>\n",
       "      <td>1</td>\n",
       "      <td>11000</td>\n",
       "      <td>Busan</td>\n",
       "      <td>2016-01-01</td>\n",
       "      <td>5.3</td>\n",
       "      <td>1.1</td>\n",
       "      <td>10.9</td>\n",
       "      <td>0.0</td>\n",
       "      <td>7.4</td>\n",
       "      <td>340.0</td>\n",
       "      <td>52.1</td>\n",
       "    </tr>\n",
       "    <tr>\n",
       "      <td>2</td>\n",
       "      <td>12000</td>\n",
       "      <td>Daegu</td>\n",
       "      <td>2016-01-01</td>\n",
       "      <td>1.7</td>\n",
       "      <td>-4.0</td>\n",
       "      <td>8.0</td>\n",
       "      <td>0.0</td>\n",
       "      <td>3.7</td>\n",
       "      <td>270.0</td>\n",
       "      <td>70.5</td>\n",
       "    </tr>\n",
       "    <tr>\n",
       "      <td>3</td>\n",
       "      <td>13000</td>\n",
       "      <td>Gwangju</td>\n",
       "      <td>2016-01-01</td>\n",
       "      <td>3.2</td>\n",
       "      <td>-1.5</td>\n",
       "      <td>8.1</td>\n",
       "      <td>0.0</td>\n",
       "      <td>2.7</td>\n",
       "      <td>230.0</td>\n",
       "      <td>73.1</td>\n",
       "    </tr>\n",
       "    <tr>\n",
       "      <td>4</td>\n",
       "      <td>14000</td>\n",
       "      <td>Incheon</td>\n",
       "      <td>2016-01-01</td>\n",
       "      <td>3.1</td>\n",
       "      <td>-0.4</td>\n",
       "      <td>5.7</td>\n",
       "      <td>0.0</td>\n",
       "      <td>5.3</td>\n",
       "      <td>180.0</td>\n",
       "      <td>83.9</td>\n",
       "    </tr>\n",
       "    <tr>\n",
       "      <td>...</td>\n",
       "      <td>...</td>\n",
       "      <td>...</td>\n",
       "      <td>...</td>\n",
       "      <td>...</td>\n",
       "      <td>...</td>\n",
       "      <td>...</td>\n",
       "      <td>...</td>\n",
       "      <td>...</td>\n",
       "      <td>...</td>\n",
       "      <td>...</td>\n",
       "    </tr>\n",
       "    <tr>\n",
       "      <td>26266</td>\n",
       "      <td>50000</td>\n",
       "      <td>Jeollabuk-do</td>\n",
       "      <td>2020-06-29</td>\n",
       "      <td>22.0</td>\n",
       "      <td>19.7</td>\n",
       "      <td>26.5</td>\n",
       "      <td>27.6</td>\n",
       "      <td>4.4</td>\n",
       "      <td>90.0</td>\n",
       "      <td>85.1</td>\n",
       "    </tr>\n",
       "    <tr>\n",
       "      <td>26267</td>\n",
       "      <td>51000</td>\n",
       "      <td>Jeollanam-do</td>\n",
       "      <td>2020-06-29</td>\n",
       "      <td>21.9</td>\n",
       "      <td>20.0</td>\n",
       "      <td>24.0</td>\n",
       "      <td>80.5</td>\n",
       "      <td>16.8</td>\n",
       "      <td>90.0</td>\n",
       "      <td>97.9</td>\n",
       "    </tr>\n",
       "    <tr>\n",
       "      <td>26268</td>\n",
       "      <td>60000</td>\n",
       "      <td>Gyeongsangbuk-do</td>\n",
       "      <td>2020-06-29</td>\n",
       "      <td>20.4</td>\n",
       "      <td>17.4</td>\n",
       "      <td>24.5</td>\n",
       "      <td>43.9</td>\n",
       "      <td>4.5</td>\n",
       "      <td>160.0</td>\n",
       "      <td>90.9</td>\n",
       "    </tr>\n",
       "    <tr>\n",
       "      <td>26269</td>\n",
       "      <td>61000</td>\n",
       "      <td>Gyeongsangnam-do</td>\n",
       "      <td>2020-06-29</td>\n",
       "      <td>21.9</td>\n",
       "      <td>18.8</td>\n",
       "      <td>25.5</td>\n",
       "      <td>98.9</td>\n",
       "      <td>5.8</td>\n",
       "      <td>160.0</td>\n",
       "      <td>85.0</td>\n",
       "    </tr>\n",
       "    <tr>\n",
       "      <td>26270</td>\n",
       "      <td>70000</td>\n",
       "      <td>Jeju-do</td>\n",
       "      <td>2020-06-29</td>\n",
       "      <td>23.2</td>\n",
       "      <td>19.1</td>\n",
       "      <td>27.6</td>\n",
       "      <td>25.1</td>\n",
       "      <td>12.8</td>\n",
       "      <td>270.0</td>\n",
       "      <td>87.4</td>\n",
       "    </tr>\n",
       "  </tbody>\n",
       "</table>\n",
       "<p>26271 rows × 10 columns</p>\n",
       "</div>"
      ],
      "text/plain": [
       "        code          province        date  avg_temp  min_temp  max_temp  \\\n",
       "0      10000             Seoul  2016-01-01       1.2      -3.3       4.0   \n",
       "1      11000             Busan  2016-01-01       5.3       1.1      10.9   \n",
       "2      12000             Daegu  2016-01-01       1.7      -4.0       8.0   \n",
       "3      13000           Gwangju  2016-01-01       3.2      -1.5       8.1   \n",
       "4      14000           Incheon  2016-01-01       3.1      -0.4       5.7   \n",
       "...      ...               ...         ...       ...       ...       ...   \n",
       "26266  50000      Jeollabuk-do  2020-06-29      22.0      19.7      26.5   \n",
       "26267  51000      Jeollanam-do  2020-06-29      21.9      20.0      24.0   \n",
       "26268  60000  Gyeongsangbuk-do  2020-06-29      20.4      17.4      24.5   \n",
       "26269  61000  Gyeongsangnam-do  2020-06-29      21.9      18.8      25.5   \n",
       "26270  70000           Jeju-do  2020-06-29      23.2      19.1      27.6   \n",
       "\n",
       "       precipitation  max_wind_speed  most_wind_direction  \\\n",
       "0                0.0             3.5                 90.0   \n",
       "1                0.0             7.4                340.0   \n",
       "2                0.0             3.7                270.0   \n",
       "3                0.0             2.7                230.0   \n",
       "4                0.0             5.3                180.0   \n",
       "...              ...             ...                  ...   \n",
       "26266           27.6             4.4                 90.0   \n",
       "26267           80.5            16.8                 90.0   \n",
       "26268           43.9             4.5                160.0   \n",
       "26269           98.9             5.8                160.0   \n",
       "26270           25.1            12.8                270.0   \n",
       "\n",
       "       avg_relative_humidity  \n",
       "0                       73.0  \n",
       "1                       52.1  \n",
       "2                       70.5  \n",
       "3                       73.1  \n",
       "4                       83.9  \n",
       "...                      ...  \n",
       "26266                   85.1  \n",
       "26267                   97.9  \n",
       "26268                   90.9  \n",
       "26269                   85.0  \n",
       "26270                   87.4  \n",
       "\n",
       "[26271 rows x 10 columns]"
      ]
     },
     "execution_count": 70,
     "metadata": {},
     "output_type": "execute_result"
    }
   ],
   "source": [
    "# load/read the data\n",
    "weather_csv = pd.read_csv('./data/Weather.csv')\n",
    "weather_csv"
   ]
  },
  {
   "cell_type": "code",
   "execution_count": 71,
   "metadata": {},
   "outputs": [
    {
     "data": {
      "text/plain": [
       "Text(0, 0, 'Seoul')"
      ]
     },
     "execution_count": 71,
     "metadata": {},
     "output_type": "execute_result"
    },
    {
     "data": {
      "image/png": "[encoded data removed]",
      "text/plain": [
       "<Figure size 432x288 with 1 Axes>"
      ]
     },
     "metadata": {
      "needs_background": "light"
     },
     "output_type": "display_data"
    }
   ],
   "source": [
    "# 서울의 2020-06-29 평균 바람 방향\n",
    "\n",
    "provinces = weather_csv['province'].unique()\n",
    "last_day_csv = weather_csv[weather_csv['date'] == \"2020-06-29\"]\n",
    "last_day_csv = last_day_csv[last_day_csv['province'] == \"Seoul\"]\n",
    "last_day_csv = last_day_csv[['max_wind_speed','most_wind_direction']]\n",
    "speed = last_day_csv.iloc[0].values[0]\n",
    "direction = last_day_csv.iloc[0].values[1]\n",
    "\n",
    "plt.axis([-5,5,-5,5])\n",
    "plt.text(speed * math.cos(direction/180*math.pi),speed * math.sin(direction/180*math.pi),\"Wind of 2020-06-29\" )\n",
    "plt.annotate('Seoul', \n",
    "             xy=(speed * math.cos(direction/180*math.pi),speed * math.sin(direction/180*math.pi)),\n",
    "             xytext=(0,0), arrowprops=dict(facecolor='green'))"
   ]
  },
  {
   "cell_type": "code",
   "execution_count": 72,
   "metadata": {},
   "outputs": [
    {
     "data": {
      "text/html": [
       "<div>\n",
       "<style scoped>\n",
       "    .dataframe tbody tr th:only-of-type {\n",
       "        vertical-align: middle;\n",
       "    }\n",
       "\n",
       "    .dataframe tbody tr th {\n",
       "        vertical-align: top;\n",
       "    }\n",
       "\n",
       "    .dataframe thead th {\n",
       "        text-align: right;\n",
       "    }\n",
       "</style>\n",
       "<table border=\"1\" class=\"dataframe\">\n",
       "  <thead>\n",
       "    <tr style=\"text-align: right;\">\n",
       "      <th></th>\n",
       "      <th>max_wind_speed</th>\n",
       "      <th>most_wind_direction</th>\n",
       "    </tr>\n",
       "  </thead>\n",
       "  <tbody>\n",
       "    <tr>\n",
       "      <td>26255</td>\n",
       "      <td>5.9</td>\n",
       "      <td>50.0</td>\n",
       "    </tr>\n",
       "  </tbody>\n",
       "</table>\n",
       "</div>"
      ],
      "text/plain": [
       "       max_wind_speed  most_wind_direction\n",
       "26255             5.9                 50.0"
      ]
     },
     "execution_count": 72,
     "metadata": {},
     "output_type": "execute_result"
    }
   ],
   "source": [
    "last_day_csv"
   ]
  },
  {
   "cell_type": "code",
   "execution_count": 73,
   "metadata": {},
   "outputs": [
    {
     "data": {
      "text/plain": [
       "array(['Seoul', 'Busan', 'Daegu', 'Gwangju', 'Incheon', 'Daejeon',\n",
       "       'Ulsan', 'Gyeonggi-do', 'Gangwon-do', 'Chungcheongbuk-do',\n",
       "       'Chungcheongnam-do', 'Jeollabuk-do', 'Jeollanam-do',\n",
       "       'Gyeongsangbuk-do', 'Gyeongsangnam-do', 'Jeju-do',\n",
       "       'Chunghceongbuk-do'], dtype=object)"
      ]
     },
     "execution_count": 73,
     "metadata": {},
     "output_type": "execute_result"
    }
   ],
   "source": [
    "weather_csv.province.unique()"
   ]
  },
  {
   "cell_type": "code",
   "execution_count": 74,
   "metadata": {},
   "outputs": [
    {
     "data": {
      "image/png": "[encoded data removed]",
      "text/plain": [
       "<Figure size 1080x720 with 1 Axes>"
      ]
     },
     "metadata": {
      "needs_background": "light"
     },
     "output_type": "display_data"
    }
   ],
   "source": [
    "# 서울 연평균 기온과 습도대비 기온\n",
    "\n",
    "seoul_csv = weather_csv[weather_csv['province'] == 'Seoul'].drop(['code'], axis=1)\n",
    "seoul_csv['date'] = pd.to_datetime(seoul_csv['date'])\n",
    "\n",
    "fig = plt.figure(figsize = (15,10))\n",
    "plt.plot('date', 'avg_temp', data = seoul_csv)\n",
    "\n",
    "plt.plot('date', 'avg_relative_humidity', data = seoul_csv)\n",
    "plt.title('average temperature and temperature relative humidity of seoul')\n",
    "\n",
    "plt.show()"
   ]
  },
  {
   "cell_type": "code",
   "execution_count": 75,
   "metadata": {},
   "outputs": [
    {
     "name": "stdout",
     "output_type": "stream",
     "text": [
      "Q.27: 81\n"
     ]
    }
   ],
   "source": [
    "# Q27. How many cells have missing values (Null/NaN)?\n",
    "print(\"Q.27:\",weather_csv.isnull().sum().sum())"
   ]
  },
  {
   "cell_type": "code",
   "execution_count": 76,
   "metadata": {},
   "outputs": [
    {
     "data": {
      "text/plain": [
       "81"
      ]
     },
     "execution_count": 76,
     "metadata": {},
     "output_type": "execute_result"
    }
   ],
   "source": [
    "weather_csv.isnull().sum().sum()"
   ]
  },
  {
   "cell_type": "code",
   "execution_count": 89,
   "metadata": {
    "colab": {},
    "colab_type": "code",
    "id": "1ZxQZaRl-H2S"
   },
   "outputs": [
    {
     "name": "stdout",
     "output_type": "stream",
     "text": [
      "Q.28: 262240\n"
     ]
    }
   ],
   "source": [
    "# drop missing values (Null/NaN)\n",
    "# Q28: After dropping the entries with missing values, what is the total number of entries left in the data?\n",
    "droped_csv = weather_csv.dropna()\n",
    "print(\"Q.28:\",droped_csv.shape[0] * droped_csv.shape[1])"
   ]
  },
  {
   "cell_type": "code",
   "execution_count": null,
   "metadata": {
    "colab": {},
    "colab_type": "code",
    "id": "1ZxQZaRl-H2S"
   },
   "outputs": [],
   "source": [
    "# correct misspelled value under the provinces column\n",
    "# Q29: Under the provinces column, there is one misspelled entry. After correcting this mistake, how many unique values are under this column?\n",
    "weather_csv['province'].unique() # Chunghceongbuk-do is wrong\n",
    "weather_csv[weather_csv['province'] == 'Chunghceongbuk-do'] = 'Chungcheongbuk-do'\n",
    "print(\"Q.29:\",len(weather_csv['province'].unique()))"
   ]
  },
  {
   "cell_type": "code",
   "execution_count": null,
   "metadata": {},
   "outputs": [],
   "source": [
    "li = []\n",
    "for i in weather_csv['avg_temp'].tolist():\n",
    "    if type(i) == str: continue\n",
    "    li.append(i)\n",
    "    \n",
    "max(li)"
   ]
  },
  {
   "cell_type": "code",
   "execution_count": null,
   "metadata": {
    "scrolled": false
   },
   "outputs": [],
   "source": [
    "# Q30: What is the highest average temperature? (round to the nearest tenths)\n",
    "for idx, x in enumerate(weather_csv['avg_temp'].tolist()):\n",
    "    if type(x) != float:\n",
    "        print(idx, x)\n",
    "        # worng data in weather_csv['avg_temp']"
   ]
  },
  {
   "cell_type": "code",
   "execution_count": null,
   "metadata": {},
   "outputs": [],
   "source": [
    "droped_weather_csv = weather_csv[weather_csv['avg_temp'] != 'Chungcheongbuk-do']\n",
    "print(\"Q.30:\",droped_weather_csv['avg_temp'].max())"
   ]
  },
  {
   "cell_type": "markdown",
   "metadata": {
    "colab_type": "text",
    "id": "CY_sQwg9-H2T"
   },
   "source": [
    "### Task 6: Patient"
   ]
  },
  {
   "cell_type": "code",
   "execution_count": 78,
   "metadata": {
    "colab": {},
    "colab_type": "code",
    "id": "lCAS9GuI-H2U"
   },
   "outputs": [
    {
     "data": {
      "text/html": [
       "<div>\n",
       "<style scoped>\n",
       "    .dataframe tbody tr th:only-of-type {\n",
       "        vertical-align: middle;\n",
       "    }\n",
       "\n",
       "    .dataframe tbody tr th {\n",
       "        vertical-align: top;\n",
       "    }\n",
       "\n",
       "    .dataframe thead th {\n",
       "        text-align: right;\n",
       "    }\n",
       "</style>\n",
       "<table border=\"1\" class=\"dataframe\">\n",
       "  <thead>\n",
       "    <tr style=\"text-align: right;\">\n",
       "      <th></th>\n",
       "      <th>patient_id</th>\n",
       "      <th>sex</th>\n",
       "      <th>age</th>\n",
       "      <th>country</th>\n",
       "      <th>province</th>\n",
       "      <th>city</th>\n",
       "      <th>infection_case</th>\n",
       "      <th>infected_by</th>\n",
       "      <th>contact_number</th>\n",
       "      <th>symptom_onset_date</th>\n",
       "      <th>confirmed_date</th>\n",
       "      <th>released_date</th>\n",
       "      <th>deceased_date</th>\n",
       "      <th>state</th>\n",
       "    </tr>\n",
       "  </thead>\n",
       "  <tbody>\n",
       "    <tr>\n",
       "      <td>0</td>\n",
       "      <td>1000000001</td>\n",
       "      <td>male</td>\n",
       "      <td>50s</td>\n",
       "      <td>Korea</td>\n",
       "      <td>Seoul</td>\n",
       "      <td>Gangseo-gu</td>\n",
       "      <td>overseas inflow</td>\n",
       "      <td>NaN</td>\n",
       "      <td>75</td>\n",
       "      <td>2020-01-22</td>\n",
       "      <td>2020-01-23</td>\n",
       "      <td>2020-02-05</td>\n",
       "      <td>NaN</td>\n",
       "      <td>released</td>\n",
       "    </tr>\n",
       "    <tr>\n",
       "      <td>1</td>\n",
       "      <td>1000000002</td>\n",
       "      <td>male</td>\n",
       "      <td>30s</td>\n",
       "      <td>Korea</td>\n",
       "      <td>Seoul</td>\n",
       "      <td>Jungnang-gu</td>\n",
       "      <td>overseas inflow</td>\n",
       "      <td>NaN</td>\n",
       "      <td>31</td>\n",
       "      <td>NaN</td>\n",
       "      <td>2020-01-30</td>\n",
       "      <td>2020-03-02</td>\n",
       "      <td>NaN</td>\n",
       "      <td>released</td>\n",
       "    </tr>\n",
       "    <tr>\n",
       "      <td>2</td>\n",
       "      <td>1000000003</td>\n",
       "      <td>male</td>\n",
       "      <td>50s</td>\n",
       "      <td>Korea</td>\n",
       "      <td>Seoul</td>\n",
       "      <td>Jongno-gu</td>\n",
       "      <td>contact with patient</td>\n",
       "      <td>2002000001</td>\n",
       "      <td>17</td>\n",
       "      <td>NaN</td>\n",
       "      <td>2020-01-30</td>\n",
       "      <td>2020-02-19</td>\n",
       "      <td>NaN</td>\n",
       "      <td>released</td>\n",
       "    </tr>\n",
       "    <tr>\n",
       "      <td>3</td>\n",
       "      <td>1000000004</td>\n",
       "      <td>male</td>\n",
       "      <td>20s</td>\n",
       "      <td>Korea</td>\n",
       "      <td>Seoul</td>\n",
       "      <td>Mapo-gu</td>\n",
       "      <td>overseas inflow</td>\n",
       "      <td>NaN</td>\n",
       "      <td>9</td>\n",
       "      <td>2020-01-26</td>\n",
       "      <td>2020-01-30</td>\n",
       "      <td>2020-02-15</td>\n",
       "      <td>NaN</td>\n",
       "      <td>released</td>\n",
       "    </tr>\n",
       "    <tr>\n",
       "      <td>4</td>\n",
       "      <td>1000000005</td>\n",
       "      <td>female</td>\n",
       "      <td>20s</td>\n",
       "      <td>Korea</td>\n",
       "      <td>Seoul</td>\n",
       "      <td>Seongbuk-gu</td>\n",
       "      <td>contact with patient</td>\n",
       "      <td>1000000002</td>\n",
       "      <td>2</td>\n",
       "      <td>NaN</td>\n",
       "      <td>2020-01-31</td>\n",
       "      <td>2020-02-24</td>\n",
       "      <td>NaN</td>\n",
       "      <td>released</td>\n",
       "    </tr>\n",
       "    <tr>\n",
       "      <td>...</td>\n",
       "      <td>...</td>\n",
       "      <td>...</td>\n",
       "      <td>...</td>\n",
       "      <td>...</td>\n",
       "      <td>...</td>\n",
       "      <td>...</td>\n",
       "      <td>...</td>\n",
       "      <td>...</td>\n",
       "      <td>...</td>\n",
       "      <td>...</td>\n",
       "      <td>...</td>\n",
       "      <td>...</td>\n",
       "      <td>...</td>\n",
       "      <td>...</td>\n",
       "    </tr>\n",
       "    <tr>\n",
       "      <td>5160</td>\n",
       "      <td>7000000015</td>\n",
       "      <td>female</td>\n",
       "      <td>30s</td>\n",
       "      <td>Korea</td>\n",
       "      <td>Jeju-do</td>\n",
       "      <td>Jeju-do</td>\n",
       "      <td>overseas inflow</td>\n",
       "      <td>NaN</td>\n",
       "      <td>25</td>\n",
       "      <td>NaN</td>\n",
       "      <td>2020-05-30</td>\n",
       "      <td>2020-06-13</td>\n",
       "      <td>NaN</td>\n",
       "      <td>released</td>\n",
       "    </tr>\n",
       "    <tr>\n",
       "      <td>5161</td>\n",
       "      <td>7000000016</td>\n",
       "      <td>NaN</td>\n",
       "      <td>NaN</td>\n",
       "      <td>Korea</td>\n",
       "      <td>Jeju-do</td>\n",
       "      <td>Jeju-do</td>\n",
       "      <td>overseas inflow</td>\n",
       "      <td>NaN</td>\n",
       "      <td>NaN</td>\n",
       "      <td>NaN</td>\n",
       "      <td>2020-06-16</td>\n",
       "      <td>2020-06-24</td>\n",
       "      <td>NaN</td>\n",
       "      <td>released</td>\n",
       "    </tr>\n",
       "    <tr>\n",
       "      <td>5162</td>\n",
       "      <td>7000000017</td>\n",
       "      <td>NaN</td>\n",
       "      <td>NaN</td>\n",
       "      <td>Bangladesh</td>\n",
       "      <td>Jeju-do</td>\n",
       "      <td>Jeju-do</td>\n",
       "      <td>overseas inflow</td>\n",
       "      <td>NaN</td>\n",
       "      <td>72</td>\n",
       "      <td>NaN</td>\n",
       "      <td>2020-06-18</td>\n",
       "      <td>NaN</td>\n",
       "      <td>NaN</td>\n",
       "      <td>isolated</td>\n",
       "    </tr>\n",
       "    <tr>\n",
       "      <td>5163</td>\n",
       "      <td>7000000018</td>\n",
       "      <td>NaN</td>\n",
       "      <td>NaN</td>\n",
       "      <td>Bangladesh</td>\n",
       "      <td>Jeju-do</td>\n",
       "      <td>Jeju-do</td>\n",
       "      <td>overseas inflow</td>\n",
       "      <td>NaN</td>\n",
       "      <td>NaN</td>\n",
       "      <td>NaN</td>\n",
       "      <td>2020-06-18</td>\n",
       "      <td>NaN</td>\n",
       "      <td>NaN</td>\n",
       "      <td>isolated</td>\n",
       "    </tr>\n",
       "    <tr>\n",
       "      <td>5164</td>\n",
       "      <td>7000000019</td>\n",
       "      <td>NaN</td>\n",
       "      <td>NaN</td>\n",
       "      <td>Bangladesh</td>\n",
       "      <td>Jeju-do</td>\n",
       "      <td>Jeju-do</td>\n",
       "      <td>overseas inflow</td>\n",
       "      <td>NaN</td>\n",
       "      <td>NaN</td>\n",
       "      <td>NaN</td>\n",
       "      <td>2020-06-18</td>\n",
       "      <td>NaN</td>\n",
       "      <td>NaN</td>\n",
       "      <td>isolated</td>\n",
       "    </tr>\n",
       "  </tbody>\n",
       "</table>\n",
       "<p>5165 rows × 14 columns</p>\n",
       "</div>"
      ],
      "text/plain": [
       "      patient_id     sex  age     country province         city  \\\n",
       "0     1000000001    male  50s       Korea    Seoul   Gangseo-gu   \n",
       "1     1000000002    male  30s       Korea    Seoul  Jungnang-gu   \n",
       "2     1000000003    male  50s       Korea    Seoul    Jongno-gu   \n",
       "3     1000000004    male  20s       Korea    Seoul      Mapo-gu   \n",
       "4     1000000005  female  20s       Korea    Seoul  Seongbuk-gu   \n",
       "...          ...     ...  ...         ...      ...          ...   \n",
       "5160  7000000015  female  30s       Korea  Jeju-do      Jeju-do   \n",
       "5161  7000000016     NaN  NaN       Korea  Jeju-do      Jeju-do   \n",
       "5162  7000000017     NaN  NaN  Bangladesh  Jeju-do      Jeju-do   \n",
       "5163  7000000018     NaN  NaN  Bangladesh  Jeju-do      Jeju-do   \n",
       "5164  7000000019     NaN  NaN  Bangladesh  Jeju-do      Jeju-do   \n",
       "\n",
       "            infection_case infected_by contact_number symptom_onset_date  \\\n",
       "0          overseas inflow         NaN             75         2020-01-22   \n",
       "1          overseas inflow         NaN             31                NaN   \n",
       "2     contact with patient  2002000001             17                NaN   \n",
       "3          overseas inflow         NaN              9         2020-01-26   \n",
       "4     contact with patient  1000000002              2                NaN   \n",
       "...                    ...         ...            ...                ...   \n",
       "5160       overseas inflow         NaN             25                NaN   \n",
       "5161       overseas inflow         NaN            NaN                NaN   \n",
       "5162       overseas inflow         NaN             72                NaN   \n",
       "5163       overseas inflow         NaN            NaN                NaN   \n",
       "5164       overseas inflow         NaN            NaN                NaN   \n",
       "\n",
       "     confirmed_date released_date deceased_date     state  \n",
       "0        2020-01-23    2020-02-05           NaN  released  \n",
       "1        2020-01-30    2020-03-02           NaN  released  \n",
       "2        2020-01-30    2020-02-19           NaN  released  \n",
       "3        2020-01-30    2020-02-15           NaN  released  \n",
       "4        2020-01-31    2020-02-24           NaN  released  \n",
       "...             ...           ...           ...       ...  \n",
       "5160     2020-05-30    2020-06-13           NaN  released  \n",
       "5161     2020-06-16    2020-06-24           NaN  released  \n",
       "5162     2020-06-18           NaN           NaN  isolated  \n",
       "5163     2020-06-18           NaN           NaN  isolated  \n",
       "5164     2020-06-18           NaN           NaN  isolated  \n",
       "\n",
       "[5165 rows x 14 columns]"
      ]
     },
     "execution_count": 78,
     "metadata": {},
     "output_type": "execute_result"
    }
   ],
   "source": [
    "# load/read the data\n",
    "patient_csv = pd.read_csv('./data/Patientinfo.csv')\n",
    "patient_csv"
   ]
  },
  {
   "cell_type": "code",
   "execution_count": null,
   "metadata": {},
   "outputs": [],
   "source": [
    "patient_csv['contact_number'].dropna().max()"
   ]
  },
  {
   "cell_type": "code",
   "execution_count": 87,
   "metadata": {},
   "outputs": [
    {
     "data": {
      "text/plain": [
       "0        75\n",
       "1        31\n",
       "3         9\n",
       "7         0\n",
       "8        68\n",
       "       ... \n",
       "5160     25\n",
       "5161    NaN\n",
       "5162     72\n",
       "5163    NaN\n",
       "5164    NaN\n",
       "Name: contact_number, Length: 3819, dtype: object"
      ]
     },
     "execution_count": 87,
     "metadata": {},
     "output_type": "execute_result"
    }
   ],
   "source": [
    "# Q32. What is the largest number of human contact before a patient is comfirmed?\n",
    "before_confirmed_csv = patient_csv[patient_csv['infected_by'].isnull()]\n",
    "before_confirmed_csv['contact_number']"
   ]
  },
  {
   "cell_type": "code",
   "execution_count": null,
   "metadata": {},
   "outputs": [],
   "source": [
    "countries = patient_csv['country'].unique()\n",
    "count_list = []\n",
    "\n",
    "for country in patient_csv['country'].unique():\n",
    "    count_list.append(patient_csv[patient_csv['country'] == country].shape[0])\n",
    "\n",
    "fig = plt.figure(figsize = (15,10))\n",
    "plt.bar(countries, count_list,  color=[\"C{}\".format(x) for x in range(len(count_list))])\n",
    "plt.title('Graph about confirmed patient for country')\n",
    "plt.xlabel('Countries')\n",
    "plt.ylabel('Confirmed patients')\n",
    "plt.show()"
   ]
  },
  {
   "cell_type": "code",
   "execution_count": null,
   "metadata": {},
   "outputs": [],
   "source": [
    "fig = plt.figure(figsize = (15,15))\n",
    "plt.pie(count_list,\n",
    "       explode = (0.2,0,0,0,0,0,0,0,0,0,0,0,0,0,0,0),\n",
    "       labels = [x if x == 'Korea' else 'Other' for x in countries],\n",
    "       autopct='%.2f%%',\n",
    "       textprops={'fontsize':14})\n",
    "plt.title('Pie chart of country confirmed patient')\n",
    "plt.show()"
   ]
  },
  {
   "cell_type": "code",
   "execution_count": null,
   "metadata": {},
   "outputs": [],
   "source": [
    "# Q33. How many were non-Korean patients?\n",
    "print(\"Q.33:\",patient_csv[patient_csv['country'] != 'Korea'].shape[0])"
   ]
  },
  {
   "cell_type": "markdown",
   "metadata": {
    "colab_type": "text",
    "id": "flR1zVC--H2W"
   },
   "source": [
    "# Task 7: Search"
   ]
  },
  {
   "cell_type": "code",
   "execution_count": null,
   "metadata": {
    "colab": {},
    "colab_type": "code",
    "id": "740dYwpk-H2W"
   },
   "outputs": [],
   "source": [
    "# load/read the data\n",
    "search_csv = pd.read_csv('./data/SearchTrend.csv')\n",
    "search_csv"
   ]
  },
  {
   "cell_type": "code",
   "execution_count": null,
   "metadata": {},
   "outputs": [],
   "source": [
    "search_csv[search_csv['coronavirus'] >= 100]"
   ]
  },
  {
   "cell_type": "code",
   "execution_count": null,
   "metadata": {},
   "outputs": [],
   "source": [
    "# Q34. How many topics related to respiratory diseases were included in this data?\n",
    "print(\"Q.34:\",4)\n",
    "\n",
    "# Q35. How many days were included from the start to the end of the time series?\n",
    "search_csv['date'] = pd.to_datetime(search_csv['date'])\n",
    "print(\"Q.35:\",str(search_csv['date'].max() - search_csv['date'].min()).split(' ')[0])\n",
    "\n",
    "# Q36. How many days after the first case in Korea did the search trend for coronavirus reached 100% intersts\n",
    "print(\"Q.36:\",str(search_csv[search_csv['coronavirus'] >= 100]['date'].iloc[0] - search_csv['date'].iloc[0]).split(' ')[0])"
   ]
  },
  {
   "cell_type": "code",
   "execution_count": null,
   "metadata": {
    "colab": {},
    "colab_type": "code",
    "id": "ijqVH08k-H2Y"
   },
   "outputs": [],
   "source": [
    "# 검색 주제 그래프\n",
    "search_csv['date'] = pd.to_datetime(search_csv['date'])\n",
    "\n",
    "fig = plt.figure(figsize = (15,10))\n",
    "plt.plot(search_csv['date'],search_csv['coronavirus'].values, label = 'coronavirus')\n",
    "plt.plot(search_csv['date'],search_csv['cold'].values, label = 'cold')\n",
    "plt.plot(search_csv['date'],search_csv['flu'].values, label = 'flu')\n",
    "plt.plot(search_csv['date'],search_csv['pneumonia'].values, label = 'pneumonia')\n",
    "plt.xlabel('Date')\n",
    "plt.title('Search topics related to respiratory diseases')\n",
    "plt.legend()\n",
    "plt.show()"
   ]
  },
  {
   "cell_type": "code",
   "execution_count": null,
   "metadata": {},
   "outputs": [],
   "source": [
    "# max 그래프\n",
    "fig = plt.figure(figsize = (15,15))\n",
    "plt.pie(list(search_csv.drop(['date'],axis=1).max()),\n",
    "       explode = [0,0,0,0.1],\n",
    "       labels = search_csv.drop(['date'],axis=1).columns,\n",
    "       autopct = '%.2f%%',\n",
    "       textprops={'fontsize':20})\n",
    "plt.show()"
   ]
  },
  {
   "cell_type": "code",
   "execution_count": null,
   "metadata": {},
   "outputs": [],
   "source": [
    "fig = plt.figure(figsize = (15,15))\n",
    "plt.pie(count_list,\n",
    "       explode = (0.2,0,0,0,0,0,0,0,0,0,0,0,0,0,0,0),\n",
    "       labels = [x if x == 'Korea' else 'Other' for x in countries],\n",
    "       autopct='%.2f%%',\n",
    "       textprops={'fontsize':14})\n",
    "plt.title('Pie chart of country confirmed patient')"
   ]
  },
  {
   "cell_type": "markdown",
   "metadata": {
    "colab_type": "text",
    "id": "dQVzH6R5-H2Y"
   },
   "source": [
    "# Task 8: Test"
   ]
  },
  {
   "cell_type": "code",
   "execution_count": null,
   "metadata": {
    "colab": {},
    "colab_type": "code",
    "id": "ijqVH08k-H2Y"
   },
   "outputs": [],
   "source": [
    "# load/read the data\n",
    "time_csv = pd.read_csv('./data/Time.csv')\n",
    "time_csv"
   ]
  },
  {
   "cell_type": "code",
   "execution_count": null,
   "metadata": {},
   "outputs": [],
   "source": [
    "# 음성, 양성, 완치, 사망 누적 그래프\n",
    "\n",
    "# 검색 주제 그래프\n",
    "time_csv['date'] = pd.to_datetime(time_csv['date'])\n",
    "\n",
    "fig = plt.figure(figsize = (15,10))\n",
    "plt.plot(time_csv['date'],time_csv['negative'].values, label = 'negative')\n",
    "plt.plot(time_csv['date'],time_csv['confirmed'].values, label = 'confirmed')\n",
    "plt.plot(time_csv['date'],time_csv['released'].values, label = 'released')\n",
    "plt.plot(time_csv['date'],time_csv['deceased'].values, label = 'deceased')\n",
    "plt.xlabel('Date')\n",
    "plt.title('Search topics related to respiratory diseases')\n",
    "plt.legend()\n",
    "plt.show()"
   ]
  },
  {
   "cell_type": "code",
   "execution_count": null,
   "metadata": {},
   "outputs": [],
   "source": [
    "# 양성, 완치, 사망 누적 그래프\n",
    "\n",
    "# 검색 주제 그래프\n",
    "time_csv['date'] = pd.to_datetime(time_csv['date'])\n",
    "\n",
    "fig = plt.figure(figsize = (15,10))\n",
    "plt.plot(time_csv['date'],time_csv['confirmed'].values, label = 'confirmed')\n",
    "plt.plot(time_csv['date'],time_csv['released'].values, label = 'released')\n",
    "plt.plot(time_csv['date'],time_csv['deceased'].values, label = 'deceased')\n",
    "plt.xlabel('Date')\n",
    "plt.title('Search topics related to respiratory diseases')\n",
    "plt.legend()\n",
    "plt.show()"
   ]
  },
  {
   "cell_type": "code",
   "execution_count": null,
   "metadata": {},
   "outputs": [],
   "source": [
    "time_csv"
   ]
  },
  {
   "cell_type": "code",
   "execution_count": null,
   "metadata": {},
   "outputs": [],
   "source": [
    "# Q37. What is the total number of tests conducted by the end of June?\n",
    "print(\"Q.37:\",time_csv['test'].iloc[-1])\n",
    "\n",
    "# Q38. What percentage of the tests resulted in negative by the end of June? (round to the nearest hundredths)\n",
    "print(\"Q.38:\",round(time_csv['negative'].iloc[-1]/time_csv['test'].iloc[-1]*100,2))\n",
    "\n",
    "# Q39. How many were deceased cases by the end of June?\n",
    "print(\"Q.39:\", time_csv['deceased'].iloc[-1])\n",
    "\n",
    "# Q40. How many were released cases by the end of June?\n",
    "print(\"Q.40:\", time_csv['released'].iloc[-1])"
   ]
  },
  {
   "cell_type": "markdown",
   "metadata": {
    "colab_type": "text",
    "id": "EUqBK1Bs-H2c"
   },
   "source": [
    "### Conclusion\n",
    "\n",
    "Write down your thoughts about the data you just explored."
   ]
  },
  {
   "cell_type": "markdown",
   "metadata": {},
   "source": [
    "## Trouble shooting\n",
    "\n",
    "### Usefule Structure, DataFrame\n",
    "I'm having a project with LUMAX Health care about diagonose sleep disorder and insomnia by deep-learning model. In that process, I need to preprocess a huge amount of EEG data I've got from SNU Hospital. It had been difficult tasks til I learned the methods in DataFrame itself, **merge** and **sort**.  \n",
    "Before I did know about these useful function, all the data was tranformed to list, then preprocessed, and finally became DataFrame and csv back. But now, alignments or squeezing feature processing become easier, simpler, and faster. Following figure and code segments are the preprocessed data about EEG.\n",
    "\n",
    "```Python\n",
    "import os\n",
    "import os.path\n",
    "import numpy as np\n",
    "import mne\n",
    "import pandas as pd\n",
    "from tqdm import tqdm_notebook\n",
    "from datetime import datetime\n",
    "import pytz\n",
    "\n",
    "# path\n",
    "category = 'narco'\n",
    "category_folder_path = './'+category+'/'\n",
    "category_csv_folder_path = './'+category+'/csv/'\n",
    "\n",
    "# file type\n",
    "file_type = 'edf'\n",
    "\n",
    "if not os.path.exists(category_csv_folder_path):\n",
    "    os.mkdir(category_csv_folder_path)\n",
    "else:\n",
    "    print(\"already exists\")\n",
    "    \n",
    "# file list in ins\n",
    "category_list = [category_file for category_file in os.listdir(category_folder_path) if category_file.split('.')[-1] == file_type]\n",
    "\n",
    "# integration second\n",
    "integ_second = 1\n",
    "\n",
    "# file load\n",
    "for category_name in tqdm_notebook(category_list):\n",
    "    raw_data = mne.io.read_raw_edf(category_folder_path + category_name)\n",
    "    \n",
    "    # get data from channel names\n",
    "    data = raw_data.get_data(picks = [ch for ch in raw_data.info['ch_names']])\n",
    "    \n",
    "    # segment N sec data and get mean\n",
    "    sample_rate = int(raw_data.info['sfreq'])\n",
    "\n",
    "    li = [[] for i in range(data.shape[0])]\n",
    "\n",
    "    for idx, signal in enumerate(data):\n",
    "        for i in range(int(len(signal)/(integ_second * sample_rate))):\n",
    "            li[idx].append(np.mean(signal[(integ_second * sample_rate)*i:(integ_second * sample_rate)*(i+1)]))\n",
    "    \n",
    "    # integrate date\n",
    "    ms_date = raw_data.info['meas_date'][0] # 측정 시간: (1199224544, 0)\n",
    "    sample_rate = raw_data.info['sfreq'] # sample rate\n",
    "    signal_len = data.shape[1] # 데이터 길이\n",
    "\n",
    "    # get data and replace\n",
    "    date = datetime.utcfromtimestamp(ms_date)\n",
    "    date_list =[str(datetime.utcfromtimestamp(ms_date + i*integ_second)).split()[1] for i in range(int(len(signal)/(integ_second * sample_rate)))]\n",
    "    \n",
    "    # to dataframe\n",
    "    mean_df = pd.DataFrame(np.swapaxes(np.array(li),1,0),columns = raw_data.info['ch_names'])\n",
    "    mean_df['Date'] = date_list\n",
    "    mean_df.to_csv(category_csv_folder_path + category_name.split('.')[0] + '.csv', index = False)\n",
    "    print(category_name,\" successfully conversioned\")\n",
    "```\n",
    "  \n",
    "![img](./img/insomnia_subject1_data.JPG)\n",
    "\n",
    "### Access to DataFrame\n",
    "To access specfic row or columns in DataFrame is important issues. Not as array, list, tuple which are easy to access and intuitive, DataFrame was new data structure for me.  \n",
    "Solving 40 Questiones and dealing DataFrame were so helpful to learn about extract a proper informations that the problems demand.  \n",
    "`DataFrmae[DataFrame['Column name'] == To Find value]`  \n",
    "`DataFrame['Columns name'].iloc[] or loc`  \n",
    "`DataFrame.sort_values(by = Columns)`  \n",
    "`DataFrame.set_index() and reset_index() with drop()`  \n",
    "`DataFrame.isnull() and dropna()`  \n",
    "methods are now familiar and easier. My dealing skils improve while I did this homework. So, I hope that next homework also be enjoyable and meaningful to me.\n",
    "  \n",
    "And the following reference is my GitHub Page.  \n",
    "GitHub: https://github.com/wch18735/Data_Science"
   ]
  }
 ],
 "metadata": {
  "colab": {
   "name": "samplenotebook-eda.ipynb",
   "provenance": [],
   "toc_visible": true
  },
  "kernelspec": {
   "display_name": "Python 3",
   "language": "python",
   "name": "python3"
  },
  "language_info": {
   "codemirror_mode": {
    "name": "ipython",
    "version": 3
   },
   "file_extension": ".py",
   "mimetype": "text/x-python",
   "name": "python",
   "nbconvert_exporter": "python",
   "pygments_lexer": "ipython3",
   "version": "3.7.4"
  }
 },
 "nbformat": 4,
 "nbformat_minor": 1
}
