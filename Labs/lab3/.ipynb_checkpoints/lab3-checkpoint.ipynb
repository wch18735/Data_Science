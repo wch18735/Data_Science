{
 "cells": [
  {
   "cell_type": "code",
   "execution_count": 1,
   "metadata": {},
   "outputs": [],
   "source": [
    "import os\n",
    "import os.path"
   ]
  },
  {
   "cell_type": "code",
   "execution_count": 2,
   "metadata": {},
   "outputs": [
    {
     "data": {
      "text/plain": [
       "['codebook.xlsx',\n",
       " 'Lab 3 guide.pdf',\n",
       " 'test.csv',\n",
       " 'train.csv',\n",
       " 'lab3.ipynb',\n",
       " '.ipynb_checkpoints']"
      ]
     },
     "execution_count": 2,
     "metadata": {},
     "output_type": "execute_result"
    }
   ],
   "source": [
    "os.listdir()"
   ]
  },
  {
   "cell_type": "code",
   "execution_count": 3,
   "metadata": {},
   "outputs": [],
   "source": [
    "import pandas as pd"
   ]
  },
  {
   "cell_type": "code",
   "execution_count": 4,
   "metadata": {},
   "outputs": [
    {
     "data": {
      "text/html": [
       "<div>\n",
       "<style scoped>\n",
       "    .dataframe tbody tr th:only-of-type {\n",
       "        vertical-align: middle;\n",
       "    }\n",
       "\n",
       "    .dataframe tbody tr th {\n",
       "        vertical-align: top;\n",
       "    }\n",
       "\n",
       "    .dataframe thead th {\n",
       "        text-align: right;\n",
       "    }\n",
       "</style>\n",
       "<table border=\"1\" class=\"dataframe\">\n",
       "  <thead>\n",
       "    <tr style=\"text-align: right;\">\n",
       "      <th></th>\n",
       "      <th>Variable name</th>\n",
       "      <th>Variable description</th>\n",
       "    </tr>\n",
       "  </thead>\n",
       "  <tbody>\n",
       "    <tr>\n",
       "      <th>0</th>\n",
       "      <td>v2a1</td>\n",
       "      <td>Monthly rent payment</td>\n",
       "    </tr>\n",
       "    <tr>\n",
       "      <th>1</th>\n",
       "      <td>hacdor</td>\n",
       "      <td>=1 Overcrowding by bedrooms</td>\n",
       "    </tr>\n",
       "    <tr>\n",
       "      <th>2</th>\n",
       "      <td>rooms</td>\n",
       "      <td>number of all rooms in the house</td>\n",
       "    </tr>\n",
       "    <tr>\n",
       "      <th>3</th>\n",
       "      <td>hacapo</td>\n",
       "      <td>=1 Overcrowding by rooms</td>\n",
       "    </tr>\n",
       "    <tr>\n",
       "      <th>4</th>\n",
       "      <td>v14a</td>\n",
       "      <td>=1 has toilet in the household</td>\n",
       "    </tr>\n",
       "    <tr>\n",
       "      <th>...</th>\n",
       "      <td>...</td>\n",
       "      <td>...</td>\n",
       "    </tr>\n",
       "    <tr>\n",
       "      <th>136</th>\n",
       "      <td>SQBhogar_nin</td>\n",
       "      <td>hogar_nin squared</td>\n",
       "    </tr>\n",
       "    <tr>\n",
       "      <th>137</th>\n",
       "      <td>SQBovercrowding</td>\n",
       "      <td>overcrowding squared</td>\n",
       "    </tr>\n",
       "    <tr>\n",
       "      <th>138</th>\n",
       "      <td>SQBdependency</td>\n",
       "      <td>dependency squared</td>\n",
       "    </tr>\n",
       "    <tr>\n",
       "      <th>139</th>\n",
       "      <td>SQBmeaned</td>\n",
       "      <td>meaned squared</td>\n",
       "    </tr>\n",
       "    <tr>\n",
       "      <th>140</th>\n",
       "      <td>agesq</td>\n",
       "      <td>Age squared</td>\n",
       "    </tr>\n",
       "  </tbody>\n",
       "</table>\n",
       "<p>141 rows × 2 columns</p>\n",
       "</div>"
      ],
      "text/plain": [
       "       Variable name               Variable description\n",
       "0               v2a1               Monthly rent payment\n",
       "1             hacdor        =1 Overcrowding by bedrooms\n",
       "2              rooms   number of all rooms in the house\n",
       "3             hacapo           =1 Overcrowding by rooms\n",
       "4               v14a     =1 has toilet in the household\n",
       "..               ...                                ...\n",
       "136     SQBhogar_nin                  hogar_nin squared\n",
       "137  SQBovercrowding               overcrowding squared\n",
       "138    SQBdependency                 dependency squared\n",
       "139        SQBmeaned                     meaned squared\n",
       "140            agesq                        Age squared\n",
       "\n",
       "[141 rows x 2 columns]"
      ]
     },
     "execution_count": 4,
     "metadata": {},
     "output_type": "execute_result"
    }
   ],
   "source": [
    "# codebook\n",
    "codebook = pd.read_excel(\"codebook.xlsx\")\n",
    "codebook"
   ]
  },
  {
   "cell_type": "code",
   "execution_count": 5,
   "metadata": {},
   "outputs": [],
   "source": [
    "def check_description(codebook, variable_name):\n",
    "    \"\"\"\n",
    "    print description of variable_name\n",
    "    \"\"\"\n",
    "    print(codebook['Variable description'][codebook['Variable name'] == variable_name])"
   ]
  },
  {
   "cell_type": "markdown",
   "metadata": {},
   "source": [
    "## Part1: Understanding and defining the problem\n",
    "- The goal of this task is to predict the poverty level for each household."
   ]
  },
  {
   "cell_type": "markdown",
   "metadata": {},
   "source": [
    "#### Q1. Define the machine learning problem of this problem"
   ]
  },
  {
   "cell_type": "markdown",
   "metadata": {},
   "source": [
    "    A1: Supervised learning and classification"
   ]
  },
  {
   "cell_type": "markdown",
   "metadata": {},
   "source": [
    "#### Q2. Explain the meaning of the target and the categories of the target \n",
    "- Target: ordinal variable indicating groups of income level\n",
    "- categories of the target: 1~4\n",
    " - 1: extreme poverty\n",
    " - 2: moderate poverty\n",
    " - 3: vulnerable households\n",
    " - 4: non-vulnerable households"
   ]
  },
  {
   "cell_type": "code",
   "execution_count": 6,
   "metadata": {},
   "outputs": [
    {
     "data": {
      "text/html": [
       "<div>\n",
       "<style scoped>\n",
       "    .dataframe tbody tr th:only-of-type {\n",
       "        vertical-align: middle;\n",
       "    }\n",
       "\n",
       "    .dataframe tbody tr th {\n",
       "        vertical-align: top;\n",
       "    }\n",
       "\n",
       "    .dataframe thead th {\n",
       "        text-align: right;\n",
       "    }\n",
       "</style>\n",
       "<table border=\"1\" class=\"dataframe\">\n",
       "  <thead>\n",
       "    <tr style=\"text-align: right;\">\n",
       "      <th></th>\n",
       "      <th>Id</th>\n",
       "      <th>v2a1</th>\n",
       "      <th>hacdor</th>\n",
       "      <th>rooms</th>\n",
       "      <th>hacapo</th>\n",
       "      <th>v14a</th>\n",
       "      <th>refrig</th>\n",
       "      <th>v18q</th>\n",
       "      <th>v18q1</th>\n",
       "      <th>r4h1</th>\n",
       "      <th>...</th>\n",
       "      <th>SQBescolari</th>\n",
       "      <th>SQBage</th>\n",
       "      <th>SQBhogar_total</th>\n",
       "      <th>SQBedjefe</th>\n",
       "      <th>SQBhogar_nin</th>\n",
       "      <th>SQBovercrowding</th>\n",
       "      <th>SQBdependency</th>\n",
       "      <th>SQBmeaned</th>\n",
       "      <th>agesq</th>\n",
       "      <th>Target</th>\n",
       "    </tr>\n",
       "  </thead>\n",
       "  <tbody>\n",
       "    <tr>\n",
       "      <th>0</th>\n",
       "      <td>ID_279628684</td>\n",
       "      <td>190000.0</td>\n",
       "      <td>0</td>\n",
       "      <td>3</td>\n",
       "      <td>0</td>\n",
       "      <td>1</td>\n",
       "      <td>1</td>\n",
       "      <td>0</td>\n",
       "      <td>NaN</td>\n",
       "      <td>0</td>\n",
       "      <td>...</td>\n",
       "      <td>100</td>\n",
       "      <td>1849</td>\n",
       "      <td>1</td>\n",
       "      <td>100</td>\n",
       "      <td>0</td>\n",
       "      <td>1.000000</td>\n",
       "      <td>0.0000</td>\n",
       "      <td>100.0000</td>\n",
       "      <td>1849</td>\n",
       "      <td>4</td>\n",
       "    </tr>\n",
       "    <tr>\n",
       "      <th>1</th>\n",
       "      <td>ID_f29eb3ddd</td>\n",
       "      <td>135000.0</td>\n",
       "      <td>0</td>\n",
       "      <td>4</td>\n",
       "      <td>0</td>\n",
       "      <td>1</td>\n",
       "      <td>1</td>\n",
       "      <td>1</td>\n",
       "      <td>1.0</td>\n",
       "      <td>0</td>\n",
       "      <td>...</td>\n",
       "      <td>144</td>\n",
       "      <td>4489</td>\n",
       "      <td>1</td>\n",
       "      <td>144</td>\n",
       "      <td>0</td>\n",
       "      <td>1.000000</td>\n",
       "      <td>64.0000</td>\n",
       "      <td>144.0000</td>\n",
       "      <td>4489</td>\n",
       "      <td>4</td>\n",
       "    </tr>\n",
       "    <tr>\n",
       "      <th>2</th>\n",
       "      <td>ID_68de51c94</td>\n",
       "      <td>NaN</td>\n",
       "      <td>0</td>\n",
       "      <td>8</td>\n",
       "      <td>0</td>\n",
       "      <td>1</td>\n",
       "      <td>1</td>\n",
       "      <td>0</td>\n",
       "      <td>NaN</td>\n",
       "      <td>0</td>\n",
       "      <td>...</td>\n",
       "      <td>121</td>\n",
       "      <td>8464</td>\n",
       "      <td>1</td>\n",
       "      <td>0</td>\n",
       "      <td>0</td>\n",
       "      <td>0.250000</td>\n",
       "      <td>64.0000</td>\n",
       "      <td>121.0000</td>\n",
       "      <td>8464</td>\n",
       "      <td>4</td>\n",
       "    </tr>\n",
       "    <tr>\n",
       "      <th>3</th>\n",
       "      <td>ID_d671db89c</td>\n",
       "      <td>180000.0</td>\n",
       "      <td>0</td>\n",
       "      <td>5</td>\n",
       "      <td>0</td>\n",
       "      <td>1</td>\n",
       "      <td>1</td>\n",
       "      <td>1</td>\n",
       "      <td>1.0</td>\n",
       "      <td>0</td>\n",
       "      <td>...</td>\n",
       "      <td>81</td>\n",
       "      <td>289</td>\n",
       "      <td>16</td>\n",
       "      <td>121</td>\n",
       "      <td>4</td>\n",
       "      <td>1.777778</td>\n",
       "      <td>1.0000</td>\n",
       "      <td>121.0000</td>\n",
       "      <td>289</td>\n",
       "      <td>4</td>\n",
       "    </tr>\n",
       "    <tr>\n",
       "      <th>4</th>\n",
       "      <td>ID_d56d6f5f5</td>\n",
       "      <td>180000.0</td>\n",
       "      <td>0</td>\n",
       "      <td>5</td>\n",
       "      <td>0</td>\n",
       "      <td>1</td>\n",
       "      <td>1</td>\n",
       "      <td>1</td>\n",
       "      <td>1.0</td>\n",
       "      <td>0</td>\n",
       "      <td>...</td>\n",
       "      <td>121</td>\n",
       "      <td>1369</td>\n",
       "      <td>16</td>\n",
       "      <td>121</td>\n",
       "      <td>4</td>\n",
       "      <td>1.777778</td>\n",
       "      <td>1.0000</td>\n",
       "      <td>121.0000</td>\n",
       "      <td>1369</td>\n",
       "      <td>4</td>\n",
       "    </tr>\n",
       "    <tr>\n",
       "      <th>...</th>\n",
       "      <td>...</td>\n",
       "      <td>...</td>\n",
       "      <td>...</td>\n",
       "      <td>...</td>\n",
       "      <td>...</td>\n",
       "      <td>...</td>\n",
       "      <td>...</td>\n",
       "      <td>...</td>\n",
       "      <td>...</td>\n",
       "      <td>...</td>\n",
       "      <td>...</td>\n",
       "      <td>...</td>\n",
       "      <td>...</td>\n",
       "      <td>...</td>\n",
       "      <td>...</td>\n",
       "      <td>...</td>\n",
       "      <td>...</td>\n",
       "      <td>...</td>\n",
       "      <td>...</td>\n",
       "      <td>...</td>\n",
       "      <td>...</td>\n",
       "    </tr>\n",
       "    <tr>\n",
       "      <th>9552</th>\n",
       "      <td>ID_d45ae367d</td>\n",
       "      <td>80000.0</td>\n",
       "      <td>0</td>\n",
       "      <td>6</td>\n",
       "      <td>0</td>\n",
       "      <td>1</td>\n",
       "      <td>1</td>\n",
       "      <td>0</td>\n",
       "      <td>NaN</td>\n",
       "      <td>0</td>\n",
       "      <td>...</td>\n",
       "      <td>81</td>\n",
       "      <td>2116</td>\n",
       "      <td>25</td>\n",
       "      <td>81</td>\n",
       "      <td>1</td>\n",
       "      <td>1.562500</td>\n",
       "      <td>0.0625</td>\n",
       "      <td>68.0625</td>\n",
       "      <td>2116</td>\n",
       "      <td>2</td>\n",
       "    </tr>\n",
       "    <tr>\n",
       "      <th>9553</th>\n",
       "      <td>ID_c94744e07</td>\n",
       "      <td>80000.0</td>\n",
       "      <td>0</td>\n",
       "      <td>6</td>\n",
       "      <td>0</td>\n",
       "      <td>1</td>\n",
       "      <td>1</td>\n",
       "      <td>0</td>\n",
       "      <td>NaN</td>\n",
       "      <td>0</td>\n",
       "      <td>...</td>\n",
       "      <td>0</td>\n",
       "      <td>4</td>\n",
       "      <td>25</td>\n",
       "      <td>81</td>\n",
       "      <td>1</td>\n",
       "      <td>1.562500</td>\n",
       "      <td>0.0625</td>\n",
       "      <td>68.0625</td>\n",
       "      <td>4</td>\n",
       "      <td>2</td>\n",
       "    </tr>\n",
       "    <tr>\n",
       "      <th>9554</th>\n",
       "      <td>ID_85fc658f8</td>\n",
       "      <td>80000.0</td>\n",
       "      <td>0</td>\n",
       "      <td>6</td>\n",
       "      <td>0</td>\n",
       "      <td>1</td>\n",
       "      <td>1</td>\n",
       "      <td>0</td>\n",
       "      <td>NaN</td>\n",
       "      <td>0</td>\n",
       "      <td>...</td>\n",
       "      <td>25</td>\n",
       "      <td>2500</td>\n",
       "      <td>25</td>\n",
       "      <td>81</td>\n",
       "      <td>1</td>\n",
       "      <td>1.562500</td>\n",
       "      <td>0.0625</td>\n",
       "      <td>68.0625</td>\n",
       "      <td>2500</td>\n",
       "      <td>2</td>\n",
       "    </tr>\n",
       "    <tr>\n",
       "      <th>9555</th>\n",
       "      <td>ID_ced540c61</td>\n",
       "      <td>80000.0</td>\n",
       "      <td>0</td>\n",
       "      <td>6</td>\n",
       "      <td>0</td>\n",
       "      <td>1</td>\n",
       "      <td>1</td>\n",
       "      <td>0</td>\n",
       "      <td>NaN</td>\n",
       "      <td>0</td>\n",
       "      <td>...</td>\n",
       "      <td>121</td>\n",
       "      <td>676</td>\n",
       "      <td>25</td>\n",
       "      <td>81</td>\n",
       "      <td>1</td>\n",
       "      <td>1.562500</td>\n",
       "      <td>0.0625</td>\n",
       "      <td>68.0625</td>\n",
       "      <td>676</td>\n",
       "      <td>2</td>\n",
       "    </tr>\n",
       "    <tr>\n",
       "      <th>9556</th>\n",
       "      <td>ID_a38c64491</td>\n",
       "      <td>80000.0</td>\n",
       "      <td>0</td>\n",
       "      <td>6</td>\n",
       "      <td>0</td>\n",
       "      <td>1</td>\n",
       "      <td>1</td>\n",
       "      <td>0</td>\n",
       "      <td>NaN</td>\n",
       "      <td>0</td>\n",
       "      <td>...</td>\n",
       "      <td>64</td>\n",
       "      <td>441</td>\n",
       "      <td>25</td>\n",
       "      <td>81</td>\n",
       "      <td>1</td>\n",
       "      <td>1.562500</td>\n",
       "      <td>0.0625</td>\n",
       "      <td>68.0625</td>\n",
       "      <td>441</td>\n",
       "      <td>2</td>\n",
       "    </tr>\n",
       "  </tbody>\n",
       "</table>\n",
       "<p>9557 rows × 143 columns</p>\n",
       "</div>"
      ],
      "text/plain": [
       "                Id      v2a1  hacdor  rooms  hacapo  v14a  refrig  v18q  \\\n",
       "0     ID_279628684  190000.0       0      3       0     1       1     0   \n",
       "1     ID_f29eb3ddd  135000.0       0      4       0     1       1     1   \n",
       "2     ID_68de51c94       NaN       0      8       0     1       1     0   \n",
       "3     ID_d671db89c  180000.0       0      5       0     1       1     1   \n",
       "4     ID_d56d6f5f5  180000.0       0      5       0     1       1     1   \n",
       "...            ...       ...     ...    ...     ...   ...     ...   ...   \n",
       "9552  ID_d45ae367d   80000.0       0      6       0     1       1     0   \n",
       "9553  ID_c94744e07   80000.0       0      6       0     1       1     0   \n",
       "9554  ID_85fc658f8   80000.0       0      6       0     1       1     0   \n",
       "9555  ID_ced540c61   80000.0       0      6       0     1       1     0   \n",
       "9556  ID_a38c64491   80000.0       0      6       0     1       1     0   \n",
       "\n",
       "      v18q1  r4h1  ...  SQBescolari  SQBage  SQBhogar_total  SQBedjefe  \\\n",
       "0       NaN     0  ...          100    1849               1        100   \n",
       "1       1.0     0  ...          144    4489               1        144   \n",
       "2       NaN     0  ...          121    8464               1          0   \n",
       "3       1.0     0  ...           81     289              16        121   \n",
       "4       1.0     0  ...          121    1369              16        121   \n",
       "...     ...   ...  ...          ...     ...             ...        ...   \n",
       "9552    NaN     0  ...           81    2116              25         81   \n",
       "9553    NaN     0  ...            0       4              25         81   \n",
       "9554    NaN     0  ...           25    2500              25         81   \n",
       "9555    NaN     0  ...          121     676              25         81   \n",
       "9556    NaN     0  ...           64     441              25         81   \n",
       "\n",
       "      SQBhogar_nin  SQBovercrowding  SQBdependency  SQBmeaned  agesq  Target  \n",
       "0                0         1.000000         0.0000   100.0000   1849       4  \n",
       "1                0         1.000000        64.0000   144.0000   4489       4  \n",
       "2                0         0.250000        64.0000   121.0000   8464       4  \n",
       "3                4         1.777778         1.0000   121.0000    289       4  \n",
       "4                4         1.777778         1.0000   121.0000   1369       4  \n",
       "...            ...              ...            ...        ...    ...     ...  \n",
       "9552             1         1.562500         0.0625    68.0625   2116       2  \n",
       "9553             1         1.562500         0.0625    68.0625      4       2  \n",
       "9554             1         1.562500         0.0625    68.0625   2500       2  \n",
       "9555             1         1.562500         0.0625    68.0625    676       2  \n",
       "9556             1         1.562500         0.0625    68.0625    441       2  \n",
       "\n",
       "[9557 rows x 143 columns]"
      ]
     },
     "execution_count": 6,
     "metadata": {},
     "output_type": "execute_result"
    }
   ],
   "source": [
    "train_csv = pd.read_csv(\"./train.csv\")\n",
    "train_csv"
   ]
  },
  {
   "cell_type": "markdown",
   "metadata": {},
   "source": [
    "#### Q3. Determine what methods can be done to get the prediction for each household, and not for each individual.\n",
    "```Python\n",
    "household_csv = train_csv[train_csv['parentesco1'] == 1]\n",
    "```"
   ]
  },
  {
   "cell_type": "code",
   "execution_count": 7,
   "metadata": {},
   "outputs": [],
   "source": [
    "def check_keyword(codebook, keyword):\n",
    "    \"\"\"\n",
    "    check key-words if 'keyword' in description or not\n",
    "    \"\"\"\n",
    "    for idx, description in enumerate(codebook['Variable description'].values.tolist()):\n",
    "        if keyword in description:\n",
    "            print(codebook.iloc[idx], end=\"\\n\\n\")"
   ]
  },
  {
   "cell_type": "code",
   "execution_count": 8,
   "metadata": {},
   "outputs": [],
   "source": [
    "def check_code(codebook, keyword):\n",
    "    \"\"\"\n",
    "    check key-words if 'keyword' in code or not\n",
    "    \"\"\"\n",
    "    for idx, code in enumerate(codebook['Variable name'].values.tolist()):\n",
    "        if keyword in code:\n",
    "            print(codebook.iloc[idx], end=\"\\n\\n\")"
   ]
  },
  {
   "cell_type": "code",
   "execution_count": 9,
   "metadata": {},
   "outputs": [
    {
     "name": "stdout",
     "output_type": "stream",
     "text": [
      "Variable name                    parentesco1\n",
      "Variable description    =1 if household head\n",
      "Name: 82, dtype: object\n",
      "\n",
      "Variable name                    parentesco2\n",
      "Variable description    =1 if spouse/partner\n",
      "Name: 83, dtype: object\n",
      "\n",
      "Variable name                  parentesco3\n",
      "Variable description    =1 if son/doughter\n",
      "Name: 84, dtype: object\n",
      "\n",
      "Variable name                      parentesco4\n",
      "Variable description    =1 if stepson/doughter\n",
      "Name: 85, dtype: object\n",
      "\n",
      "Variable name                         parentesco5\n",
      "Variable description    =1 if son/doughter in law\n",
      "Name: 86, dtype: object\n",
      "\n",
      "Variable name                       parentesco6\n",
      "Variable description    =1 if grandson/doughter\n",
      "Name: 87, dtype: object\n",
      "\n",
      "Variable name                   parentesco7\n",
      "Variable description    =1 if mother/father\n",
      "Name: 88, dtype: object\n",
      "\n",
      "Variable name                          parentesco8\n",
      "Variable description    =1 if father/mother in law\n",
      "Name: 89, dtype: object\n",
      "\n",
      "Variable name                    parentesco9\n",
      "Variable description    =1 if brother/sister\n",
      "Name: 90, dtype: object\n",
      "\n",
      "Variable name                          parentesco10\n",
      "Variable description    =1 if brother/sister in law\n",
      "Name: 91, dtype: object\n",
      "\n",
      "Variable name                        parentesco11\n",
      "Variable description    =1 if other family member\n",
      "Name: 92, dtype: object\n",
      "\n",
      "Variable name                            parentesco12\n",
      "Variable description    =1 if other non family member\n",
      "Name: 93, dtype: object\n",
      "\n"
     ]
    }
   ],
   "source": [
    "check_code(codebook, 'parentesco')"
   ]
  },
  {
   "cell_type": "code",
   "execution_count": 10,
   "metadata": {},
   "outputs": [
    {
     "name": "stdout",
     "output_type": "stream",
     "text": [
      "82    =1 if household head\n",
      "Name: Variable description, dtype: object\n"
     ]
    }
   ],
   "source": [
    "check_description(codebook, \"parentesco1\")"
   ]
  },
  {
   "cell_type": "code",
   "execution_count": 11,
   "metadata": {},
   "outputs": [
    {
     "name": "stdout",
     "output_type": "stream",
     "text": [
      "83    =1 if spouse/partner\n",
      "Name: Variable description, dtype: object\n"
     ]
    }
   ],
   "source": [
    "check_description(codebook, \"parentesco2\")"
   ]
  },
  {
   "cell_type": "code",
   "execution_count": 12,
   "metadata": {},
   "outputs": [],
   "source": [
    "check_keyword(codebook, \"no head\") # parentesco1: 1 if household head"
   ]
  },
  {
   "cell_type": "markdown",
   "metadata": {},
   "source": [
    "#### Q4. Some individuals belong to the label \"no head of household\". Determine what should be done with these individuals.\n",
    "- count number of individuals who belong to \"no head of household\"\n",
    "- if number of them is negligible, ignore it\n",
    "- I think the individual who has no 1 in the columns named parentesco*\n",
    "- This number is 0, so we can keep going"
   ]
  },
  {
   "cell_type": "code",
   "execution_count": 13,
   "metadata": {},
   "outputs": [
    {
     "name": "stdout",
     "output_type": "stream",
     "text": [
      "9557\n",
      "9557\n",
      "no head of household:  0\n"
     ]
    }
   ],
   "source": [
    "# length of individuals\n",
    "print(len(train_csv))\n",
    "\n",
    "# number of individuals who belong to the household\n",
    "total_sum = 0\n",
    "for i in range(1,13):\n",
    "    total_sum += train_csv['parentesco{0}'.format(i)].sum()\n",
    "print(total_sum)\n",
    "\n",
    "print(\"no head of household: \", len(train_csv) - total_sum)"
   ]
  },
  {
   "cell_type": "code",
   "execution_count": 14,
   "metadata": {},
   "outputs": [
    {
     "name": "stdout",
     "output_type": "stream",
     "text": [
      "Variable name                              idhogar\n",
      "Variable description    Household level identifier\n",
      "Name: 94, dtype: object\n",
      "\n"
     ]
    }
   ],
   "source": [
    "check_code(codebook, \"idhogar\")"
   ]
  },
  {
   "cell_type": "code",
   "execution_count": 15,
   "metadata": {},
   "outputs": [
    {
     "name": "stdout",
     "output_type": "stream",
     "text": [
      "Variable name                dependency\n",
      "Variable description    Dependency rate\n",
      "Name: 99, dtype: object\n",
      "\n",
      "Variable name                SQBdependency\n",
      "Variable description    dependency squared\n",
      "Name: 138, dtype: object\n",
      "\n"
     ]
    }
   ],
   "source": [
    "check_code(codebook, 'dependency')"
   ]
  },
  {
   "cell_type": "code",
   "execution_count": 16,
   "metadata": {},
   "outputs": [],
   "source": [
    "train_household_csv = train_csv[train_csv['parentesco1'] == 1]"
   ]
  },
  {
   "cell_type": "markdown",
   "metadata": {},
   "source": [
    "#### Q5. Identify the features that seem important just by reading their definitions.\n",
    "- v2a1: Monthily rent payment\n",
    "- rooms: number of all rooms in the house\n",
    "- r4t3: total persons in the household\n",
    "- tamhog: size of the household\n",
    "- hhsize: household size\n",
    "- overcrowding: number of person per room\n",
    "- etc."
   ]
  },
  {
   "cell_type": "markdown",
   "metadata": {},
   "source": [
    "## Part1: Data exploration\n",
    "- After reading the train and test data, we have to explore the dataset."
   ]
  },
  {
   "cell_type": "markdown",
   "metadata": {},
   "source": [
    "#### Q1. Identify the shapes of the train and test dataset.\n",
    "- train: (2973, 143)\n",
    "- test: (7334, 142)"
   ]
  },
  {
   "cell_type": "code",
   "execution_count": 17,
   "metadata": {},
   "outputs": [
    {
     "data": {
      "text/plain": [
       "((2973, 143), (7334, 142))"
      ]
     },
     "execution_count": 17,
     "metadata": {},
     "output_type": "execute_result"
    }
   ],
   "source": [
    "test_household_csv = pd.read_csv(\"./test.csv\")\n",
    "test_household_csv = test_household_csv[test_household_csv['parentesco1'] == 1]\n",
    "train_household_csv.shape, test_household_csv.shape"
   ]
  },
  {
   "cell_type": "markdown",
   "metadata": {},
   "source": [
    "#### Q2. Identify, print, and explain the distribution of the target in both train and test datasets\n",
    "- test dataset doesn't have target\n",
    "- In train dataset, non-vulnerable households are dominant poverty level "
   ]
  },
  {
   "cell_type": "code",
   "execution_count": 18,
   "metadata": {},
   "outputs": [
    {
     "data": {
      "text/plain": [
       "{'extreme poverty': 222,\n",
       " 'moderate poverty': 442,\n",
       " 'vulnerable households': 355,\n",
       " 'non-vulnerable households': 1954}"
      ]
     },
     "execution_count": 18,
     "metadata": {},
     "output_type": "execute_result"
    }
   ],
   "source": [
    "target_dist = {\n",
    "    \"extreme poverty\": 0,\n",
    "    \"moderate poverty\": 0,\n",
    "    \"vulnerable households\": 0,\n",
    "    \"non-vulnerable households\": 0\n",
    "}\n",
    "\n",
    "label2id = {\n",
    "    1:\"extreme poverty\",\n",
    "    2:\"moderate poverty\",\n",
    "    3:\"vulnerable households\",\n",
    "    4:\"non-vulnerable households\"\n",
    "}\n",
    "\n",
    "for label in train_household_csv['Target'].values:\n",
    "    target_id = label2id[label]\n",
    "    target_dist[target_id] = target_dist[target_id] + 1\n",
    "    \n",
    "target_dist"
   ]
  },
  {
   "cell_type": "code",
   "execution_count": 19,
   "metadata": {},
   "outputs": [
    {
     "data": {
      "text/plain": [
       "extreme poverty               222\n",
       "moderate poverty              442\n",
       "vulnerable households         355\n",
       "non-vulnerable households    1954\n",
       "dtype: int64"
      ]
     },
     "execution_count": 19,
     "metadata": {},
     "output_type": "execute_result"
    }
   ],
   "source": [
    "pd.Series(target_dist)"
   ]
  },
  {
   "cell_type": "code",
   "execution_count": 20,
   "metadata": {},
   "outputs": [
    {
     "data": {
      "text/plain": [
       "<BarContainer object of 4 artists>"
      ]
     },
     "execution_count": 20,
     "metadata": {},
     "output_type": "execute_result"
    },
    {
     "data": {
      "image/png": "[encoded data removed]",
      "text/plain": [
       "<Figure size 1008x720 with 1 Axes>"
      ]
     },
     "metadata": {
      "needs_background": "light"
     },
     "output_type": "display_data"
    }
   ],
   "source": [
    "import matplotlib.pyplot as plt\n",
    "import numpy as np\n",
    "\n",
    "plt.figure(figsize=(14,10))\n",
    "plt.xlabel('Poverty level')\n",
    "plt.ylabel('Counts')\n",
    "plt.bar(target_dist.keys(), pd.Series(target_dist))"
   ]
  },
  {
   "cell_type": "markdown",
   "metadata": {},
   "source": [
    "#### Q3. Using the important features you selected in the previous section, determine the various distributions and statstics of those selected features. Determine if the results strengthen your selection.\n",
    "- v2a1: Monthily rent payment\n",
    "- rooms: number of all rooms in the house\n",
    "- r4t3: total persons in the household\n",
    "- tamhog: size of the household\n",
    "- hhsize: household size\n",
    "- overcrowding: number of person per room\n",
    "\n",
    "Most of feaetures shows distribution that shows specific shape, and got outlier and noises."
   ]
  },
  {
   "cell_type": "code",
   "execution_count": 21,
   "metadata": {},
   "outputs": [
    {
     "data": {
      "text/plain": [
       "(array([ 99., 174., 167., 137.,  71.,  43.,  38.,  23.,  15.,  12.,   9.,\n",
       "          5.,  12.,   1.,   3.,   0.,   2.,   0.,   3.,   0.,   0.,   2.,\n",
       "          0.,   0.,   0.,   0.,   0.,   0.,   0.,   0.,   0.,   0.,   0.,\n",
       "          0.,   0.,   0.,   0.,   0.,   0.,   0.,   0.,   0.,   0.,   0.,\n",
       "          0.,   0.,   0.,   0.,   0.,   1.]),\n",
       " array([      0.  ,   47069.54,   94139.08,  141208.62,  188278.16,\n",
       "         235347.7 ,  282417.24,  329486.78,  376556.32,  423625.86,\n",
       "         470695.4 ,  517764.94,  564834.48,  611904.02,  658973.56,\n",
       "         706043.1 ,  753112.64,  800182.18,  847251.72,  894321.26,\n",
       "         941390.8 ,  988460.34, 1035529.88, 1082599.42, 1129668.96,\n",
       "        1176738.5 , 1223808.04, 1270877.58, 1317947.12, 1365016.66,\n",
       "        1412086.2 , 1459155.74, 1506225.28, 1553294.82, 1600364.36,\n",
       "        1647433.9 , 1694503.44, 1741572.98, 1788642.52, 1835712.06,\n",
       "        1882781.6 , 1929851.14, 1976920.68, 2023990.22, 2071059.76,\n",
       "        2118129.3 , 2165198.84, 2212268.38, 2259337.92, 2306407.46,\n",
       "        2353477.  ]),\n",
       " <BarContainer object of 50 artists>)"
      ]
     },
     "execution_count": 21,
     "metadata": {},
     "output_type": "execute_result"
    },
    {
     "data": {
      "image/png": "[encoded data removed]",
      "text/plain": [
       "<Figure size 432x288 with 1 Axes>"
      ]
     },
     "metadata": {
      "needs_background": "light"
     },
     "output_type": "display_data"
    }
   ],
   "source": [
    "plt.hist(train_household_csv['v2a1'].dropna(), bins=50)"
   ]
  },
  {
   "cell_type": "code",
   "execution_count": 22,
   "metadata": {},
   "outputs": [
    {
     "data": {
      "text/plain": [
       "<seaborn.axisgrid.FacetGrid at 0x11f3bf86608>"
      ]
     },
     "execution_count": 22,
     "metadata": {},
     "output_type": "execute_result"
    },
    {
     "data": {
      "image/png": "[encoded data removed]",
      "text/plain": [
       "<Figure size 360x360 with 1 Axes>"
      ]
     },
     "metadata": {
      "needs_background": "light"
     },
     "output_type": "display_data"
    }
   ],
   "source": [
    "import seaborn as sns\n",
    "sns.displot(np.log(train_household_csv['rooms'].dropna()), kde=True)"
   ]
  },
  {
   "cell_type": "code",
   "execution_count": 23,
   "metadata": {},
   "outputs": [
    {
     "data": {
      "text/plain": [
       "(array([378.,   0.,   0.,   0., 682.,   0.,   0.,   0., 756.,   0.,   0.,\n",
       "          0., 612.,   0.,   0.,   0., 320.,   0.,   0.,   0., 137.,   0.,\n",
       "          0.,   0.,   0.,  53.,   0.,   0.,   0.,  12.,   0.,   0.,   0.,\n",
       "         10.,   0.,   0.,   0.,   6.,   0.,   0.,   0.,   4.,   0.,   0.,\n",
       "          0.,   2.,   0.,   0.,   0.,   1.]),\n",
       " array([ 1.  ,  1.24,  1.48,  1.72,  1.96,  2.2 ,  2.44,  2.68,  2.92,\n",
       "         3.16,  3.4 ,  3.64,  3.88,  4.12,  4.36,  4.6 ,  4.84,  5.08,\n",
       "         5.32,  5.56,  5.8 ,  6.04,  6.28,  6.52,  6.76,  7.  ,  7.24,\n",
       "         7.48,  7.72,  7.96,  8.2 ,  8.44,  8.68,  8.92,  9.16,  9.4 ,\n",
       "         9.64,  9.88, 10.12, 10.36, 10.6 , 10.84, 11.08, 11.32, 11.56,\n",
       "        11.8 , 12.04, 12.28, 12.52, 12.76, 13.  ]),\n",
       " <BarContainer object of 50 artists>)"
      ]
     },
     "execution_count": 23,
     "metadata": {},
     "output_type": "execute_result"
    },
    {
     "data": {
      "image/png": "[encoded data removed]",
      "text/plain": [
       "<Figure size 432x288 with 1 Axes>"
      ]
     },
     "metadata": {
      "needs_background": "light"
     },
     "output_type": "display_data"
    }
   ],
   "source": [
    "plt.hist(train_household_csv['r4t3'].dropna(), bins=50)"
   ]
  },
  {
   "cell_type": "code",
   "execution_count": 24,
   "metadata": {},
   "outputs": [
    {
     "data": {
      "text/plain": [
       "(array([386.,   0.,   0.,   0., 682.,   0.,   0.,   0., 753.,   0.,   0.,\n",
       "          0., 612.,   0.,   0.,   0., 317.,   0.,   0.,   0., 136.,   0.,\n",
       "          0.,   0.,   0.,  52.,   0.,   0.,   0.,  12.,   0.,   0.,   0.,\n",
       "         10.,   0.,   0.,   0.,   6.,   0.,   0.,   0.,   4.,   0.,   0.,\n",
       "          0.,   2.,   0.,   0.,   0.,   1.]),\n",
       " array([ 1.  ,  1.24,  1.48,  1.72,  1.96,  2.2 ,  2.44,  2.68,  2.92,\n",
       "         3.16,  3.4 ,  3.64,  3.88,  4.12,  4.36,  4.6 ,  4.84,  5.08,\n",
       "         5.32,  5.56,  5.8 ,  6.04,  6.28,  6.52,  6.76,  7.  ,  7.24,\n",
       "         7.48,  7.72,  7.96,  8.2 ,  8.44,  8.68,  8.92,  9.16,  9.4 ,\n",
       "         9.64,  9.88, 10.12, 10.36, 10.6 , 10.84, 11.08, 11.32, 11.56,\n",
       "        11.8 , 12.04, 12.28, 12.52, 12.76, 13.  ]),\n",
       " <BarContainer object of 50 artists>)"
      ]
     },
     "execution_count": 24,
     "metadata": {},
     "output_type": "execute_result"
    },
    {
     "data": {
      "image/png": "[encoded data removed]",
      "text/plain": [
       "<Figure size 432x288 with 1 Axes>"
      ]
     },
     "metadata": {
      "needs_background": "light"
     },
     "output_type": "display_data"
    }
   ],
   "source": [
    "plt.hist(train_household_csv['tamhog'].dropna(), bins=50)"
   ]
  },
  {
   "cell_type": "code",
   "execution_count": 25,
   "metadata": {},
   "outputs": [
    {
     "data": {
      "text/plain": [
       "(array([386.,   0.,   0.,   0., 682.,   0.,   0.,   0., 753.,   0.,   0.,\n",
       "          0., 612.,   0.,   0.,   0., 317.,   0.,   0.,   0., 136.,   0.,\n",
       "          0.,   0.,   0.,  52.,   0.,   0.,   0.,  12.,   0.,   0.,   0.,\n",
       "         10.,   0.,   0.,   0.,   6.,   0.,   0.,   0.,   4.,   0.,   0.,\n",
       "          0.,   2.,   0.,   0.,   0.,   1.]),\n",
       " array([ 1.  ,  1.24,  1.48,  1.72,  1.96,  2.2 ,  2.44,  2.68,  2.92,\n",
       "         3.16,  3.4 ,  3.64,  3.88,  4.12,  4.36,  4.6 ,  4.84,  5.08,\n",
       "         5.32,  5.56,  5.8 ,  6.04,  6.28,  6.52,  6.76,  7.  ,  7.24,\n",
       "         7.48,  7.72,  7.96,  8.2 ,  8.44,  8.68,  8.92,  9.16,  9.4 ,\n",
       "         9.64,  9.88, 10.12, 10.36, 10.6 , 10.84, 11.08, 11.32, 11.56,\n",
       "        11.8 , 12.04, 12.28, 12.52, 12.76, 13.  ]),\n",
       " <BarContainer object of 50 artists>)"
      ]
     },
     "execution_count": 25,
     "metadata": {},
     "output_type": "execute_result"
    },
    {
     "data": {
      "image/png": "[encoded data removed]",
      "text/plain": [
       "<Figure size 432x288 with 1 Axes>"
      ]
     },
     "metadata": {
      "needs_background": "light"
     },
     "output_type": "display_data"
    }
   ],
   "source": [
    "# tamhog == hhsize\n",
    "plt.hist(train_household_csv['hhsize'].dropna(), bins=50)"
   ]
  },
  {
   "cell_type": "code",
   "execution_count": 26,
   "metadata": {},
   "outputs": [
    {
     "data": {
      "text/plain": [
       "(array([ 77., 217., 260.,  16., 839., 369., 362., 166.,  24., 370.,   4.,\n",
       "        105.,   4.,   0.,  99.,   0.,   4.,   7.,   0.,  25.,   0.,   4.,\n",
       "          1.,   0.,  12.,   0.,   0.,   2.,   0.,   6.]),\n",
       " array([0.2       , 0.39333333, 0.58666667, 0.78      , 0.97333333,\n",
       "        1.16666667, 1.36      , 1.55333333, 1.74666667, 1.94      ,\n",
       "        2.13333333, 2.32666667, 2.52      , 2.71333333, 2.90666667,\n",
       "        3.1       , 3.29333333, 3.48666667, 3.68      , 3.87333333,\n",
       "        4.06666667, 4.26      , 4.45333333, 4.64666667, 4.84      ,\n",
       "        5.03333333, 5.22666667, 5.42      , 5.61333333, 5.80666667,\n",
       "        6.        ]),\n",
       " <BarContainer object of 30 artists>)"
      ]
     },
     "execution_count": 26,
     "metadata": {},
     "output_type": "execute_result"
    },
    {
     "data": {
      "image/png": "[encoded data removed]",
      "text/plain": [
       "<Figure size 432x288 with 1 Axes>"
      ]
     },
     "metadata": {
      "needs_background": "light"
     },
     "output_type": "display_data"
    }
   ],
   "source": [
    "plt.hist(train_household_csv['overcrowding'].dropna(), bins=30)"
   ]
  },
  {
   "cell_type": "markdown",
   "metadata": {},
   "source": [
    "#### Q4. Create a correlation matrix and determine which features are most correlated with the target. Explain and discuss the findings.\n",
    "- escolari\n",
    "- meaneduc\n",
    "- SQBescolari\n",
    "- cielorazo\n",
    "- eviv3\n",
    "- epared3\n",
    "- SQBmeaned\n",
    "- pisomoscer\n",
    "- etecho3\n",
    "- v2a1\n",
    "\n",
    "Poverty level is highly correlated with educations."
   ]
  },
  {
   "cell_type": "code",
   "execution_count": 27,
   "metadata": {},
   "outputs": [],
   "source": [
    "corrmat = train_household_csv.corr()"
   ]
  },
  {
   "cell_type": "code",
   "execution_count": 28,
   "metadata": {},
   "outputs": [
    {
     "data": {
      "text/plain": [
       "Target         1.000000\n",
       "escolari       0.333791\n",
       "meaneduc       0.333652\n",
       "SQBescolari    0.314397\n",
       "cielorazo      0.295249\n",
       "eviv3          0.293540\n",
       "epared3        0.280947\n",
       "SQBmeaned      0.276251\n",
       "pisomoscer     0.275452\n",
       "etecho3        0.261142\n",
       "v2a1           0.259938\n",
       "Name: Target, dtype: float64"
      ]
     },
     "execution_count": 28,
     "metadata": {},
     "output_type": "execute_result"
    }
   ],
   "source": [
    "cols = corrmat.nlargest(11, 'Target')\n",
    "cols.Target"
   ]
  },
  {
   "cell_type": "code",
   "execution_count": 29,
   "metadata": {},
   "outputs": [
    {
     "data": {
      "text/plain": [
       "<AxesSubplot:>"
      ]
     },
     "execution_count": 29,
     "metadata": {},
     "output_type": "execute_result"
    },
    {
     "data": {
      "image/png": "[encoded data removed]",
      "text/plain": [
       "<Figure size 864x648 with 2 Axes>"
      ]
     },
     "metadata": {
      "needs_background": "light"
     },
     "output_type": "display_data"
    }
   ],
   "source": [
    "f, ax = plt.subplots(figsize=(12,9))\n",
    "sns.heatmap(corrmat, vmax=.8, square=True)\n",
    "# 색이 흰 색에 가까울 수록 상관관계가 높음"
   ]
  },
  {
   "cell_type": "markdown",
   "metadata": {},
   "source": [
    "#### Q5. Determine if there are any possible outliers?\n",
    "- Yes. In v2a1, outlier exists."
   ]
  },
  {
   "cell_type": "code",
   "execution_count": 30,
   "metadata": {},
   "outputs": [
    {
     "data": {
      "text/plain": [
       "Index(['Target', 'escolari', 'meaneduc', 'SQBescolari', 'cielorazo', 'eviv3',\n",
       "       'epared3', 'SQBmeaned', 'pisomoscer', 'etecho3', 'v2a1'],\n",
       "      dtype='object')"
      ]
     },
     "execution_count": 30,
     "metadata": {},
     "output_type": "execute_result"
    }
   ],
   "source": [
    "cor_feature = cols.index\n",
    "cor_feature"
   ]
  },
  {
   "cell_type": "code",
   "execution_count": 31,
   "metadata": {},
   "outputs": [
    {
     "data": {
      "image/png": "[encoded data removed]",
      "text/plain": [
       "<Figure size 720x432 with 1 Axes>"
      ]
     },
     "metadata": {
      "needs_background": "light"
     },
     "output_type": "display_data"
    },
    {
     "data": {
      "image/png": "[encoded data removed]",
      "text/plain": [
       "<Figure size 720x432 with 1 Axes>"
      ]
     },
     "metadata": {
      "needs_background": "light"
     },
     "output_type": "display_data"
    },
    {
     "data": {
      "image/png": "[encoded data removed]",
      "text/plain": [
       "<Figure size 720x432 with 1 Axes>"
      ]
     },
     "metadata": {
      "needs_background": "light"
     },
     "output_type": "display_data"
    },
    {
     "data": {
      "image/png": "[encoded data removed]",
      "text/plain": [
       "<Figure size 720x432 with 1 Axes>"
      ]
     },
     "metadata": {
      "needs_background": "light"
     },
     "output_type": "display_data"
    },
    {
     "data": {
      "image/png": "[encoded data removed]",
      "text/plain": [
       "<Figure size 720x432 with 1 Axes>"
      ]
     },
     "metadata": {
      "needs_background": "light"
     },
     "output_type": "display_data"
    },
    {
     "data": {
      "image/png": "[encoded data removed]",
      "text/plain": [
       "<Figure size 720x432 with 1 Axes>"
      ]
     },
     "metadata": {
      "needs_background": "light"
     },
     "output_type": "display_data"
    },
    {
     "data": {
      "image/png": "[encoded data removed]",
      "text/plain": [
       "<Figure size 720x432 with 1 Axes>"
      ]
     },
     "metadata": {
      "needs_background": "light"
     },
     "output_type": "display_data"
    },
    {
     "data": {
      "image/png": "[encoded data removed]",
      "text/plain": [
       "<Figure size 720x432 with 1 Axes>"
      ]
     },
     "metadata": {
      "needs_background": "light"
     },
     "output_type": "display_data"
    },
    {
     "data": {
      "image/png": "[encoded data removed]",
      "text/plain": [
       "<Figure size 720x432 with 1 Axes>"
      ]
     },
     "metadata": {
      "needs_background": "light"
     },
     "output_type": "display_data"
    },
    {
     "data": {
      "image/png": "[encoded data removed]",
      "text/plain": [
       "<Figure size 720x432 with 1 Axes>"
      ]
     },
     "metadata": {
      "needs_background": "light"
     },
     "output_type": "display_data"
    },
    {
     "data": {
      "image/png": "[encoded data removed]",
      "text/plain": [
       "<Figure size 720x432 with 1 Axes>"
      ]
     },
     "metadata": {
      "needs_background": "light"
     },
     "output_type": "display_data"
    }
   ],
   "source": [
    "for var in cor_feature:\n",
    "    plt.figure(figsize=(10,6))\n",
    "    plt.xlabel(var)\n",
    "    plt.ylabel(\"pverty level\")\n",
    "    plt.scatter(train_household_csv[var], train_household_csv['Target'])"
   ]
  },
  {
   "cell_type": "markdown",
   "metadata": {},
   "source": [
    "## Part3: Data preprocessing"
   ]
  },
  {
   "cell_type": "markdown",
   "metadata": {},
   "source": [
    "#### Q1. Determine how the outliers should be handled.\n",
    "- The outliers would be excluded because it effects to a model like a noise"
   ]
  },
  {
   "cell_type": "markdown",
   "metadata": {},
   "source": [
    "#### Q2. Explore if there are any missing values in the data\n",
    "- Yes. There are missing values in the data\n",
    "- rez_esc, v18q1, v2a1 has more than 2,000 missing values"
   ]
  },
  {
   "cell_type": "code",
   "execution_count": 32,
   "metadata": {},
   "outputs": [
    {
     "data": {
      "text/plain": [
       "rez_esc           2972\n",
       "v18q1             2318\n",
       "v2a1              2156\n",
       "meaneduc             3\n",
       "SQBmeaned            3\n",
       "techozinc            0\n",
       "techoentrepiso       0\n",
       "techocane            0\n",
       "techootro            0\n",
       "cielorazo            0\n",
       "dtype: int64"
      ]
     },
     "execution_count": 32,
     "metadata": {},
     "output_type": "execute_result"
    }
   ],
   "source": [
    "train_household_csv.isna().sum().sort_values(ascending=False).head(10)"
   ]
  },
  {
   "cell_type": "markdown",
   "metadata": {},
   "source": [
    "#### Q3. Determine how these missing values should be handled.\n",
    "- Too many missing values would be noise. So, exclude these top three features"
   ]
  },
  {
   "cell_type": "code",
   "execution_count": 33,
   "metadata": {},
   "outputs": [],
   "source": [
    "train_household_csv = train_household_csv.drop(['rez_esc', 'v18q1', 'v2a1'], axis=1)"
   ]
  },
  {
   "cell_type": "code",
   "execution_count": 34,
   "metadata": {},
   "outputs": [
    {
     "data": {
      "text/html": [
       "<div>\n",
       "<style scoped>\n",
       "    .dataframe tbody tr th:only-of-type {\n",
       "        vertical-align: middle;\n",
       "    }\n",
       "\n",
       "    .dataframe tbody tr th {\n",
       "        vertical-align: top;\n",
       "    }\n",
       "\n",
       "    .dataframe thead th {\n",
       "        text-align: right;\n",
       "    }\n",
       "</style>\n",
       "<table border=\"1\" class=\"dataframe\">\n",
       "  <thead>\n",
       "    <tr style=\"text-align: right;\">\n",
       "      <th></th>\n",
       "      <th>Id</th>\n",
       "      <th>hacdor</th>\n",
       "      <th>rooms</th>\n",
       "      <th>hacapo</th>\n",
       "      <th>v14a</th>\n",
       "      <th>refrig</th>\n",
       "      <th>v18q</th>\n",
       "      <th>r4h1</th>\n",
       "      <th>r4h2</th>\n",
       "      <th>r4h3</th>\n",
       "      <th>...</th>\n",
       "      <th>SQBescolari</th>\n",
       "      <th>SQBage</th>\n",
       "      <th>SQBhogar_total</th>\n",
       "      <th>SQBedjefe</th>\n",
       "      <th>SQBhogar_nin</th>\n",
       "      <th>SQBovercrowding</th>\n",
       "      <th>SQBdependency</th>\n",
       "      <th>SQBmeaned</th>\n",
       "      <th>agesq</th>\n",
       "      <th>Target</th>\n",
       "    </tr>\n",
       "  </thead>\n",
       "  <tbody>\n",
       "    <tr>\n",
       "      <th>0</th>\n",
       "      <td>ID_279628684</td>\n",
       "      <td>0</td>\n",
       "      <td>3</td>\n",
       "      <td>0</td>\n",
       "      <td>1</td>\n",
       "      <td>1</td>\n",
       "      <td>0</td>\n",
       "      <td>0</td>\n",
       "      <td>1</td>\n",
       "      <td>1</td>\n",
       "      <td>...</td>\n",
       "      <td>100</td>\n",
       "      <td>1849</td>\n",
       "      <td>1</td>\n",
       "      <td>100</td>\n",
       "      <td>0</td>\n",
       "      <td>1.000000</td>\n",
       "      <td>0.000000</td>\n",
       "      <td>100.0000</td>\n",
       "      <td>1849</td>\n",
       "      <td>4</td>\n",
       "    </tr>\n",
       "    <tr>\n",
       "      <th>1</th>\n",
       "      <td>ID_f29eb3ddd</td>\n",
       "      <td>0</td>\n",
       "      <td>4</td>\n",
       "      <td>0</td>\n",
       "      <td>1</td>\n",
       "      <td>1</td>\n",
       "      <td>1</td>\n",
       "      <td>0</td>\n",
       "      <td>1</td>\n",
       "      <td>1</td>\n",
       "      <td>...</td>\n",
       "      <td>144</td>\n",
       "      <td>4489</td>\n",
       "      <td>1</td>\n",
       "      <td>144</td>\n",
       "      <td>0</td>\n",
       "      <td>1.000000</td>\n",
       "      <td>64.000000</td>\n",
       "      <td>144.0000</td>\n",
       "      <td>4489</td>\n",
       "      <td>4</td>\n",
       "    </tr>\n",
       "    <tr>\n",
       "      <th>2</th>\n",
       "      <td>ID_68de51c94</td>\n",
       "      <td>0</td>\n",
       "      <td>8</td>\n",
       "      <td>0</td>\n",
       "      <td>1</td>\n",
       "      <td>1</td>\n",
       "      <td>0</td>\n",
       "      <td>0</td>\n",
       "      <td>0</td>\n",
       "      <td>0</td>\n",
       "      <td>...</td>\n",
       "      <td>121</td>\n",
       "      <td>8464</td>\n",
       "      <td>1</td>\n",
       "      <td>0</td>\n",
       "      <td>0</td>\n",
       "      <td>0.250000</td>\n",
       "      <td>64.000000</td>\n",
       "      <td>121.0000</td>\n",
       "      <td>8464</td>\n",
       "      <td>4</td>\n",
       "    </tr>\n",
       "    <tr>\n",
       "      <th>5</th>\n",
       "      <td>ID_ec05b1a7b</td>\n",
       "      <td>0</td>\n",
       "      <td>5</td>\n",
       "      <td>0</td>\n",
       "      <td>1</td>\n",
       "      <td>1</td>\n",
       "      <td>1</td>\n",
       "      <td>0</td>\n",
       "      <td>2</td>\n",
       "      <td>2</td>\n",
       "      <td>...</td>\n",
       "      <td>121</td>\n",
       "      <td>1444</td>\n",
       "      <td>16</td>\n",
       "      <td>121</td>\n",
       "      <td>4</td>\n",
       "      <td>1.777778</td>\n",
       "      <td>1.000000</td>\n",
       "      <td>121.0000</td>\n",
       "      <td>1444</td>\n",
       "      <td>4</td>\n",
       "    </tr>\n",
       "    <tr>\n",
       "      <th>8</th>\n",
       "      <td>ID_1284f8aad</td>\n",
       "      <td>1</td>\n",
       "      <td>2</td>\n",
       "      <td>0</td>\n",
       "      <td>1</td>\n",
       "      <td>1</td>\n",
       "      <td>0</td>\n",
       "      <td>0</td>\n",
       "      <td>1</td>\n",
       "      <td>1</td>\n",
       "      <td>...</td>\n",
       "      <td>81</td>\n",
       "      <td>900</td>\n",
       "      <td>16</td>\n",
       "      <td>81</td>\n",
       "      <td>4</td>\n",
       "      <td>16.000000</td>\n",
       "      <td>1.000000</td>\n",
       "      <td>100.0000</td>\n",
       "      <td>900</td>\n",
       "      <td>4</td>\n",
       "    </tr>\n",
       "    <tr>\n",
       "      <th>...</th>\n",
       "      <td>...</td>\n",
       "      <td>...</td>\n",
       "      <td>...</td>\n",
       "      <td>...</td>\n",
       "      <td>...</td>\n",
       "      <td>...</td>\n",
       "      <td>...</td>\n",
       "      <td>...</td>\n",
       "      <td>...</td>\n",
       "      <td>...</td>\n",
       "      <td>...</td>\n",
       "      <td>...</td>\n",
       "      <td>...</td>\n",
       "      <td>...</td>\n",
       "      <td>...</td>\n",
       "      <td>...</td>\n",
       "      <td>...</td>\n",
       "      <td>...</td>\n",
       "      <td>...</td>\n",
       "      <td>...</td>\n",
       "      <td>...</td>\n",
       "    </tr>\n",
       "    <tr>\n",
       "      <th>9535</th>\n",
       "      <td>ID_18b0a845b</td>\n",
       "      <td>0</td>\n",
       "      <td>4</td>\n",
       "      <td>0</td>\n",
       "      <td>1</td>\n",
       "      <td>0</td>\n",
       "      <td>0</td>\n",
       "      <td>1</td>\n",
       "      <td>1</td>\n",
       "      <td>2</td>\n",
       "      <td>...</td>\n",
       "      <td>25</td>\n",
       "      <td>676</td>\n",
       "      <td>25</td>\n",
       "      <td>0</td>\n",
       "      <td>9</td>\n",
       "      <td>6.250000</td>\n",
       "      <td>2.250000</td>\n",
       "      <td>20.2500</td>\n",
       "      <td>676</td>\n",
       "      <td>1</td>\n",
       "    </tr>\n",
       "    <tr>\n",
       "      <th>9541</th>\n",
       "      <td>ID_a31274054</td>\n",
       "      <td>0</td>\n",
       "      <td>3</td>\n",
       "      <td>0</td>\n",
       "      <td>0</td>\n",
       "      <td>0</td>\n",
       "      <td>0</td>\n",
       "      <td>2</td>\n",
       "      <td>2</td>\n",
       "      <td>4</td>\n",
       "      <td>...</td>\n",
       "      <td>4</td>\n",
       "      <td>1600</td>\n",
       "      <td>25</td>\n",
       "      <td>4</td>\n",
       "      <td>9</td>\n",
       "      <td>6.250000</td>\n",
       "      <td>2.250000</td>\n",
       "      <td>16.0000</td>\n",
       "      <td>1600</td>\n",
       "      <td>2</td>\n",
       "    </tr>\n",
       "    <tr>\n",
       "      <th>9545</th>\n",
       "      <td>ID_32a00a8bf</td>\n",
       "      <td>0</td>\n",
       "      <td>5</td>\n",
       "      <td>0</td>\n",
       "      <td>1</td>\n",
       "      <td>1</td>\n",
       "      <td>0</td>\n",
       "      <td>1</td>\n",
       "      <td>2</td>\n",
       "      <td>3</td>\n",
       "      <td>...</td>\n",
       "      <td>4</td>\n",
       "      <td>2025</td>\n",
       "      <td>25</td>\n",
       "      <td>4</td>\n",
       "      <td>4</td>\n",
       "      <td>5.444444</td>\n",
       "      <td>0.444444</td>\n",
       "      <td>100.0000</td>\n",
       "      <td>2025</td>\n",
       "      <td>4</td>\n",
       "    </tr>\n",
       "    <tr>\n",
       "      <th>9551</th>\n",
       "      <td>ID_79d39dddc</td>\n",
       "      <td>0</td>\n",
       "      <td>3</td>\n",
       "      <td>0</td>\n",
       "      <td>1</td>\n",
       "      <td>1</td>\n",
       "      <td>0</td>\n",
       "      <td>0</td>\n",
       "      <td>1</td>\n",
       "      <td>1</td>\n",
       "      <td>...</td>\n",
       "      <td>0</td>\n",
       "      <td>4489</td>\n",
       "      <td>4</td>\n",
       "      <td>0</td>\n",
       "      <td>0</td>\n",
       "      <td>4.000000</td>\n",
       "      <td>1.000000</td>\n",
       "      <td>9.0000</td>\n",
       "      <td>4489</td>\n",
       "      <td>2</td>\n",
       "    </tr>\n",
       "    <tr>\n",
       "      <th>9552</th>\n",
       "      <td>ID_d45ae367d</td>\n",
       "      <td>0</td>\n",
       "      <td>6</td>\n",
       "      <td>0</td>\n",
       "      <td>1</td>\n",
       "      <td>1</td>\n",
       "      <td>0</td>\n",
       "      <td>0</td>\n",
       "      <td>2</td>\n",
       "      <td>2</td>\n",
       "      <td>...</td>\n",
       "      <td>81</td>\n",
       "      <td>2116</td>\n",
       "      <td>25</td>\n",
       "      <td>81</td>\n",
       "      <td>1</td>\n",
       "      <td>1.562500</td>\n",
       "      <td>0.062500</td>\n",
       "      <td>68.0625</td>\n",
       "      <td>2116</td>\n",
       "      <td>2</td>\n",
       "    </tr>\n",
       "  </tbody>\n",
       "</table>\n",
       "<p>2970 rows × 140 columns</p>\n",
       "</div>"
      ],
      "text/plain": [
       "                Id  hacdor  rooms  hacapo  v14a  refrig  v18q  r4h1  r4h2  \\\n",
       "0     ID_279628684       0      3       0     1       1     0     0     1   \n",
       "1     ID_f29eb3ddd       0      4       0     1       1     1     0     1   \n",
       "2     ID_68de51c94       0      8       0     1       1     0     0     0   \n",
       "5     ID_ec05b1a7b       0      5       0     1       1     1     0     2   \n",
       "8     ID_1284f8aad       1      2       0     1       1     0     0     1   \n",
       "...            ...     ...    ...     ...   ...     ...   ...   ...   ...   \n",
       "9535  ID_18b0a845b       0      4       0     1       0     0     1     1   \n",
       "9541  ID_a31274054       0      3       0     0       0     0     2     2   \n",
       "9545  ID_32a00a8bf       0      5       0     1       1     0     1     2   \n",
       "9551  ID_79d39dddc       0      3       0     1       1     0     0     1   \n",
       "9552  ID_d45ae367d       0      6       0     1       1     0     0     2   \n",
       "\n",
       "      r4h3  ...  SQBescolari  SQBage  SQBhogar_total  SQBedjefe  SQBhogar_nin  \\\n",
       "0        1  ...          100    1849               1        100             0   \n",
       "1        1  ...          144    4489               1        144             0   \n",
       "2        0  ...          121    8464               1          0             0   \n",
       "5        2  ...          121    1444              16        121             4   \n",
       "8        1  ...           81     900              16         81             4   \n",
       "...    ...  ...          ...     ...             ...        ...           ...   \n",
       "9535     2  ...           25     676              25          0             9   \n",
       "9541     4  ...            4    1600              25          4             9   \n",
       "9545     3  ...            4    2025              25          4             4   \n",
       "9551     1  ...            0    4489               4          0             0   \n",
       "9552     2  ...           81    2116              25         81             1   \n",
       "\n",
       "      SQBovercrowding  SQBdependency  SQBmeaned  agesq  Target  \n",
       "0            1.000000       0.000000   100.0000   1849       4  \n",
       "1            1.000000      64.000000   144.0000   4489       4  \n",
       "2            0.250000      64.000000   121.0000   8464       4  \n",
       "5            1.777778       1.000000   121.0000   1444       4  \n",
       "8           16.000000       1.000000   100.0000    900       4  \n",
       "...               ...            ...        ...    ...     ...  \n",
       "9535         6.250000       2.250000    20.2500    676       1  \n",
       "9541         6.250000       2.250000    16.0000   1600       2  \n",
       "9545         5.444444       0.444444   100.0000   2025       4  \n",
       "9551         4.000000       1.000000     9.0000   4489       2  \n",
       "9552         1.562500       0.062500    68.0625   2116       2  \n",
       "\n",
       "[2970 rows x 140 columns]"
      ]
     },
     "execution_count": 34,
     "metadata": {},
     "output_type": "execute_result"
    }
   ],
   "source": [
    "train_household_csv = train_household_csv.dropna()\n",
    "train_household_csv"
   ]
  },
  {
   "cell_type": "markdown",
   "metadata": {},
   "source": [
    "#### Q4. Determine if some features need some labelling. Are there any other conversion of representaion needed?\n",
    "- One-hot-encoding to scalar number\n",
    "- But categorical features shows low correlation ratio"
   ]
  },
  {
   "cell_type": "markdown",
   "metadata": {},
   "source": [
    "#### Q5. Determine if some feature engineering can be done and perform them as determined.\n",
    "- Change distribution by applying logarithms\n",
    "- After check machine performance, it would be considered"
   ]
  },
  {
   "cell_type": "markdown",
   "metadata": {},
   "source": [
    "## Part4: Machine learning implementation"
   ]
  },
  {
   "cell_type": "markdown",
   "metadata": {},
   "source": [
    "#### Q1. Scale that preprocessed data if needed\n",
    "- SQB means scaling"
   ]
  },
  {
   "cell_type": "code",
   "execution_count": 35,
   "metadata": {},
   "outputs": [
    {
     "data": {
      "text/plain": [
       "<AxesSubplot:ylabel='Density'>"
      ]
     },
     "execution_count": 35,
     "metadata": {},
     "output_type": "execute_result"
    },
    {
     "data": {
      "image/png": "[encoded data removed]",
      "text/plain": [
       "<Figure size 432x288 with 1 Axes>"
      ]
     },
     "metadata": {
      "needs_background": "light"
     },
     "output_type": "display_data"
    }
   ],
   "source": [
    "features = ['escolari', 'meaneduc', 'SQBescolari', 'cielorazo', 'eviv3','epared3', 'SQBmeaned', 'pisomoscer', 'etecho3']\n",
    "\n",
    "train_df = train_household_csv[features]\n",
    "train_df[['escolari', 'SQBescolari']].plot.kde()"
   ]
  },
  {
   "cell_type": "code",
   "execution_count": 36,
   "metadata": {},
   "outputs": [
    {
     "data": {
      "text/plain": [
       "<AxesSubplot:ylabel='Density'>"
      ]
     },
     "execution_count": 36,
     "metadata": {},
     "output_type": "execute_result"
    },
    {
     "data": {
      "image/png": "[encoded data removed]",
      "text/plain": [
       "<Figure size 432x288 with 1 Axes>"
      ]
     },
     "metadata": {
      "needs_background": "light"
     },
     "output_type": "display_data"
    }
   ],
   "source": [
    "train_df[['meaneduc', 'SQBmeaned']].plot.kde()"
   ]
  },
  {
   "cell_type": "markdown",
   "metadata": {},
   "source": [
    "#### Q2. Split the data into train and validation sets"
   ]
  },
  {
   "cell_type": "code",
   "execution_count": 37,
   "metadata": {},
   "outputs": [],
   "source": [
    "from sklearn.model_selection import train_test_split\n",
    "\n",
    "target_df = train_household_csv['Target']\n",
    "X_train, X_valid, y_train, y_valid = train_test_split(train_df, target_df, test_size = 0.3)"
   ]
  },
  {
   "cell_type": "markdown",
   "metadata": {},
   "source": [
    "#### Q3. Determine the machine learning models to be used and perform them. (Apply K-Fold cross validation or any other to improve the results)\n",
    "- KNN Classifier\n",
    "- DecisionTreeClassifier\n",
    "- RandomForestClassifier"
   ]
  },
  {
   "cell_type": "markdown",
   "metadata": {},
   "source": [
    "## Part5: Performance evaluation"
   ]
  },
  {
   "cell_type": "markdown",
   "metadata": {},
   "source": [
    "#### Q1. Determine the results"
   ]
  },
  {
   "cell_type": "code",
   "execution_count": 38,
   "metadata": {},
   "outputs": [
    {
     "name": "stdout",
     "output_type": "stream",
     "text": [
      "K =  1 -> Score: 52.75%\n",
      "K =  3 -> Score: 56.79%\n",
      "K =  5 -> Score: 58.47%\n",
      "K =  7 -> Score: 61.05%\n",
      "K =  9 -> Score: 61.62%\n",
      "K =  11 -> Score: 62.29%\n",
      "K =  13 -> Score: 63.64%\n",
      "K =  15 -> Score: 63.08%\n",
      "K =  17 -> Score: 63.52%\n",
      "K =  19 -> Score: 64.31%\n",
      "K =  21 -> Score: 64.65%\n",
      "K =  23 -> Score: 64.98%\n",
      "K =  25 -> Score: 65.10%\n",
      "K =  27 -> Score: 64.65%\n",
      "K =  29 -> Score: 64.87%\n"
     ]
    }
   ],
   "source": [
    "# KNN algorithms\n",
    "from sklearn.neighbors import KNeighborsClassifier\n",
    "\n",
    "for i in range(1, 31, 2):\n",
    "    knn = KNeighborsClassifier(n_neighbors=i)\n",
    "    knn.fit(X_train, y_train)\n",
    "    print(\"K = \", i, \"-> Score: {0:.2%}\".format(knn.score(X_valid, y_valid)))"
   ]
  },
  {
   "cell_type": "code",
   "execution_count": 67,
   "metadata": {},
   "outputs": [
    {
     "name": "stdout",
     "output_type": "stream",
     "text": [
      "Decision Tree -> 56.68%\n"
     ]
    }
   ],
   "source": [
    "# DecisionTree\n",
    "from sklearn.tree import DecisionTreeClassifier\n",
    "tree = DecisionTreeClassifier()\n",
    "tree.fit(X_train, y_train)\n",
    "print(\"Decision Tree -> {:.2%}\".format(tree.score(X_valid, y_valid)))"
   ]
  },
  {
   "cell_type": "code",
   "execution_count": 68,
   "metadata": {},
   "outputs": [
    {
     "name": "stdout",
     "output_type": "stream",
     "text": [
      "Random Forest : 59.60%\n"
     ]
    }
   ],
   "source": [
    "# RandomForest\n",
    "from sklearn.ensemble import RandomForestClassifier\n",
    "rfc = RandomForestClassifier(n_estimators=10)    # no. of trees\n",
    "rfc.fit(X_train, y_train)\n",
    "print(\"Random Forest : {:.2%}\".format(rfc.score(X_valid, y_valid)))"
   ]
  },
  {
   "cell_type": "code",
   "execution_count": 41,
   "metadata": {},
   "outputs": [
    {
     "data": {
      "text/plain": [
       "0.6391"
      ]
     },
     "execution_count": 41,
     "metadata": {},
     "output_type": "execute_result"
    }
   ],
   "source": [
    "# K-Fold cross validation\n",
    "from sklearn.model_selection import cross_val_score, KFold\n",
    "knn = KNeighborsClassifier(n_neighbors=20)\n",
    "cross_val_score(knn, train_df, train_household_csv['Target'], cv=5).mean().round(4)"
   ]
  },
  {
   "cell_type": "code",
   "execution_count": 42,
   "metadata": {},
   "outputs": [
    {
     "data": {
      "text/plain": [
       "0.5333"
      ]
     },
     "execution_count": 42,
     "metadata": {},
     "output_type": "execute_result"
    }
   ],
   "source": [
    "# K-Fold cross validation\n",
    "from sklearn.model_selection import cross_val_score, KFold\n",
    "cross_val_score(tree, train_df, train_household_csv['Target'], cv=5).mean().round(4)"
   ]
  },
  {
   "cell_type": "code",
   "execution_count": 43,
   "metadata": {},
   "outputs": [
    {
     "data": {
      "text/plain": [
       "0.5623"
      ]
     },
     "execution_count": 43,
     "metadata": {},
     "output_type": "execute_result"
    }
   ],
   "source": [
    "# K-Fold cross validation\n",
    "from sklearn.model_selection import cross_val_score, KFold\n",
    "cross_val_score(rfc, train_df, train_household_csv['Target'], cv=5).mean().round(4)"
   ]
  },
  {
   "cell_type": "markdown",
   "metadata": {},
   "source": [
    "#### Q2. Explain the implementation of the results\n",
    "- In KNN algorithms, score increase along with number of K\n",
    "- Among three algorithms, KNN Classifier shows highest performance"
   ]
  },
  {
   "cell_type": "markdown",
   "metadata": {},
   "source": [
    "#### Q3. Determine if the results are satisfactory, and determine if improvements need to be made.\n",
    "- Already take higher than 60% of scores\n",
    "- Model performance has a possibility to improve by decrease number of features."
   ]
  },
  {
   "cell_type": "markdown",
   "metadata": {},
   "source": [
    "#### Q4. If improvements need to be made, state the sections that improvements will be made and explain why."
   ]
  },
  {
   "cell_type": "code",
   "execution_count": 44,
   "metadata": {},
   "outputs": [
    {
     "data": {
      "text/plain": [
       "['escolari',\n",
       " 'meaneduc',\n",
       " 'SQBescolari',\n",
       " 'cielorazo',\n",
       " 'eviv3',\n",
       " 'epared3',\n",
       " 'SQBmeaned',\n",
       " 'pisomoscer',\n",
       " 'etecho3']"
      ]
     },
     "execution_count": 44,
     "metadata": {},
     "output_type": "execute_result"
    }
   ],
   "source": [
    "features"
   ]
  },
  {
   "cell_type": "code",
   "execution_count": 57,
   "metadata": {},
   "outputs": [
    {
     "data": {
      "text/plain": [
       "['escolari', 'meaneduc', 'cielorazo', 'eviv3']"
      ]
     },
     "execution_count": 57,
     "metadata": {},
     "output_type": "execute_result"
    }
   ],
   "source": [
    "d_features = features[:5]\n",
    "d_features.remove('SQBescolari')\n",
    "d_features"
   ]
  },
  {
   "cell_type": "code",
   "execution_count": 58,
   "metadata": {},
   "outputs": [],
   "source": [
    "target_df = train_household_csv['Target']\n",
    "train_df = train_household_csv[d_features]\n",
    "X_train, X_valid, y_train, y_valid = train_test_split(train_df, target_df, test_size = 0.3)"
   ]
  },
  {
   "cell_type": "code",
   "execution_count": 66,
   "metadata": {},
   "outputs": [
    {
     "name": "stdout",
     "output_type": "stream",
     "text": [
      "K =  1 -> Score: 74.75%\n",
      "K =  1 -> Score: 54.32%\n",
      "\n",
      "K =  3 -> Score: 68.49%\n",
      "K =  3 -> Score: 58.14%\n",
      "\n",
      "K =  5 -> Score: 67.53%\n",
      "K =  5 -> Score: 61.84%\n",
      "\n",
      "K =  7 -> Score: 68.54%\n",
      "K =  7 -> Score: 64.20%\n",
      "\n",
      "K =  9 -> Score: 66.71%\n",
      "K =  9 -> Score: 63.19%\n",
      "\n",
      "K =  11 -> Score: 67.10%\n",
      "K =  11 -> Score: 64.98%\n",
      "\n",
      "K =  13 -> Score: 66.76%\n",
      "K =  13 -> Score: 65.77%\n",
      "\n",
      "K =  15 -> Score: 66.91%\n",
      "K =  15 -> Score: 65.99%\n",
      "\n",
      "K =  17 -> Score: 66.33%\n",
      "K =  17 -> Score: 65.88%\n",
      "\n",
      "K =  19 -> Score: 66.43%\n",
      "K =  19 -> Score: 66.55%\n",
      "\n",
      "K =  21 -> Score: 66.38%\n",
      "K =  21 -> Score: 66.33%\n",
      "\n",
      "K =  23 -> Score: 65.95%\n",
      "K =  23 -> Score: 66.22%\n",
      "\n",
      "K =  25 -> Score: 66.14%\n",
      "K =  25 -> Score: 66.22%\n",
      "\n",
      "K =  27 -> Score: 65.85%\n",
      "K =  27 -> Score: 65.43%\n",
      "\n",
      "K =  29 -> Score: 66.04%\n",
      "K =  29 -> Score: 65.88%\n",
      "\n"
     ]
    }
   ],
   "source": [
    "# KNN algorithms\n",
    "from sklearn.neighbors import KNeighborsClassifier\n",
    "\n",
    "for i in range(1, 31, 2):\n",
    "    knn = KNeighborsClassifier(n_neighbors=i)\n",
    "    knn.fit(X_train, y_train)\n",
    "    print(\"K = \", i, \"-> Score: {0:.2%}\".format(knn.score(X_train, y_train)))\n",
    "    print(\"K = \", i, \"-> Score: {0:.2%}\".format(knn.score(X_valid, y_valid)))\n",
    "    print()"
   ]
  },
  {
   "cell_type": "code",
   "execution_count": 70,
   "metadata": {},
   "outputs": [
    {
     "name": "stdout",
     "output_type": "stream",
     "text": [
      "Decision Tree (train) 78.64%\n",
      "Decision Tree (valid) 56.34%\n"
     ]
    }
   ],
   "source": [
    "# DecisionTree\n",
    "from sklearn.tree import DecisionTreeClassifier\n",
    "tree = DecisionTreeClassifier()\n",
    "tree.fit(X_train, y_train)\n",
    "print(\"Decision Tree (train) {:.2%}\".format(tree.score(X_train, y_train)))\n",
    "print(\"Decision Tree (valid) {:.2%}\".format(tree.score(X_valid, y_valid)))"
   ]
  },
  {
   "cell_type": "code",
   "execution_count": 71,
   "metadata": {},
   "outputs": [
    {
     "name": "stdout",
     "output_type": "stream",
     "text": [
      "Random Forest (train) : 77.87%\n",
      "Random Forest (valid) : 59.15%\n"
     ]
    }
   ],
   "source": [
    "# RandomForest\n",
    "from sklearn.ensemble import RandomForestClassifier\n",
    "rfc = RandomForestClassifier(n_estimators=10)    # no. of trees\n",
    "rfc.fit(X_train, y_train)\n",
    "print(\"Random Forest (train) : {:.2%}\".format(rfc.score(X_train, y_train)))\n",
    "print(\"Random Forest (valid) : {:.2%}\".format(rfc.score(X_valid, y_valid)))"
   ]
  },
  {
   "cell_type": "code",
   "execution_count": 72,
   "metadata": {},
   "outputs": [
    {
     "data": {
      "text/plain": [
       "0.6492"
      ]
     },
     "execution_count": 72,
     "metadata": {},
     "output_type": "execute_result"
    }
   ],
   "source": [
    "# K-Fold cross validation\n",
    "from sklearn.model_selection import cross_val_score, KFold\n",
    "knn = KNeighborsClassifier(n_neighbors=100)\n",
    "cross_val_score(knn, train_household_csv[d_features], train_household_csv['Target'], cv=5).mean().round(4)"
   ]
  },
  {
   "cell_type": "markdown",
   "metadata": {},
   "source": [
    "## Part6: Conclusion"
   ]
  },
  {
   "cell_type": "markdown",
   "metadata": {},
   "source": [
    "#### Q1. Conclude the data science model that you have created\n",
    "#### Q2. Give thorough discussions\n",
    "- knn model is simple but show higher performance. Also, I experimented 10 features and shirinked these into 5 features. This decreased model shows higher performances, and I guess the reason is that the correlations top five was just near 0.4 ~ 0.3. So, rest of features impact to the model as noises.\n",
    "- Secondly, preprocessing was not thorough. I didn't check the top 5 faetures of outliers and didn't get rid of them. These might work as a noises too."
   ]
  }
 ],
 "metadata": {
  "kernelspec": {
   "display_name": "Python 3",
   "language": "python",
   "name": "python3"
  },
  "language_info": {
   "codemirror_mode": {
    "name": "ipython",
    "version": 3
   },
   "file_extension": ".py",
   "mimetype": "text/x-python",
   "name": "python",
   "nbconvert_exporter": "python",
   "pygments_lexer": "ipython3",
   "version": "3.7.4"
  }
 },
 "nbformat": 4,
 "nbformat_minor": 4
}
