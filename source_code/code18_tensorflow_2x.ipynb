{
 "cells": [
  {
   "cell_type": "markdown",
   "metadata": {
    "id": "UfYHSe3Xv4wG"
   },
   "source": [
    "# Tensorflow 2.0\n",
    "- Eager execution mode: skip all the Graph and Session (now, becomes much like a simple Python code (numpy code).\n",
    "- Tensors 1.0\n",
    "  - Graph: relate the nodes you created\n",
    "  - Session:class for performing computation on a graph"
   ]
  },
  {
   "cell_type": "code",
   "execution_count": null,
   "metadata": {
    "id": "gOB7CHUKbSrd"
   },
   "outputs": [],
   "source": [
    "import numpy as np \n",
    "import tensorflow as tf \n",
    "import matplotlib.pyplot as plt"
   ]
  },
  {
   "cell_type": "code",
   "execution_count": null,
   "metadata": {
    "colab": {
     "base_uri": "https://localhost:8080/"
    },
    "executionInfo": {
     "elapsed": 986,
     "status": "ok",
     "timestamp": 1605149583086,
     "user": {
      "displayName": "Yongjin Jeong",
      "photoUrl": "",
      "userId": "03658406798560557048"
     },
     "user_tz": -540
    },
    "id": "d8tpL4-qK2Yz",
    "outputId": "25f23c95-b103-4d8c-8c62-0f90e4fbdca2"
   },
   "outputs": [
    {
     "name": "stdout",
     "output_type": "stream",
     "text": [
      "tf.Tensor(\n",
      "[[0.42300504 1.5138938  1.0883104 ]\n",
      " [2.1952374  2.9931147  0.18550509]\n",
      " [1.2978332  0.7032233  0.8444773 ]], shape=(3, 3), dtype=float32)\n"
     ]
    }
   ],
   "source": [
    "import tensorflow as tf\n",
    "\n",
    "x = tf.random.normal(shape=(3,3))\n",
    "y = tf.random.normal(shape=(3,3))\n",
    "z = tf.ones(shape=(1))\n",
    "\n",
    "result = z + x * y\n",
    "print(result)"
   ]
  },
  {
   "cell_type": "markdown",
   "metadata": {
    "id": "HC-wih29ddTj"
   },
   "source": []
  },
  {
   "cell_type": "markdown",
   "metadata": {
    "id": "USfgvzzkYnMd"
   },
   "source": [
    "## Linear Regression using Tensorflow 2.0"
   ]
  },
  {
   "cell_type": "code",
   "execution_count": null,
   "metadata": {
    "colab": {
     "base_uri": "https://localhost:8080/",
     "height": 807
    },
    "executionInfo": {
     "elapsed": 1306,
     "status": "ok",
     "timestamp": 1605151711786,
     "user": {
      "displayName": "Yongjin Jeong",
      "photoUrl": "",
      "userId": "03658406798560557048"
     },
     "user_tz": -540
    },
    "id": "DqtC4Q7DYrXU",
    "outputId": "f51d4212-d8ac-4907-d65d-17e7150dcc17"
   },
   "outputs": [
    {
     "name": "stdout",
     "output_type": "stream",
     "text": [
      "    0|    3.0029|    0.8013|191.921646\n",
      "   10|    3.9568|     1.755|154.803024\n",
      "   20|    4.7868|     2.607|125.907997\n",
      "   30|    5.5089|      3.37|103.397346\n",
      "   40|    6.1367|     4.053| 85.846344\n",
      "   50|    6.6825|     4.664| 72.150848\n",
      "   60|    7.1567|     5.211| 61.454578\n",
      "   70|    7.5686|     5.701| 53.093197\n",
      "   80|    7.9262|     6.141| 46.550900\n",
      "   90|    8.2365|     6.534| 41.426979\n",
      "  100|    8.5058|     6.887| 37.409897\n",
      "  110|    8.7392|     7.203| 34.257305\n",
      "  120|    8.9414|     7.487| 31.780540\n",
      "  130|    9.1166|     7.742| 29.832596\n",
      "  140|    9.2682|     7.971| 28.298861\n",
      "  150|    9.3994|     8.176| 27.089880\n",
      "  160|    9.5127|      8.36| 26.135777\n",
      "  170|    9.6107|     8.526| 25.381931\n",
      "  180|    9.6952|     8.674| 24.785589\n",
      "  190|    9.7681|     8.808| 24.313271\n",
      "  200|    9.8310|     8.928| 23.938726\n",
      "  210|    9.8851|     9.036| 23.641350\n",
      "  220|    9.9316|     9.133| 23.404949\n",
      "  230|    9.9716|     9.221| 23.216778\n",
      "  240|   10.0059|     9.299| 23.066818\n",
      "  250|   10.0353|      9.37| 22.947159\n",
      "  260|   10.0605|     9.434| 22.851557\n",
      "  270|   10.0820|     9.491| 22.775087\n",
      "  280|   10.1003|     9.543| 22.713842\n",
      "  290|   10.1160|     9.589| 22.664734\n"
     ]
    },
    {
     "data": {
      "text/plain": [
       "[<matplotlib.lines.Line2D at 0x7f22edc2d9e8>]"
      ]
     },
     "execution_count": 61,
     "metadata": {
      "tags": []
     },
     "output_type": "execute_result"
    },
    {
     "data": {
      "image/png": "[encoded data removed]",
      "text/plain": [
       "<Figure size 432x288 with 1 Axes>"
      ]
     },
     "metadata": {
      "needs_background": "light",
      "tags": []
     },
     "output_type": "display_data"
    }
   ],
   "source": [
    "np.random.seed(17) \n",
    "n = 100\n",
    "x = np.random.randn(n)                # batch size\n",
    "y = x*10 + 10                         # w=20, b=10 ???\n",
    "y = y + np.random.randn(n) * 5       # add noise\n",
    "\n",
    "W = tf.Variable(2.9)\n",
    "b = tf.Variable(0.7)\n",
    "\n",
    "learning_rate = 0.01\n",
    "lossHistory = []\n",
    "\n",
    "for i in range(300):\n",
    "    y_pred = W * x + b\n",
    "    cost = tf.reduce_mean(tf.square(y_pred - y))\n",
    "\n",
    "    W_grad = tf.reduce_mean((y_pred - y) * x)\n",
    "    b_grad = tf.reduce_mean(y_pred - y)\n",
    "    \n",
    "    W.assign_sub(learning_rate * W_grad)\n",
    "    b.assign_sub(learning_rate * b_grad)\n",
    "    lossHistory.append(cost)\n",
    "    if i % 10 == 0:\n",
    "        print(\"{:5}|{:10.4f}|{:10.4}|{:10.6f}\".format(i, W.numpy(), b.numpy(), cost))\n",
    "\n",
    "plt.plot(lossHistory)"
   ]
  },
  {
   "cell_type": "markdown",
   "metadata": {
    "id": "rYfLpeKSeshU"
   },
   "source": [
    "## Linear Regression using Tensorflow 2.0 (2)\n",
    "- using tf.GradientTape() for gradient values"
   ]
  },
  {
   "cell_type": "code",
   "execution_count": null,
   "metadata": {
    "colab": {
     "base_uri": "https://localhost:8080/",
     "height": 807
    },
    "executionInfo": {
     "elapsed": 1268,
     "status": "ok",
     "timestamp": 1605151698852,
     "user": {
      "displayName": "Yongjin Jeong",
      "photoUrl": "",
      "userId": "03658406798560557048"
     },
     "user_tz": -540
    },
    "id": "lLQnC9qQckYc",
    "outputId": "9424d832-534e-4143-f412-6ffc7c9342ea"
   },
   "outputs": [
    {
     "name": "stdout",
     "output_type": "stream",
     "text": [
      "    0|    3.1058|    0.9027|191.921646\n",
      "   10|    4.8755|     2.697|125.586945\n",
      "   20|    6.2120|     4.132| 85.459198\n",
      "   30|    7.2198|      5.28| 61.103466\n",
      "   40|    7.9785|     6.201| 46.266964\n",
      "   50|    8.5488|     6.939| 37.193863\n",
      "   60|    8.9765|     7.532| 31.622187\n",
      "   70|    9.2966|     8.009| 28.185572\n",
      "   80|    9.5356|     8.392| 26.056047\n",
      "   90|    9.7135|     8.702| 24.730110\n",
      "  100|    9.8455|     8.952| 23.900427\n",
      "  110|    9.9431|     9.153| 23.378635\n",
      "  120|   10.0149|     9.316| 23.048809\n",
      "  130|   10.0675|     9.448| 22.839252\n",
      "  140|   10.1058|     9.555| 22.705442\n",
      "  150|   10.1335|     9.642| 22.619577\n",
      "  160|   10.1533|     9.712| 22.564215\n",
      "  170|   10.1674|     9.769| 22.528349\n",
      "  180|   10.1773|     9.815| 22.505022\n",
      "  190|   10.1840|     9.853| 22.489779\n",
      "  200|   10.1886|     9.884| 22.479782\n",
      "  210|   10.1916|     9.909| 22.473204\n",
      "  220|   10.1934|     9.929| 22.468861\n",
      "  230|   10.1945|     9.946| 22.465981\n",
      "  240|   10.1950|      9.96| 22.464069\n",
      "  250|   10.1951|     9.971| 22.462797\n",
      "  260|   10.1950|      9.98| 22.461950\n",
      "  270|   10.1948|     9.987| 22.461382\n",
      "  280|   10.1945|     9.993| 22.461000\n",
      "  290|   10.1942|     9.998| 22.460747\n"
     ]
    },
    {
     "data": {
      "text/plain": [
       "[<matplotlib.lines.Line2D at 0x7f22e40244e0>]"
      ]
     },
     "execution_count": 60,
     "metadata": {
      "tags": []
     },
     "output_type": "execute_result"
    },
    {
     "data": {
      "image/png": "[encoded data removed]",
      "text/plain": [
       "<Figure size 432x288 with 1 Axes>"
      ]
     },
     "metadata": {
      "needs_background": "light",
      "tags": []
     },
     "output_type": "display_data"
    }
   ],
   "source": [
    "\n",
    "np.random.seed(17) \n",
    "n = 100\n",
    "x = np.random.randn(n)                # batch size\n",
    "y = x*10 + 10                         # w=20, b=10 ???\n",
    "y = y + np.random.randn(n) * 5       # add noise\n",
    "\n",
    "W = tf.Variable(2.9)\n",
    "b = tf.Variable(0.7)\n",
    "\n",
    "learning_rate = 0.01\n",
    "lossHistory = []\n",
    "\n",
    "for i in range(300):\n",
    "    with tf.GradientTape() as tape:\n",
    "        # 값들의 변화를 저장해놓음\n",
    "        # PyTorch의 loss.backward()\n",
    "        # 나중에 optimizer.step() 하면 다 돌아가는 것이랑 똑같음\n",
    "        y_pred = W * x + b\n",
    "        cost = tf.reduce_mean(tf.square(y_pred - y))\n",
    "    \n",
    "    W_grad, b_grad = tape.gradient(cost, [W,b])  # dCost/dw, dCost/db\n",
    "    W.assign_sub(learning_rate * W_grad)\n",
    "    b.assign_sub(learning_rate * b_grad)\n",
    "    lossHistory.append(cost)\n",
    "    if i % 10 == 0:\n",
    "        print(\"{:5}|{:10.4f}|{:10.4}|{:10.6f}\".format(i, W.numpy(), b.numpy(), cost))\n",
    "\n",
    "plt.plot(lossHistory)"
   ]
  },
  {
   "cell_type": "markdown",
   "metadata": {
    "id": "Sg2gAezRhcmk"
   },
   "source": [
    "## Linear regression using keras"
   ]
  },
  {
   "cell_type": "code",
   "execution_count": null,
   "metadata": {
    "colab": {
     "base_uri": "https://localhost:8080/",
     "height": 475
    },
    "executionInfo": {
     "elapsed": 2204,
     "status": "ok",
     "timestamp": 1605151684510,
     "user": {
      "displayName": "Yongjin Jeong",
      "photoUrl": "",
      "userId": "03658406798560557048"
     },
     "user_tz": -540
    },
    "id": "rTRfnPPAfugd",
    "outputId": "d17d65fc-d3d3-4dc9-ed3d-41705881910f"
   },
   "outputs": [
    {
     "name": "stdout",
     "output_type": "stream",
     "text": [
      "Model: \"sequential_16\"\n",
      "_________________________________________________________________\n",
      "Layer (type)                 Output Shape              Param #   \n",
      "=================================================================\n",
      "dense_16 (Dense)             (None, 1)                 2         \n",
      "=================================================================\n",
      "Total params: 2\n",
      "Trainable params: 2\n",
      "Non-trainable params: 0\n",
      "_________________________________________________________________\n",
      "[array([[10.176245]], dtype=float32), array([10.112108], dtype=float32)]\n"
     ]
    },
    {
     "data": {
      "text/plain": [
       "<matplotlib.legend.Legend at 0x7f22e2c21e48>"
      ]
     },
     "execution_count": 59,
     "metadata": {
      "tags": []
     },
     "output_type": "execute_result"
    },
    {
     "data": {
      "image/png": "[encoded data removed]",
      "text/plain": [
       "<Figure size 432x288 with 1 Axes>"
      ]
     },
     "metadata": {
      "needs_background": "light",
      "tags": []
     },
     "output_type": "display_data"
    }
   ],
   "source": [
    "from keras.models import Sequential\n",
    "from keras.layers.core import Dense, Flatten\n",
    "from keras.optimizers import SGD\n",
    "\n",
    "np.random.seed(17) \n",
    "n = 100\n",
    "x = np.random.randn(n)                # batch size\n",
    "y = x*10 + 10                         # w=20, b=10 ???\n",
    "y = y + np.random.randn(n) * 5       # add noise\n",
    "  \n",
    "# n = len(x) # Number of data points\n",
    "# plt.scatter(x, y) \n",
    "# plt.xlabel('x') \n",
    "# plt.xlabel('y') \n",
    "# plt.title(\"Training Data\") \n",
    "# plt.show() \n",
    "\n",
    "#---------\n",
    "model = Sequential()\n",
    "\n",
    "model.add(Dense(1, input_shape=(1,), activation='linear'))\n",
    "model.summary()\n",
    "\n",
    "model.compile(optimizer=SGD(learning_rate=1e-2), loss='mse')\n",
    "history = model.fit(x, y, epochs=300, verbose=0)\n",
    "\n",
    "\n",
    "print([i.numpy() for i in model.weights])\n",
    "# history.history.keys()\n",
    "plt.plot(history.history['loss'], label='train_loss')\n",
    "plt.legend(loc='best')"
   ]
  },
  {
   "cell_type": "markdown",
   "metadata": {
    "id": "qKE64DlB2RIZ"
   },
   "source": [
    "## Logistic regression"
   ]
  },
  {
   "cell_type": "code",
   "execution_count": null,
   "metadata": {
    "colab": {
     "base_uri": "https://localhost:8080/",
     "height": 283
    },
    "executionInfo": {
     "elapsed": 994,
     "status": "ok",
     "timestamp": 1605150757746,
     "user": {
      "displayName": "Yongjin Jeong",
      "photoUrl": "",
      "userId": "03658406798560557048"
     },
     "user_tz": -540
    },
    "id": "IiF46TDtSgSa",
    "outputId": "485de62c-6224-4c36-8529-b17b1f448314"
   },
   "outputs": [
    {
     "data": {
      "text/plain": [
       "<matplotlib.collections.PathCollection at 0x7f22e11b4080>"
      ]
     },
     "execution_count": 45,
     "metadata": {
      "tags": []
     },
     "output_type": "execute_result"
    },
    {
     "data": {
      "image/png": "[encoded data removed]",
      "text/plain": [
       "<Figure size 432x288 with 1 Axes>"
      ]
     },
     "metadata": {
      "needs_background": "light",
      "tags": []
     },
     "output_type": "display_data"
    }
   ],
   "source": [
    "from sklearn.datasets import make_blobs\n",
    "\n",
    "np.random.seed(17)\n",
    "N = 300\n",
    "(X, y) = make_blobs(n_samples=N, n_features=2, centers=2, \n",
    "                    cluster_std=1.5, random_state=20)\n",
    "plt.scatter(X[:,0], X[:,1], c=y)\n"
   ]
  },
  {
   "cell_type": "code",
   "execution_count": null,
   "metadata": {
    "colab": {
     "base_uri": "https://localhost:8080/"
    },
    "executionInfo": {
     "elapsed": 1867,
     "status": "ok",
     "timestamp": 1605150798315,
     "user": {
      "displayName": "Yongjin Jeong",
      "photoUrl": "",
      "userId": "03658406798560557048"
     },
     "user_tz": -540
    },
    "id": "Gz8eVeQlVuMx",
    "outputId": "27f58aa6-9073-43ca-9851-8c5657f5397a"
   },
   "outputs": [
    {
     "name": "stdout",
     "output_type": "stream",
     "text": [
      "Model: \"sequential_13\"\n",
      "_________________________________________________________________\n",
      "Layer (type)                 Output Shape              Param #   \n",
      "=================================================================\n",
      "dense_13 (Dense)             (None, 1)                 3         \n",
      "=================================================================\n",
      "Total params: 3\n",
      "Trainable params: 3\n",
      "Non-trainable params: 0\n",
      "_________________________________________________________________\n",
      "[array([[ 0.9811286],\n",
      "       [-0.6085097]], dtype=float32), array([-0.07413111], dtype=float32)]\n"
     ]
    }
   ],
   "source": [
    "model = Sequential()\n",
    "\n",
    "model.add(Dense(1, input_shape=(2,), activation='sigmoid'))\n",
    "model.summary()\n",
    "\n",
    "model.compile(optimizer=SGD(learning_rate=0.001), \n",
    "              loss='binary_crossentropy',\n",
    "              metrics=['accuracy'])\n",
    "history = model.fit(X, y, epochs=100, verbose=0)\n",
    "\n",
    "print([i.numpy() for i in model.weights])"
   ]
  },
  {
   "cell_type": "code",
   "execution_count": null,
   "metadata": {
    "colab": {
     "base_uri": "https://localhost:8080/",
     "height": 283
    },
    "executionInfo": {
     "elapsed": 957,
     "status": "ok",
     "timestamp": 1605150817944,
     "user": {
      "displayName": "Yongjin Jeong",
      "photoUrl": "",
      "userId": "03658406798560557048"
     },
     "user_tz": -540
    },
    "id": "cgpVo24Liwl1",
    "outputId": "2c87a390-36ee-4ebd-b1c9-34f6e14facde"
   },
   "outputs": [
    {
     "data": {
      "text/plain": [
       "[<matplotlib.lines.Line2D at 0x7f22e119b1d0>]"
      ]
     },
     "execution_count": 48,
     "metadata": {
      "tags": []
     },
     "output_type": "execute_result"
    },
    {
     "data": {
      "image/png": "[encoded data removed]",
      "text/plain": [
       "<Figure size 432x288 with 1 Axes>"
      ]
     },
     "metadata": {
      "needs_background": "light",
      "tags": []
     },
     "output_type": "display_data"
    }
   ],
   "source": [
    "plt.scatter(X[:,0], X[:,1], c=y)\n",
    "w1, w2 = model.weights[0][0], model.weights[0][1]\n",
    "b = model.weights[1]\n",
    "xx = np.linspace(-5, 15, 100)\n",
    "yy = -w1/w2 * xx - b/w2\n",
    "plt.plot(xx, yy)"
   ]
  },
  {
   "cell_type": "code",
   "execution_count": null,
   "metadata": {
    "colab": {
     "base_uri": "https://localhost:8080/",
     "height": 269
    },
    "executionInfo": {
     "elapsed": 847,
     "status": "ok",
     "timestamp": 1605150821762,
     "user": {
      "displayName": "Yongjin Jeong",
      "photoUrl": "",
      "userId": "03658406798560557048"
     },
     "user_tz": -540
    },
    "id": "p2pkGwmMC-te",
    "outputId": "3cf333ff-8a87-48f6-96c8-7689c43ad551"
   },
   "outputs": [
    {
     "data": {
      "image/png": "[encoded data removed]",
      "text/plain": [
       "<Figure size 432x288 with 2 Axes>"
      ]
     },
     "metadata": {
      "needs_background": "light",
      "tags": []
     },
     "output_type": "display_data"
    }
   ],
   "source": [
    "plt.subplot(1,2,1)\n",
    "plt.plot(history.history['loss'], label='loss')\n",
    "plt.subplot(1,2,2)\n",
    "plt.plot(history.history['accuracy'], label='accuracy', c='r')\n",
    "plt.show()"
   ]
  },
  {
   "cell_type": "markdown",
   "metadata": {
    "id": "jE-H0qUNC_OD"
   },
   "source": [
    "# Tf1.0 and Tf 2.0 비교\n"
   ]
  },
  {
   "cell_type": "markdown",
   "metadata": {
    "id": "idwILRb2DC7n"
   },
   "source": [
    "### 1. Eager execution (no Graph, no Session)\n",
    " - direct execution\n",
    " - no placeholder(), no gloval_variables_initializer()"
   ]
  },
  {
   "cell_type": "code",
   "execution_count": null,
   "metadata": {
    "colab": {
     "base_uri": "https://localhost:8080/"
    },
    "executionInfo": {
     "elapsed": 835,
     "status": "ok",
     "timestamp": 1605077333642,
     "user": {
      "displayName": "Yongjin Jeong",
      "photoUrl": "",
      "userId": "03658406798560557048"
     },
     "user_tz": -540
    },
    "id": "hEOKbQ8wDrRh",
    "outputId": "1acd91b5-eae4-465e-85fa-9512a67aa938"
   },
   "outputs": [
    {
     "name": "stdout",
     "output_type": "stream",
     "text": [
      "tf.Tensor(30, shape=(), dtype=int32) 30\n"
     ]
    }
   ],
   "source": [
    "a = tf.constant(10)\n",
    "b = tf.constant(20)\n",
    "c = a + b\n",
    "print(c, c.numpy())"
   ]
  },
  {
   "cell_type": "code",
   "execution_count": null,
   "metadata": {
    "colab": {
     "base_uri": "https://localhost:8080/"
    },
    "executionInfo": {
     "elapsed": 834,
     "status": "ok",
     "timestamp": 1605077774163,
     "user": {
      "displayName": "Yongjin Jeong",
      "photoUrl": "",
      "userId": "03658406798560557048"
     },
     "user_tz": -540
    },
    "id": "OE1sXF2LEHHI",
    "outputId": "c248404e-5917-4a00-ec5a-47556ab535c1"
   },
   "outputs": [
    {
     "name": "stdout",
     "output_type": "stream",
     "text": [
      "<tf.Variable 'Variable:0' shape=(1,) dtype=float32, numpy=array([-2.4748366], dtype=float32)>\n",
      "[-1.4748366]\n",
      "[-0.4748366]\n",
      "[0.5251634]\n"
     ]
    }
   ],
   "source": [
    "w = tf.Variable(tf.random.normal([1]))\n",
    "print(w)\n",
    "\n",
    "for step in range(3):\n",
    "    w = w + 1.0\n",
    "    print(w.numpy())"
   ]
  },
  {
   "cell_type": "code",
   "execution_count": null,
   "metadata": {
    "colab": {
     "base_uri": "https://localhost:8080/"
    },
    "executionInfo": {
     "elapsed": 773,
     "status": "ok",
     "timestamp": 1605078081033,
     "user": {
      "displayName": "Yongjin Jeong",
      "photoUrl": "",
      "userId": "03658406798560557048"
     },
     "user_tz": -540
    },
    "id": "HIsVTxYKE_DG",
    "outputId": "76283a11-3319-4980-fe88-9755b9bec089"
   },
   "outputs": [
    {
     "name": "stdout",
     "output_type": "stream",
     "text": [
      "<class 'tensorflow.python.framework.ops.EagerTensor'> tf.Tensor(4.0, shape=(), dtype=float32) 4.0\n"
     ]
    }
   ],
   "source": [
    "a = tf.constant(1.0)   # function 에 직접 값을 넘겨줄 수 있음.\n",
    "b = tf.constant(3.0)\n",
    "\n",
    "def tensor_sum(x, y):\n",
    "    return x + y\n",
    "\n",
    "result = tensor_sum(a, b)\n",
    "\n",
    "print(type(result), result, result.numpy())"
   ]
  },
  {
   "cell_type": "markdown",
   "metadata": {
    "id": "DDeUdJfyG6fe"
   },
   "source": [
    "### 2. high level API (keras)\n",
    "- model, layers\n",
    "- data generation (train, test)\n",
    "- CNN, RNN, LSTM, GRU, ... \n",
    "- model generation -> compile -> fit -> evaluate/predict -> save (or reload)"
   ]
  },
  {
   "cell_type": "code",
   "execution_count": null,
   "metadata": {
    "colab": {
     "base_uri": "https://localhost:8080/"
    },
    "executionInfo": {
     "elapsed": 870,
     "status": "ok",
     "timestamp": 1605079255725,
     "user": {
      "displayName": "Yongjin Jeong",
      "photoUrl": "",
      "userId": "03658406798560557048"
     },
     "user_tz": -540
    },
    "id": "RIuR7-6GIn5g",
    "outputId": "179c10ec-1509-4715-a696-be547f06f622"
   },
   "outputs": [
    {
     "name": "stdout",
     "output_type": "stream",
     "text": [
      "Model: \"sequential_9\"\n",
      "_________________________________________________________________\n",
      "Layer (type)                 Output Shape              Param #   \n",
      "=================================================================\n",
      "flatten_2 (Flatten)          (None, 1)                 0         \n",
      "_________________________________________________________________\n",
      "dense_13 (Dense)             (None, 2)                 4         \n",
      "=================================================================\n",
      "Total params: 4\n",
      "Trainable params: 4\n",
      "Non-trainable params: 0\n",
      "_________________________________________________________________\n"
     ]
    }
   ],
   "source": [
    "from keras.models import Sequential\n",
    "from keras.layers.core import Dense, Flatten\n",
    "model = Sequential()\n",
    "\n",
    "model.add(Flatten(input_shape=(1,)))\n",
    "model.add(Dense(2, activation='sigmoid'))\n",
    "# or\n",
    "# model.add(Dense(2, activation='sigmoid'), input_shape=(1,)) # more common\n",
    "model.summary()"
   ]
  },
  {
   "cell_type": "code",
   "execution_count": null,
   "metadata": {
    "id": "jhDUHbtVKm6Z"
   },
   "outputs": [],
   "source": [
    "from keras.optimizers import SGD, Adam\n",
    "# regression\n",
    "model.compile(optimizer=SGD(learning_rate=0.1), \n",
    "              loss='mse',\n",
    "              metrics=['accuracy'])    # loss 는 기본\n",
    "# classification\n",
    "model.compile(optimizer=Adam(learning_rate=1e-3), \n",
    "              loss='categorical_crossentropy')"
   ]
  },
  {
   "cell_type": "code",
   "execution_count": null,
   "metadata": {
    "id": "U5jEjXkUMSCS"
   },
   "outputs": [],
   "source": [
    "'''\n",
    "model.fit(x_train, y_train, epochs=10, \n",
    "          batxh_size=100,\n",
    "          verbose=0,\n",
    "          validation_split=0.2)\n",
    "'''"
   ]
  },
  {
   "cell_type": "code",
   "execution_count": null,
   "metadata": {
    "id": "BQNWtDIoNA4v"
   },
   "outputs": [],
   "source": [
    "'''\n",
    "model.evaluate(x_test, y_test, epochs=10, batch_size=10)\n",
    "model.predict(x_input_data, batch_size=100)\n",
    "'''"
   ]
  },
  {
   "cell_type": "code",
   "execution_count": null,
   "metadata": {
    "id": "3bSTZ9H2NVBE"
   },
   "outputs": [],
   "source": [
    "'''\n",
    "model.save(\"model_name.h5\")\n",
    "# and later\n",
    "model = load_model(\"model_name.h5\")\n",
    "'''"
   ]
  },
  {
   "cell_type": "markdown",
   "metadata": {
    "id": "j8jzI_dYTvJx"
   },
   "source": [
    "#### input_shape and input_dim\n",
    "- Input shape: simply tells the input layer what the shape of one sample looks like. Adding it to your input layer, will ensure that a match is made.\n",
    "\n",
    "- Input dim: sometimes, though, you just have one dimension – which is the case with one-dimensional / flattened arrays, for example. In this case, you can also simply use input_dim: specifying the number of elements within that first dimension only."
   ]
  },
  {
   "cell_type": "code",
   "execution_count": null,
   "metadata": {
    "id": "Jf8xg9LxT35f"
   },
   "outputs": [],
   "source": []
  },
  {
   "cell_type": "markdown",
   "metadata": {
    "id": "8XYhoS3kTsey"
   },
   "source": [
    "![image.png](data:image/png;base64,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)"
   ]
  },
  {
   "cell_type": "code",
   "execution_count": null,
   "metadata": {
    "id": "NinJxks0Oj6E"
   },
   "outputs": [],
   "source": []
  },
  {
   "cell_type": "markdown",
   "metadata": {
    "id": "HVAZFIflhSbE"
   },
   "source": [
    "# 연습\n",
    "- GradientTape(): \n",
    "  - trainable variables (created by tf.Variable or tf.compat.v1.get_variable, where trainable=True is default in both cases) are automatically watched. Tensors can be manually watched by invoking the watch method on this context manager.\n",
    "  - By default GradientTape will automatically watch any trainable variables that are accessed inside the context\n",
    "- "
   ]
  },
  {
   "cell_type": "code",
   "execution_count": null,
   "metadata": {
    "colab": {
     "base_uri": "https://localhost:8080/"
    },
    "executionInfo": {
     "elapsed": 891,
     "status": "ok",
     "timestamp": 1605152483562,
     "user": {
      "displayName": "Yongjin Jeong",
      "photoUrl": "",
      "userId": "03658406798560557048"
     },
     "user_tz": -540
    },
    "id": "e6tjJeyYhU1T",
    "outputId": "0f383e40-2264-4635-9521-3d92f9872a52"
   },
   "outputs": [
    {
     "data": {
      "text/plain": [
       "(<tf.Tensor: shape=(), dtype=float32, numpy=108.0>,\n",
       " <tf.Tensor: shape=(), dtype=float32, numpy=6.0>)"
      ]
     },
     "execution_count": 68,
     "metadata": {
      "tags": []
     },
     "output_type": "execute_result"
    }
   ],
   "source": [
    "x = tf.constant(3.0)\n",
    "with tf.GradientTape(persistent=True) as g:\n",
    "    g.watch(x)\n",
    "    y = x * x\n",
    "    z = y * y\n",
    "\n",
    "dz_dx = g.gradient(z, x)  # 108.0 (4*x^3 at x = 3)\n",
    "dy_dx = g.gradient(y, x)  # 6.0\n",
    "# del g  # Drop the reference to the tape\n",
    "\n",
    "dz_dx, dy_dx\n"
   ]
  },
  {
   "cell_type": "code",
   "execution_count": null,
   "metadata": {
    "id": "JDS6w6mKh5di"
   },
   "outputs": [],
   "source": []
  }
 ],
 "metadata": {
  "colab": {
   "collapsed_sections": [
    "idwILRb2DC7n"
   ],
   "name": "lab02_tensorflow_2x.ipynb",
   "provenance": [],
   "toc_visible": true
  },
  "kernelspec": {
   "display_name": "Python 3",
   "language": "python",
   "name": "python3"
  },
  "language_info": {
   "codemirror_mode": {
    "name": "ipython",
    "version": 3
   },
   "file_extension": ".py",
   "mimetype": "text/x-python",
   "name": "python",
   "nbconvert_exporter": "python",
   "pygments_lexer": "ipython3",
   "version": "3.7.4"
  }
 },
 "nbformat": 4,
 "nbformat_minor": 1
}
