{
 "cells": [
  {
   "cell_type": "markdown",
   "metadata": {},
   "source": [
    "# Linear Regression (선형회귀)\n",
    "### Ex1: Linear regression with two variables (y = wx + b)"
   ]
  },
  {
   "cell_type": "code",
   "execution_count": 1,
   "metadata": {},
   "outputs": [
    {
     "name": "stdout",
     "output_type": "stream",
     "text": [
      "epoch= 0 error= 475.83475821227177 w= 4.206428592258281 b= 2.603593435821732\n",
      "epoch= 10 error= 83.08400368638995 w= 17.776583155271275 b= 9.441405627422025\n",
      "epoch= 20 error= 73.94666672630308 w= 19.916314642769542 b= 10.34350169963173\n",
      "epoch= 30 error= 73.73085269429936 w= 20.25157097620641 b= 10.466749878362885\n",
      "epoch= 40 error= 73.72571890724325 w= 20.30388007171164 b= 10.484108898557523\n",
      "epoch= 50 error= 73.72559637904702 w= 20.312019026863304 b= 10.486615554604846\n",
      "epoch= 60 error= 73.72559345018809 w= 20.31328303971445 b= 10.486984616134704\n",
      "epoch= 70 error= 73.72559338012874 w= 20.31347910075378 b= 10.487039750501749\n",
      "epoch= 80 error= 73.72559337845236 w= 20.31350948619131 b= 10.48704807471277\n",
      "epoch= 90 error= 73.72559337841223 w= 20.31351419263737 b= 10.487049341011803\n",
      "epoch= 100 error= 73.72559337841128 w= 20.313514921346407 b= 10.487049534664386\n",
      "epoch= 110 error= 73.72559337841125 w= 20.31351503414474 b= 10.48704956438794\n",
      "epoch= 120 error= 73.72559337841125 w= 20.31351505160196 b= 10.487049568961693\n",
      "epoch= 130 error= 73.72559337841126 w= 20.31351505430341 b= 10.4870495696667\n",
      "epoch= 140 error= 73.72559337841126 w= 20.313515054721414 b= 10.487049569775499\n",
      "epoch= 150 error= 73.72559337841126 w= 20.31351505478609 b= 10.487049569792303\n",
      "epoch= 160 error= 73.72559337841125 w= 20.313515054796095 b= 10.487049569794902\n",
      "epoch= 170 error= 73.72559337841126 w= 20.313515054797644 b= 10.487049569795301\n",
      "epoch= 180 error= 73.72559337841128 w= 20.313515054797882 b= 10.487049569795364\n",
      "epoch= 190 error= 73.72559337841126 w= 20.313515054797918 b= 10.48704956979537\n",
      "---------------------------\n",
      "epoch= 199 error= 73.72559337841126 w= 20.313515054797918 b= 10.48704956979537\n"
     ]
    },
    {
     "data": {
      "text/plain": [
       "[<matplotlib.lines.Line2D at 0x233ce01eac8>]"
      ]
     },
     "execution_count": 1,
     "metadata": {},
     "output_type": "execute_result"
    },
    {
     "data": {
      "image/png": "[encoded data removed]",
      "text/plain": [
       "<Figure size 288x288 with 1 Axes>"
      ]
     },
     "metadata": {
      "needs_background": "light"
     },
     "output_type": "display_data"
    }
   ],
   "source": [
    "# ex1: linear regression with two variables (y = wx + b)\n",
    "\n",
    "import numpy as np\n",
    "import pandas as pd\n",
    "import matplotlib.pyplot as plt\n",
    "%matplotlib inline\n",
    "\n",
    "n = 100\n",
    "x = np.random.randn(n)                # batch size\n",
    "y = x*20 + 10                         # w=20, b=10\n",
    "y = y + np.random.randn(n) * 10       # add noise\n",
    "\n",
    "# x,y\n",
    "#### just to see the data\n",
    "plt.figure(figsize=(4,4)) # plotting a circle\n",
    "plt.scatter(x,y)\n",
    "##################\\\n",
    "\n",
    "w=np.random.randn()   # randn = normal distribution: meqn=0, signma=1, rand= (0,1)\n",
    "b=np.random.randn()\n",
    "\n",
    "lr = 0.2                                 # learning rate\n",
    "n_epoch = 200\n",
    "\n",
    "for epoch in range(n_epoch):\n",
    "    y_pred = w*x + b\n",
    "    error = ((y_pred - y)**2).mean()     # mean square error\n",
    "\n",
    "    w = w - lr* ((y_pred - y)*x).mean()\n",
    "    b = b - lr* (y_pred - y).mean()\n",
    "    if epoch %10 == 0:\n",
    "        print('epoch=', epoch, 'error=', error, 'w=', w, 'b=', b)\n",
    "        \n",
    "print('---------------------------')\n",
    "print('epoch=', epoch, 'error=', error, 'w=', w, 'b=', b)\n",
    "\n",
    "xx = np.linspace(-5,5,100) \n",
    "yy = w * xx + b\n",
    "plt.plot(xx,yy,c='k') "
   ]
  },
  {
   "cell_type": "markdown",
   "metadata": {},
   "source": [
    "### Ex2: Training two features (x1, x2)  ( y = w1*x1 + w2*x2 + b)"
   ]
  },
  {
   "cell_type": "code",
   "execution_count": null,
   "metadata": {},
   "outputs": [],
   "source": []
  }
 ],
 "metadata": {
  "kernelspec": {
   "display_name": "Python 3",
   "language": "python",
   "name": "python3"
  },
  "language_info": {
   "codemirror_mode": {
    "name": "ipython",
    "version": 3
   },
   "file_extension": ".py",
   "mimetype": "text/x-python",
   "name": "python",
   "nbconvert_exporter": "python",
   "pygments_lexer": "ipython3",
   "version": "3.7.4"
  }
 },
 "nbformat": 4,
 "nbformat_minor": 4
}
